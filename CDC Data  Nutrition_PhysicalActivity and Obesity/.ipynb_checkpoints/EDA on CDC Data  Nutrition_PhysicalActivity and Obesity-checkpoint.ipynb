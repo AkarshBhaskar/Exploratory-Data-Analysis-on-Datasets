{
 "cells": [
  {
   "cell_type": "code",
   "execution_count": 1,
   "metadata": {},
   "outputs": [],
   "source": [
    "import pandas as pd , matplotlib as plt , numpy as np, seaborn as sns\n",
    "from sklearn.preprocessing import LabelEncoder\n",
    "import warnings\n",
    "warnings.filterwarnings(\"ignore\")"
   ]
  },
  {
   "cell_type": "code",
   "execution_count": 2,
   "metadata": {},
   "outputs": [
    {
     "name": "stdout",
     "output_type": "stream",
     "text": [
      "(53392, 33)\n"
     ]
    },
    {
     "data": {
      "text/html": [
       "<div>\n",
       "<style scoped>\n",
       "    .dataframe tbody tr th:only-of-type {\n",
       "        vertical-align: middle;\n",
       "    }\n",
       "\n",
       "    .dataframe tbody tr th {\n",
       "        vertical-align: top;\n",
       "    }\n",
       "\n",
       "    .dataframe thead th {\n",
       "        text-align: right;\n",
       "    }\n",
       "</style>\n",
       "<table border=\"1\" class=\"dataframe\">\n",
       "  <thead>\n",
       "    <tr style=\"text-align: right;\">\n",
       "      <th></th>\n",
       "      <th>YearStart</th>\n",
       "      <th>YearEnd</th>\n",
       "      <th>Data_Value_Unit</th>\n",
       "      <th>Data_Value</th>\n",
       "      <th>Data_Value_Alt</th>\n",
       "      <th>Low_Confidence_Limit</th>\n",
       "      <th>High_Confidence_Limit</th>\n",
       "      <th>Sample_Size</th>\n",
       "      <th>LocationID</th>\n",
       "    </tr>\n",
       "  </thead>\n",
       "  <tbody>\n",
       "    <tr>\n",
       "      <th>count</th>\n",
       "      <td>53392.000000</td>\n",
       "      <td>53392.000000</td>\n",
       "      <td>0.0</td>\n",
       "      <td>48346.000000</td>\n",
       "      <td>48346.000000</td>\n",
       "      <td>48346.000000</td>\n",
       "      <td>48346.000000</td>\n",
       "      <td>48346.00000</td>\n",
       "      <td>53392.000000</td>\n",
       "    </tr>\n",
       "    <tr>\n",
       "      <th>mean</th>\n",
       "      <td>2013.281465</td>\n",
       "      <td>2013.281465</td>\n",
       "      <td>NaN</td>\n",
       "      <td>31.156681</td>\n",
       "      <td>31.156681</td>\n",
       "      <td>26.892227</td>\n",
       "      <td>35.989997</td>\n",
       "      <td>3889.19286</td>\n",
       "      <td>30.282215</td>\n",
       "    </tr>\n",
       "    <tr>\n",
       "      <th>std</th>\n",
       "      <td>1.693300</td>\n",
       "      <td>1.693300</td>\n",
       "      <td>NaN</td>\n",
       "      <td>10.247033</td>\n",
       "      <td>10.247033</td>\n",
       "      <td>10.038584</td>\n",
       "      <td>11.205813</td>\n",
       "      <td>19829.42129</td>\n",
       "      <td>16.821318</td>\n",
       "    </tr>\n",
       "    <tr>\n",
       "      <th>min</th>\n",
       "      <td>2011.000000</td>\n",
       "      <td>2011.000000</td>\n",
       "      <td>NaN</td>\n",
       "      <td>0.900000</td>\n",
       "      <td>0.900000</td>\n",
       "      <td>0.300000</td>\n",
       "      <td>3.000000</td>\n",
       "      <td>50.00000</td>\n",
       "      <td>1.000000</td>\n",
       "    </tr>\n",
       "    <tr>\n",
       "      <th>25%</th>\n",
       "      <td>2012.000000</td>\n",
       "      <td>2012.000000</td>\n",
       "      <td>NaN</td>\n",
       "      <td>24.100000</td>\n",
       "      <td>24.100000</td>\n",
       "      <td>20.000000</td>\n",
       "      <td>28.200000</td>\n",
       "      <td>566.00000</td>\n",
       "      <td>17.000000</td>\n",
       "    </tr>\n",
       "    <tr>\n",
       "      <th>50%</th>\n",
       "      <td>2013.000000</td>\n",
       "      <td>2013.000000</td>\n",
       "      <td>NaN</td>\n",
       "      <td>30.700000</td>\n",
       "      <td>30.700000</td>\n",
       "      <td>26.450000</td>\n",
       "      <td>35.600000</td>\n",
       "      <td>1209.00000</td>\n",
       "      <td>30.000000</td>\n",
       "    </tr>\n",
       "    <tr>\n",
       "      <th>75%</th>\n",
       "      <td>2015.000000</td>\n",
       "      <td>2015.000000</td>\n",
       "      <td>NaN</td>\n",
       "      <td>37.000000</td>\n",
       "      <td>37.000000</td>\n",
       "      <td>32.900000</td>\n",
       "      <td>42.200000</td>\n",
       "      <td>2519.00000</td>\n",
       "      <td>44.000000</td>\n",
       "    </tr>\n",
       "    <tr>\n",
       "      <th>max</th>\n",
       "      <td>2016.000000</td>\n",
       "      <td>2016.000000</td>\n",
       "      <td>NaN</td>\n",
       "      <td>77.600000</td>\n",
       "      <td>77.600000</td>\n",
       "      <td>69.500000</td>\n",
       "      <td>87.700000</td>\n",
       "      <td>476876.00000</td>\n",
       "      <td>78.000000</td>\n",
       "    </tr>\n",
       "  </tbody>\n",
       "</table>\n",
       "</div>"
      ],
      "text/plain": [
       "          YearStart       YearEnd  Data_Value_Unit    Data_Value  \\\n",
       "count  53392.000000  53392.000000              0.0  48346.000000   \n",
       "mean    2013.281465   2013.281465              NaN     31.156681   \n",
       "std        1.693300      1.693300              NaN     10.247033   \n",
       "min     2011.000000   2011.000000              NaN      0.900000   \n",
       "25%     2012.000000   2012.000000              NaN     24.100000   \n",
       "50%     2013.000000   2013.000000              NaN     30.700000   \n",
       "75%     2015.000000   2015.000000              NaN     37.000000   \n",
       "max     2016.000000   2016.000000              NaN     77.600000   \n",
       "\n",
       "       Data_Value_Alt  Low_Confidence_Limit  High_Confidence_Limit   \\\n",
       "count    48346.000000          48346.000000            48346.000000   \n",
       "mean        31.156681             26.892227               35.989997   \n",
       "std         10.247033             10.038584               11.205813   \n",
       "min          0.900000              0.300000                3.000000   \n",
       "25%         24.100000             20.000000               28.200000   \n",
       "50%         30.700000             26.450000               35.600000   \n",
       "75%         37.000000             32.900000               42.200000   \n",
       "max         77.600000             69.500000               87.700000   \n",
       "\n",
       "        Sample_Size    LocationID  \n",
       "count   48346.00000  53392.000000  \n",
       "mean     3889.19286     30.282215  \n",
       "std     19829.42129     16.821318  \n",
       "min        50.00000      1.000000  \n",
       "25%       566.00000     17.000000  \n",
       "50%      1209.00000     30.000000  \n",
       "75%      2519.00000     44.000000  \n",
       "max    476876.00000     78.000000  "
      ]
     },
     "execution_count": 2,
     "metadata": {},
     "output_type": "execute_result"
    }
   ],
   "source": [
    "df=pd.read_csv(\"Nutrition__Physical_Activity__and_Obesity_-_Behavioral_Risk_Factor_Surveillance_System.csv\")\n",
    "print(df.shape)\n",
    "df.describe()\n"
   ]
  },
  {
   "cell_type": "code",
   "execution_count": 3,
   "metadata": {},
   "outputs": [
    {
     "name": "stdout",
     "output_type": "stream",
     "text": [
      "<class 'pandas.core.frame.DataFrame'>\n",
      "RangeIndex: 53392 entries, 0 to 53391\n",
      "Data columns (total 33 columns):\n",
      " #   Column                      Non-Null Count  Dtype  \n",
      "---  ------                      --------------  -----  \n",
      " 0   YearStart                   53392 non-null  int64  \n",
      " 1   YearEnd                     53392 non-null  int64  \n",
      " 2   LocationAbbr                53392 non-null  object \n",
      " 3   LocationDesc                53392 non-null  object \n",
      " 4   Datasource                  53392 non-null  object \n",
      " 5   Class                       53392 non-null  object \n",
      " 6   Topic                       53392 non-null  object \n",
      " 7   Question                    53392 non-null  object \n",
      " 8   Data_Value_Unit             0 non-null      float64\n",
      " 9   Data_Value_Type             53392 non-null  object \n",
      " 10  Data_Value                  48346 non-null  float64\n",
      " 11  Data_Value_Alt              48346 non-null  float64\n",
      " 12  Data_Value_Footnote_Symbol  5046 non-null   object \n",
      " 13  Data_Value_Footnote         5046 non-null   object \n",
      " 14  Low_Confidence_Limit        48346 non-null  float64\n",
      " 15  High_Confidence_Limit       48346 non-null  float64\n",
      " 16  Sample_Size                 48346 non-null  float64\n",
      " 17  Total                       1907 non-null   object \n",
      " 18  Age(years)                  11438 non-null  object \n",
      " 19  Education                   7628 non-null   object \n",
      " 20  Gender                      3814 non-null   object \n",
      " 21  Income                      13349 non-null  object \n",
      " 22  Race/Ethnicity              15256 non-null  object \n",
      " 23  GeoLocation                 52384 non-null  object \n",
      " 24  ClassID                     53392 non-null  object \n",
      " 25  TopicID                     53392 non-null  object \n",
      " 26  QuestionID                  53392 non-null  object \n",
      " 27  DataValueTypeID             53392 non-null  object \n",
      " 28  LocationID                  53392 non-null  int64  \n",
      " 29  StratificationCategory1     53392 non-null  object \n",
      " 30  Stratification1             53392 non-null  object \n",
      " 31  StratificationCategoryId1   53392 non-null  object \n",
      " 32  StratificationID1           53392 non-null  object \n",
      "dtypes: float64(6), int64(3), object(24)\n",
      "memory usage: 13.4+ MB\n"
     ]
    }
   ],
   "source": [
    "df.info()"
   ]
  },
  {
   "cell_type": "code",
   "execution_count": 4,
   "metadata": {},
   "outputs": [
    {
     "data": {
      "text/html": [
       "<div>\n",
       "<style scoped>\n",
       "    .dataframe tbody tr th:only-of-type {\n",
       "        vertical-align: middle;\n",
       "    }\n",
       "\n",
       "    .dataframe tbody tr th {\n",
       "        vertical-align: top;\n",
       "    }\n",
       "\n",
       "    .dataframe thead th {\n",
       "        text-align: right;\n",
       "    }\n",
       "</style>\n",
       "<table border=\"1\" class=\"dataframe\">\n",
       "  <thead>\n",
       "    <tr style=\"text-align: right;\">\n",
       "      <th></th>\n",
       "      <th>YearStart</th>\n",
       "      <th>YearEnd</th>\n",
       "      <th>LocationAbbr</th>\n",
       "      <th>LocationDesc</th>\n",
       "      <th>Datasource</th>\n",
       "      <th>Class</th>\n",
       "      <th>Topic</th>\n",
       "      <th>Question</th>\n",
       "      <th>Data_Value_Unit</th>\n",
       "      <th>Data_Value_Type</th>\n",
       "      <th>...</th>\n",
       "      <th>GeoLocation</th>\n",
       "      <th>ClassID</th>\n",
       "      <th>TopicID</th>\n",
       "      <th>QuestionID</th>\n",
       "      <th>DataValueTypeID</th>\n",
       "      <th>LocationID</th>\n",
       "      <th>StratificationCategory1</th>\n",
       "      <th>Stratification1</th>\n",
       "      <th>StratificationCategoryId1</th>\n",
       "      <th>StratificationID1</th>\n",
       "    </tr>\n",
       "  </thead>\n",
       "  <tbody>\n",
       "    <tr>\n",
       "      <th>0</th>\n",
       "      <td>2011</td>\n",
       "      <td>2011</td>\n",
       "      <td>AL</td>\n",
       "      <td>Alabama</td>\n",
       "      <td>Behavioral Risk Factor Surveillance System</td>\n",
       "      <td>Obesity / Weight Status</td>\n",
       "      <td>Obesity / Weight Status</td>\n",
       "      <td>Percent of adults aged 18 years and older who ...</td>\n",
       "      <td>NaN</td>\n",
       "      <td>Value</td>\n",
       "      <td>...</td>\n",
       "      <td>(32.84057112200048, -86.63186076199969)</td>\n",
       "      <td>OWS</td>\n",
       "      <td>OWS1</td>\n",
       "      <td>Q036</td>\n",
       "      <td>VALUE</td>\n",
       "      <td>1</td>\n",
       "      <td>Total</td>\n",
       "      <td>Total</td>\n",
       "      <td>OVR</td>\n",
       "      <td>OVERALL</td>\n",
       "    </tr>\n",
       "    <tr>\n",
       "      <th>1</th>\n",
       "      <td>2011</td>\n",
       "      <td>2011</td>\n",
       "      <td>AL</td>\n",
       "      <td>Alabama</td>\n",
       "      <td>Behavioral Risk Factor Surveillance System</td>\n",
       "      <td>Obesity / Weight Status</td>\n",
       "      <td>Obesity / Weight Status</td>\n",
       "      <td>Percent of adults aged 18 years and older who ...</td>\n",
       "      <td>NaN</td>\n",
       "      <td>Value</td>\n",
       "      <td>...</td>\n",
       "      <td>(32.84057112200048, -86.63186076199969)</td>\n",
       "      <td>OWS</td>\n",
       "      <td>OWS1</td>\n",
       "      <td>Q036</td>\n",
       "      <td>VALUE</td>\n",
       "      <td>1</td>\n",
       "      <td>Gender</td>\n",
       "      <td>Male</td>\n",
       "      <td>GEN</td>\n",
       "      <td>MALE</td>\n",
       "    </tr>\n",
       "    <tr>\n",
       "      <th>2</th>\n",
       "      <td>2011</td>\n",
       "      <td>2011</td>\n",
       "      <td>AL</td>\n",
       "      <td>Alabama</td>\n",
       "      <td>Behavioral Risk Factor Surveillance System</td>\n",
       "      <td>Obesity / Weight Status</td>\n",
       "      <td>Obesity / Weight Status</td>\n",
       "      <td>Percent of adults aged 18 years and older who ...</td>\n",
       "      <td>NaN</td>\n",
       "      <td>Value</td>\n",
       "      <td>...</td>\n",
       "      <td>(32.84057112200048, -86.63186076199969)</td>\n",
       "      <td>OWS</td>\n",
       "      <td>OWS1</td>\n",
       "      <td>Q036</td>\n",
       "      <td>VALUE</td>\n",
       "      <td>1</td>\n",
       "      <td>Gender</td>\n",
       "      <td>Female</td>\n",
       "      <td>GEN</td>\n",
       "      <td>FEMALE</td>\n",
       "    </tr>\n",
       "    <tr>\n",
       "      <th>3</th>\n",
       "      <td>2011</td>\n",
       "      <td>2011</td>\n",
       "      <td>AL</td>\n",
       "      <td>Alabama</td>\n",
       "      <td>Behavioral Risk Factor Surveillance System</td>\n",
       "      <td>Obesity / Weight Status</td>\n",
       "      <td>Obesity / Weight Status</td>\n",
       "      <td>Percent of adults aged 18 years and older who ...</td>\n",
       "      <td>NaN</td>\n",
       "      <td>Value</td>\n",
       "      <td>...</td>\n",
       "      <td>(32.84057112200048, -86.63186076199969)</td>\n",
       "      <td>OWS</td>\n",
       "      <td>OWS1</td>\n",
       "      <td>Q036</td>\n",
       "      <td>VALUE</td>\n",
       "      <td>1</td>\n",
       "      <td>Education</td>\n",
       "      <td>Less than high school</td>\n",
       "      <td>EDU</td>\n",
       "      <td>EDUHS</td>\n",
       "    </tr>\n",
       "    <tr>\n",
       "      <th>4</th>\n",
       "      <td>2011</td>\n",
       "      <td>2011</td>\n",
       "      <td>AL</td>\n",
       "      <td>Alabama</td>\n",
       "      <td>Behavioral Risk Factor Surveillance System</td>\n",
       "      <td>Obesity / Weight Status</td>\n",
       "      <td>Obesity / Weight Status</td>\n",
       "      <td>Percent of adults aged 18 years and older who ...</td>\n",
       "      <td>NaN</td>\n",
       "      <td>Value</td>\n",
       "      <td>...</td>\n",
       "      <td>(32.84057112200048, -86.63186076199969)</td>\n",
       "      <td>OWS</td>\n",
       "      <td>OWS1</td>\n",
       "      <td>Q036</td>\n",
       "      <td>VALUE</td>\n",
       "      <td>1</td>\n",
       "      <td>Education</td>\n",
       "      <td>High school graduate</td>\n",
       "      <td>EDU</td>\n",
       "      <td>EDUHSGRAD</td>\n",
       "    </tr>\n",
       "    <tr>\n",
       "      <th>...</th>\n",
       "      <td>...</td>\n",
       "      <td>...</td>\n",
       "      <td>...</td>\n",
       "      <td>...</td>\n",
       "      <td>...</td>\n",
       "      <td>...</td>\n",
       "      <td>...</td>\n",
       "      <td>...</td>\n",
       "      <td>...</td>\n",
       "      <td>...</td>\n",
       "      <td>...</td>\n",
       "      <td>...</td>\n",
       "      <td>...</td>\n",
       "      <td>...</td>\n",
       "      <td>...</td>\n",
       "      <td>...</td>\n",
       "      <td>...</td>\n",
       "      <td>...</td>\n",
       "      <td>...</td>\n",
       "      <td>...</td>\n",
       "      <td>...</td>\n",
       "    </tr>\n",
       "    <tr>\n",
       "      <th>53387</th>\n",
       "      <td>2016</td>\n",
       "      <td>2016</td>\n",
       "      <td>VI</td>\n",
       "      <td>Virgin Islands</td>\n",
       "      <td>Behavioral Risk Factor Surveillance System</td>\n",
       "      <td>Physical Activity</td>\n",
       "      <td>Physical Activity - Behavior</td>\n",
       "      <td>Percent of adults who engage in no leisure-tim...</td>\n",
       "      <td>NaN</td>\n",
       "      <td>Value</td>\n",
       "      <td>...</td>\n",
       "      <td>(18.335765, -64.896335)</td>\n",
       "      <td>PA</td>\n",
       "      <td>PA1</td>\n",
       "      <td>Q047</td>\n",
       "      <td>VALUE</td>\n",
       "      <td>78</td>\n",
       "      <td>Race/Ethnicity</td>\n",
       "      <td>Asian</td>\n",
       "      <td>RACE</td>\n",
       "      <td>RACEASN</td>\n",
       "    </tr>\n",
       "    <tr>\n",
       "      <th>53388</th>\n",
       "      <td>2016</td>\n",
       "      <td>2016</td>\n",
       "      <td>VI</td>\n",
       "      <td>Virgin Islands</td>\n",
       "      <td>Behavioral Risk Factor Surveillance System</td>\n",
       "      <td>Physical Activity</td>\n",
       "      <td>Physical Activity - Behavior</td>\n",
       "      <td>Percent of adults who engage in no leisure-tim...</td>\n",
       "      <td>NaN</td>\n",
       "      <td>Value</td>\n",
       "      <td>...</td>\n",
       "      <td>(18.335765, -64.896335)</td>\n",
       "      <td>PA</td>\n",
       "      <td>PA1</td>\n",
       "      <td>Q047</td>\n",
       "      <td>VALUE</td>\n",
       "      <td>78</td>\n",
       "      <td>Race/Ethnicity</td>\n",
       "      <td>Hawaiian/Pacific Islander</td>\n",
       "      <td>RACE</td>\n",
       "      <td>RACEHPI</td>\n",
       "    </tr>\n",
       "    <tr>\n",
       "      <th>53389</th>\n",
       "      <td>2016</td>\n",
       "      <td>2016</td>\n",
       "      <td>VI</td>\n",
       "      <td>Virgin Islands</td>\n",
       "      <td>Behavioral Risk Factor Surveillance System</td>\n",
       "      <td>Physical Activity</td>\n",
       "      <td>Physical Activity - Behavior</td>\n",
       "      <td>Percent of adults who engage in no leisure-tim...</td>\n",
       "      <td>NaN</td>\n",
       "      <td>Value</td>\n",
       "      <td>...</td>\n",
       "      <td>(18.335765, -64.896335)</td>\n",
       "      <td>PA</td>\n",
       "      <td>PA1</td>\n",
       "      <td>Q047</td>\n",
       "      <td>VALUE</td>\n",
       "      <td>78</td>\n",
       "      <td>Race/Ethnicity</td>\n",
       "      <td>American Indian/Alaska Native</td>\n",
       "      <td>RACE</td>\n",
       "      <td>RACENAA</td>\n",
       "    </tr>\n",
       "    <tr>\n",
       "      <th>53390</th>\n",
       "      <td>2016</td>\n",
       "      <td>2016</td>\n",
       "      <td>VI</td>\n",
       "      <td>Virgin Islands</td>\n",
       "      <td>Behavioral Risk Factor Surveillance System</td>\n",
       "      <td>Physical Activity</td>\n",
       "      <td>Physical Activity - Behavior</td>\n",
       "      <td>Percent of adults who engage in no leisure-tim...</td>\n",
       "      <td>NaN</td>\n",
       "      <td>Value</td>\n",
       "      <td>...</td>\n",
       "      <td>(18.335765, -64.896335)</td>\n",
       "      <td>PA</td>\n",
       "      <td>PA1</td>\n",
       "      <td>Q047</td>\n",
       "      <td>VALUE</td>\n",
       "      <td>78</td>\n",
       "      <td>Race/Ethnicity</td>\n",
       "      <td>2 or more races</td>\n",
       "      <td>RACE</td>\n",
       "      <td>RACE2PLUS</td>\n",
       "    </tr>\n",
       "    <tr>\n",
       "      <th>53391</th>\n",
       "      <td>2016</td>\n",
       "      <td>2016</td>\n",
       "      <td>VI</td>\n",
       "      <td>Virgin Islands</td>\n",
       "      <td>Behavioral Risk Factor Surveillance System</td>\n",
       "      <td>Physical Activity</td>\n",
       "      <td>Physical Activity - Behavior</td>\n",
       "      <td>Percent of adults who engage in no leisure-tim...</td>\n",
       "      <td>NaN</td>\n",
       "      <td>Value</td>\n",
       "      <td>...</td>\n",
       "      <td>(18.335765, -64.896335)</td>\n",
       "      <td>PA</td>\n",
       "      <td>PA1</td>\n",
       "      <td>Q047</td>\n",
       "      <td>VALUE</td>\n",
       "      <td>78</td>\n",
       "      <td>Race/Ethnicity</td>\n",
       "      <td>Other</td>\n",
       "      <td>RACE</td>\n",
       "      <td>RACEOTH</td>\n",
       "    </tr>\n",
       "  </tbody>\n",
       "</table>\n",
       "<p>53392 rows × 33 columns</p>\n",
       "</div>"
      ],
      "text/plain": [
       "       YearStart  YearEnd LocationAbbr    LocationDesc  \\\n",
       "0           2011     2011           AL         Alabama   \n",
       "1           2011     2011           AL         Alabama   \n",
       "2           2011     2011           AL         Alabama   \n",
       "3           2011     2011           AL         Alabama   \n",
       "4           2011     2011           AL         Alabama   \n",
       "...          ...      ...          ...             ...   \n",
       "53387       2016     2016           VI  Virgin Islands   \n",
       "53388       2016     2016           VI  Virgin Islands   \n",
       "53389       2016     2016           VI  Virgin Islands   \n",
       "53390       2016     2016           VI  Virgin Islands   \n",
       "53391       2016     2016           VI  Virgin Islands   \n",
       "\n",
       "                                       Datasource                    Class  \\\n",
       "0      Behavioral Risk Factor Surveillance System  Obesity / Weight Status   \n",
       "1      Behavioral Risk Factor Surveillance System  Obesity / Weight Status   \n",
       "2      Behavioral Risk Factor Surveillance System  Obesity / Weight Status   \n",
       "3      Behavioral Risk Factor Surveillance System  Obesity / Weight Status   \n",
       "4      Behavioral Risk Factor Surveillance System  Obesity / Weight Status   \n",
       "...                                           ...                      ...   \n",
       "53387  Behavioral Risk Factor Surveillance System        Physical Activity   \n",
       "53388  Behavioral Risk Factor Surveillance System        Physical Activity   \n",
       "53389  Behavioral Risk Factor Surveillance System        Physical Activity   \n",
       "53390  Behavioral Risk Factor Surveillance System        Physical Activity   \n",
       "53391  Behavioral Risk Factor Surveillance System        Physical Activity   \n",
       "\n",
       "                              Topic  \\\n",
       "0           Obesity / Weight Status   \n",
       "1           Obesity / Weight Status   \n",
       "2           Obesity / Weight Status   \n",
       "3           Obesity / Weight Status   \n",
       "4           Obesity / Weight Status   \n",
       "...                             ...   \n",
       "53387  Physical Activity - Behavior   \n",
       "53388  Physical Activity - Behavior   \n",
       "53389  Physical Activity - Behavior   \n",
       "53390  Physical Activity - Behavior   \n",
       "53391  Physical Activity - Behavior   \n",
       "\n",
       "                                                Question  Data_Value_Unit  \\\n",
       "0      Percent of adults aged 18 years and older who ...              NaN   \n",
       "1      Percent of adults aged 18 years and older who ...              NaN   \n",
       "2      Percent of adults aged 18 years and older who ...              NaN   \n",
       "3      Percent of adults aged 18 years and older who ...              NaN   \n",
       "4      Percent of adults aged 18 years and older who ...              NaN   \n",
       "...                                                  ...              ...   \n",
       "53387  Percent of adults who engage in no leisure-tim...              NaN   \n",
       "53388  Percent of adults who engage in no leisure-tim...              NaN   \n",
       "53389  Percent of adults who engage in no leisure-tim...              NaN   \n",
       "53390  Percent of adults who engage in no leisure-tim...              NaN   \n",
       "53391  Percent of adults who engage in no leisure-tim...              NaN   \n",
       "\n",
       "      Data_Value_Type  ...                              GeoLocation  ClassID  \\\n",
       "0               Value  ...  (32.84057112200048, -86.63186076199969)      OWS   \n",
       "1               Value  ...  (32.84057112200048, -86.63186076199969)      OWS   \n",
       "2               Value  ...  (32.84057112200048, -86.63186076199969)      OWS   \n",
       "3               Value  ...  (32.84057112200048, -86.63186076199969)      OWS   \n",
       "4               Value  ...  (32.84057112200048, -86.63186076199969)      OWS   \n",
       "...               ...  ...                                      ...      ...   \n",
       "53387           Value  ...                  (18.335765, -64.896335)       PA   \n",
       "53388           Value  ...                  (18.335765, -64.896335)       PA   \n",
       "53389           Value  ...                  (18.335765, -64.896335)       PA   \n",
       "53390           Value  ...                  (18.335765, -64.896335)       PA   \n",
       "53391           Value  ...                  (18.335765, -64.896335)       PA   \n",
       "\n",
       "      TopicID QuestionID  DataValueTypeID  LocationID  \\\n",
       "0        OWS1       Q036            VALUE           1   \n",
       "1        OWS1       Q036            VALUE           1   \n",
       "2        OWS1       Q036            VALUE           1   \n",
       "3        OWS1       Q036            VALUE           1   \n",
       "4        OWS1       Q036            VALUE           1   \n",
       "...       ...        ...              ...         ...   \n",
       "53387     PA1       Q047            VALUE          78   \n",
       "53388     PA1       Q047            VALUE          78   \n",
       "53389     PA1       Q047            VALUE          78   \n",
       "53390     PA1       Q047            VALUE          78   \n",
       "53391     PA1       Q047            VALUE          78   \n",
       "\n",
       "       StratificationCategory1                Stratification1  \\\n",
       "0                        Total                          Total   \n",
       "1                       Gender                           Male   \n",
       "2                       Gender                         Female   \n",
       "3                    Education          Less than high school   \n",
       "4                    Education           High school graduate   \n",
       "...                        ...                            ...   \n",
       "53387           Race/Ethnicity                          Asian   \n",
       "53388           Race/Ethnicity      Hawaiian/Pacific Islander   \n",
       "53389           Race/Ethnicity  American Indian/Alaska Native   \n",
       "53390           Race/Ethnicity                2 or more races   \n",
       "53391           Race/Ethnicity                          Other   \n",
       "\n",
       "      StratificationCategoryId1 StratificationID1  \n",
       "0                           OVR           OVERALL  \n",
       "1                           GEN              MALE  \n",
       "2                           GEN            FEMALE  \n",
       "3                           EDU             EDUHS  \n",
       "4                           EDU         EDUHSGRAD  \n",
       "...                         ...               ...  \n",
       "53387                      RACE           RACEASN  \n",
       "53388                      RACE           RACEHPI  \n",
       "53389                      RACE           RACENAA  \n",
       "53390                      RACE         RACE2PLUS  \n",
       "53391                      RACE           RACEOTH  \n",
       "\n",
       "[53392 rows x 33 columns]"
      ]
     },
     "execution_count": 4,
     "metadata": {},
     "output_type": "execute_result"
    }
   ],
   "source": [
    "df"
   ]
  },
  {
   "cell_type": "code",
   "execution_count": 5,
   "metadata": {},
   "outputs": [
    {
     "data": {
      "text/plain": [
       "Physical Activity          26628\n",
       "Obesity / Weight Status    17920\n",
       "Fruits and Vegetables       8844\n",
       "Name: Class, dtype: int64"
      ]
     },
     "execution_count": 5,
     "metadata": {},
     "output_type": "execute_result"
    }
   ],
   "source": [
    "df['Class'].value_counts()"
   ]
  },
  {
   "cell_type": "code",
   "execution_count": 33,
   "metadata": {},
   "outputs": [
    {
     "data": {
      "text/plain": [
       "<AxesSubplot:xlabel='Sample_Size'>"
      ]
     },
     "execution_count": 33,
     "metadata": {},
     "output_type": "execute_result"
    },
    {
     "data": {
      "image/png": "[encoded data removed]",
      "text/plain": [
       "<Figure size 432x288 with 1 Axes>"
      ]
     },
     "metadata": {
      "needs_background": "light"
     },
     "output_type": "display_data"
    }
   ],
   "source": [
    "sns.boxplot(df['Sample_Size'])"
   ]
  },
  {
   "cell_type": "code",
   "execution_count": 34,
   "metadata": {},
   "outputs": [
    {
     "data": {
      "text/plain": [
       "6991"
      ]
     },
     "execution_count": 34,
     "metadata": {},
     "output_type": "execute_result"
    }
   ],
   "source": [
    "column='Sample_Size'\n",
    "iqr=df[column].quantile(0.75) - df[column].quantile(0.25)\n",
    "lower_range=df[column].quantile(0.25) - (1.5*iqr)\n",
    "higher_range=df[column].quantile(0.75) + (1.5*iqr)\n",
    "df[column][df[column]>higher_range].count()"
   ]
  },
  {
   "cell_type": "code",
   "execution_count": 6,
   "metadata": {},
   "outputs": [
    {
     "name": "stdout",
     "output_type": "stream",
     "text": [
      "(53392, 33)\n",
      "(53392, 32)\n"
     ]
    }
   ],
   "source": [
    "#Since Class and Topic columns are same we can drop one of them(topic)\n",
    "print(df.shape)\n",
    "df.drop('Topic',axis=1,inplace=True)\n",
    "print(df.shape) ##confirming its deleted"
   ]
  },
  {
   "cell_type": "code",
   "execution_count": 7,
   "metadata": {},
   "outputs": [
    {
     "data": {
      "text/plain": [
       "Percent of adults aged 18 years and older who have obesity                                                                                                                                                                                               8960\n",
       "Percent of adults aged 18 years and older who have an overweight classification                                                                                                                                                                          8960\n",
       "Percent of adults who engage in no leisure-time physical activity                                                                                                                                                                                        8932\n",
       "Percent of adults who achieve at least 150 minutes a week of moderate-intensity aerobic physical activity or 75 minutes a week of vigorous-intensity aerobic physical activity and engage in muscle-strengthening activities on 2 or more days a week    4424\n",
       "Percent of adults who achieve at least 300 minutes a week of moderate-intensity aerobic physical activity or 150 minutes a week of vigorous-intensity aerobic activity (or an equivalent combination)                                                    4424\n",
       "Percent of adults who achieve at least 150 minutes a week of moderate-intensity aerobic physical activity or 75 minutes a week of vigorous-intensity aerobic activity (or an equivalent combination)                                                     4424\n",
       "Percent of adults who engage in muscle-strengthening activities on 2 or more days a week                                                                                                                                                                 4424\n",
       "Percent of adults who report consuming vegetables less than one time daily                                                                                                                                                                               4424\n",
       "Percent of adults who report consuming fruit less than one time daily                                                                                                                                                                                    4420\n",
       "Name: Question, dtype: int64"
      ]
     },
     "execution_count": 7,
     "metadata": {},
     "output_type": "execute_result"
    }
   ],
   "source": [
    "df['Question'].value_counts() #maybe one-hot encoding"
   ]
  },
  {
   "cell_type": "code",
   "execution_count": 8,
   "metadata": {},
   "outputs": [
    {
     "name": "stdout",
     "output_type": "stream",
     "text": [
      "(53392, 32)\n",
      "Behavioral Risk Factor Surveillance System    53392\n",
      "Name: Datasource, dtype: int64\n",
      "(53392, 10)\n"
     ]
    }
   ],
   "source": [
    "print(df.shape)\n",
    "print(df['Datasource'].value_counts()) #Since its same for all the rows its not necessary\n",
    "df.drop(['Data_Value_Alt','Datasource','Data_Value_Type','Data_Value_Footnote_Symbol', 'DataValueTypeID'],axis=1,inplace=True)\n",
    "df.drop(['TopicID','LocationAbbr','LocationDesc'],axis=1,inplace=True)#Since LocationID is present and its unnessary for training\n",
    "df.drop(['Class','Question','GeoLocation','StratificationCategory1','Stratification1'],axis=1,inplace=True)#Since their respective IDs are present, others are unnessary\n",
    "df.drop(['Data_Value_Unit','Data_Value_Footnote','Total', 'Age(years)', 'Education', 'Gender','Income', 'Race/Ethnicity'],axis=1,inplace=True)#Null columns or >50% null values \n",
    "df.drop(['YearEnd'],axis=1,inplace=True)#Difference of YearStart and YearEnd is same and are identical\n",
    "print(df.shape)"
   ]
  },
  {
   "cell_type": "code",
   "execution_count": null,
   "metadata": {},
   "outputs": [],
   "source": []
  },
  {
   "cell_type": "code",
   "execution_count": 9,
   "metadata": {},
   "outputs": [
    {
     "data": {
      "text/plain": [
       "Index(['YearStart', 'Data_Value', 'Low_Confidence_Limit',\n",
       "       'High_Confidence_Limit ', 'Sample_Size', 'ClassID', 'QuestionID',\n",
       "       'LocationID', 'StratificationCategoryId1', 'StratificationID1'],\n",
       "      dtype='object')"
      ]
     },
     "execution_count": 9,
     "metadata": {},
     "output_type": "execute_result"
    }
   ],
   "source": [
    "df.columns"
   ]
  },
  {
   "cell_type": "code",
   "execution_count": null,
   "metadata": {},
   "outputs": [],
   "source": []
  },
  {
   "cell_type": "markdown",
   "metadata": {},
   "source": [
    "## Why the count is greater than no. of rows?\n"
   ]
  },
  {
   "cell_type": "code",
   "execution_count": 10,
   "metadata": {},
   "outputs": [
    {
     "name": "stdout",
     "output_type": "stream",
     "text": [
      "8123\n"
     ]
    }
   ],
   "source": [
    "print(df['Sample_Size'].value_counts().count())"
   ]
  },
  {
   "cell_type": "code",
   "execution_count": 11,
   "metadata": {},
   "outputs": [
    {
     "name": "stdout",
     "output_type": "stream",
     "text": [
      "(53392, 10)\n"
     ]
    },
    {
     "data": {
      "text/html": [
       "<div>\n",
       "<style scoped>\n",
       "    .dataframe tbody tr th:only-of-type {\n",
       "        vertical-align: middle;\n",
       "    }\n",
       "\n",
       "    .dataframe tbody tr th {\n",
       "        vertical-align: top;\n",
       "    }\n",
       "\n",
       "    .dataframe thead th {\n",
       "        text-align: right;\n",
       "    }\n",
       "</style>\n",
       "<table border=\"1\" class=\"dataframe\">\n",
       "  <thead>\n",
       "    <tr style=\"text-align: right;\">\n",
       "      <th></th>\n",
       "      <th>YearStart</th>\n",
       "      <th>Data_Value</th>\n",
       "      <th>Low_Confidence_Limit</th>\n",
       "      <th>High_Confidence_Limit</th>\n",
       "      <th>Sample_Size</th>\n",
       "      <th>ClassID</th>\n",
       "      <th>QuestionID</th>\n",
       "      <th>LocationID</th>\n",
       "      <th>StratificationCategoryId1</th>\n",
       "      <th>StratificationID1</th>\n",
       "    </tr>\n",
       "  </thead>\n",
       "  <tbody>\n",
       "    <tr>\n",
       "      <th>0</th>\n",
       "      <td>2011</td>\n",
       "      <td>32.0</td>\n",
       "      <td>30.5</td>\n",
       "      <td>33.5</td>\n",
       "      <td>7304.0</td>\n",
       "      <td>OWS</td>\n",
       "      <td>Q036</td>\n",
       "      <td>1</td>\n",
       "      <td>OVR</td>\n",
       "      <td>OVERALL</td>\n",
       "    </tr>\n",
       "    <tr>\n",
       "      <th>1</th>\n",
       "      <td>2011</td>\n",
       "      <td>32.3</td>\n",
       "      <td>29.9</td>\n",
       "      <td>34.7</td>\n",
       "      <td>2581.0</td>\n",
       "      <td>OWS</td>\n",
       "      <td>Q036</td>\n",
       "      <td>1</td>\n",
       "      <td>GEN</td>\n",
       "      <td>MALE</td>\n",
       "    </tr>\n",
       "  </tbody>\n",
       "</table>\n",
       "</div>"
      ],
      "text/plain": [
       "   YearStart  Data_Value  Low_Confidence_Limit  High_Confidence_Limit   \\\n",
       "0       2011        32.0                  30.5                    33.5   \n",
       "1       2011        32.3                  29.9                    34.7   \n",
       "\n",
       "   Sample_Size ClassID QuestionID  LocationID StratificationCategoryId1  \\\n",
       "0       7304.0     OWS       Q036           1                       OVR   \n",
       "1       2581.0     OWS       Q036           1                       GEN   \n",
       "\n",
       "  StratificationID1  \n",
       "0           OVERALL  \n",
       "1              MALE  "
      ]
     },
     "execution_count": 11,
     "metadata": {},
     "output_type": "execute_result"
    }
   ],
   "source": [
    "print(df.shape)\n",
    "df.head(2)"
   ]
  },
  {
   "cell_type": "code",
   "execution_count": null,
   "metadata": {},
   "outputs": [],
   "source": []
  },
  {
   "cell_type": "code",
   "execution_count": null,
   "metadata": {},
   "outputs": [],
   "source": []
  },
  {
   "cell_type": "code",
   "execution_count": null,
   "metadata": {},
   "outputs": [],
   "source": []
  },
  {
   "cell_type": "markdown",
   "metadata": {},
   "source": [
    "## Numerical Null Columns\n"
   ]
  },
  {
   "cell_type": "code",
   "execution_count": 12,
   "metadata": {},
   "outputs": [
    {
     "data": {
      "text/plain": [
       "Index(['YearStart', 'Data_Value', 'Low_Confidence_Limit',\n",
       "       'High_Confidence_Limit ', 'Sample_Size', 'LocationID'],\n",
       "      dtype='object')"
      ]
     },
     "execution_count": 12,
     "metadata": {},
     "output_type": "execute_result"
    }
   ],
   "source": [
    "num_cols=df.select_dtypes(include=['int64','float64']).columns\n",
    "num_cols"
   ]
  },
  {
   "cell_type": "code",
   "execution_count": 13,
   "metadata": {},
   "outputs": [
    {
     "name": "stdout",
     "output_type": "stream",
     "text": [
      "Data_Value 5046\n",
      "Low_Confidence_Limit 5046\n",
      "High_Confidence_Limit  5046\n",
      "Sample_Size 5046\n"
     ]
    },
    {
     "data": {
      "text/plain": [
       "['Data_Value', 'Low_Confidence_Limit', 'High_Confidence_Limit ', 'Sample_Size']"
      ]
     },
     "execution_count": 13,
     "metadata": {},
     "output_type": "execute_result"
    }
   ],
   "source": [
    "num_null_columns=[]\n",
    "for column in num_cols:\n",
    "    if df[column].isnull().sum()>0:\n",
    "        num_null_columns.append(column)\n",
    "        print(column,df[column].isnull().sum())\n",
    "num_null_columns"
   ]
  },
  {
   "cell_type": "markdown",
   "metadata": {},
   "source": [
    "## Outliers Columns\n"
   ]
  },
  {
   "cell_type": "code",
   "execution_count": 14,
   "metadata": {},
   "outputs": [
    {
     "data": {
      "text/plain": [
       "['Data_Value', 'Low_Confidence_Limit', 'High_Confidence_Limit ', 'Sample_Size']"
      ]
     },
     "execution_count": 14,
     "metadata": {},
     "output_type": "execute_result"
    }
   ],
   "source": [
    "outlier_cols=[]\n",
    "for column in num_cols:\n",
    "    iqr=df[column].quantile(0.75) - df[column].quantile(0.25)\n",
    "    lower_range=df[column].quantile(0.25) - (1.5*iqr)\n",
    "    higher_range=df[column].quantile(0.75) + (1.5*iqr)\n",
    "    \n",
    "    if df[column][df[column]<lower_range].count() > 0 or df[column][df[column]>higher_range].count() > 0:\n",
    "        outlier_cols.append(column)\n",
    "outlier_cols        "
   ]
  },
  {
   "cell_type": "markdown",
   "metadata": {},
   "source": [
    "## Null imputation\n",
    "\n"
   ]
  },
  {
   "cell_type": "code",
   "execution_count": 15,
   "metadata": {},
   "outputs": [],
   "source": [
    "#if column is having outliers then median imputation orelse mean imputation\n",
    "for column in num_null_columns:\n",
    "    if column in outlier_cols:\n",
    "        df[column]=df[column].fillna(df[column].median())\n",
    "    else:\n",
    "        df[column]=df[column].fillna(df[column].mean())\n",
    "        "
   ]
  },
  {
   "cell_type": "code",
   "execution_count": 16,
   "metadata": {},
   "outputs": [
    {
     "name": "stdout",
     "output_type": "stream",
     "text": [
      "0\n",
      "0\n",
      "0\n",
      "0\n"
     ]
    }
   ],
   "source": [
    "#confirming that the null values are imputed\n",
    "for column in num_null_columns:\n",
    "    print(df[column].isnull().sum())"
   ]
  },
  {
   "cell_type": "markdown",
   "metadata": {},
   "source": [
    "## Outlier Imputation"
   ]
  },
  {
   "cell_type": "code",
   "execution_count": 17,
   "metadata": {},
   "outputs": [],
   "source": [
    "for column in outlier_cols:\n",
    "    iqr=df[column].quantile(0.75) - df[column].quantile(0.25)\n",
    "    lower_range=df[column].quantile(0.25) - (1.5*iqr)\n",
    "    higher_range=df[column].quantile(0.75) + (1.5*iqr)\n",
    "    if df[column][df[column]<lower_range].count()>0 or df[column][df[column]>higher_range].count()>0:\n",
    "        replace_higher_value=df[column].quantile(0.8)\n",
    "        replace_lower_value=df[column].quantile(0.2)\n",
    "        outliers_treated=np.where(df[column]>higher_range,replace_higher_value,df[column])\n",
    "        df[column]=pd.DataFrame(outliers_treated)\n",
    "        outliers_treated=np.where(df[column]<lower_range,replace_lower_value,df[column])\n",
    "        df[column]=pd.DataFrame(outliers_treated)"
   ]
  },
  {
   "cell_type": "code",
   "execution_count": 18,
   "metadata": {},
   "outputs": [
    {
     "name": "stdout",
     "output_type": "stream",
     "text": [
      "False\n",
      "False\n",
      "False\n",
      "False\n"
     ]
    }
   ],
   "source": [
    "#Confirmation whether outliers treated or not\n",
    "for columns in outlier_cols:\n",
    "    if df[column][df[column]<lower_range].count()>0 or df[column][df[column]>higher_range].count()>0:\n",
    "        print(True)\n",
    "    else:\n",
    "        print(False)\n"
   ]
  },
  {
   "cell_type": "code",
   "execution_count": 19,
   "metadata": {},
   "outputs": [
    {
     "data": {
      "text/plain": [
       "Index(['ClassID', 'QuestionID', 'StratificationCategoryId1',\n",
       "       'StratificationID1'],\n",
       "      dtype='object')"
      ]
     },
     "execution_count": 19,
     "metadata": {},
     "output_type": "execute_result"
    }
   ],
   "source": [
    "caterogical_cols=df.select_dtypes('object').columns\n",
    "caterogical_cols"
   ]
  },
  {
   "cell_type": "code",
   "execution_count": 20,
   "metadata": {},
   "outputs": [
    {
     "data": {
      "text/plain": [
       "RACE     15256\n",
       "INC      13349\n",
       "AGEYR    11438\n",
       "EDU       7628\n",
       "GEN       3814\n",
       "OVR       1907\n",
       "Name: StratificationCategoryId1, dtype: int64"
      ]
     },
     "execution_count": 20,
     "metadata": {},
     "output_type": "execute_result"
    }
   ],
   "source": [
    "df['StratificationCategoryId1'].value_counts()"
   ]
  },
  {
   "cell_type": "code",
   "execution_count": 21,
   "metadata": {},
   "outputs": [
    {
     "data": {
      "text/plain": [
       "EDUCOTEC       1907\n",
       "EDUHSGRAD      1907\n",
       "INC1525        1907\n",
       "INCLESS15      1907\n",
       "RACENAA        1907\n",
       "RACEHPI        1907\n",
       "AGEYR3544      1907\n",
       "INC75PLUS      1907\n",
       "INCNR          1907\n",
       "RACEHIS        1907\n",
       "OVERALL        1907\n",
       "EDUHS          1907\n",
       "INC5075        1907\n",
       "RACEASN        1907\n",
       "RACE2PLUS      1907\n",
       "RACEWHT        1907\n",
       "MALE           1907\n",
       "FEMALE         1907\n",
       "INC3550        1907\n",
       "RACEOTH        1907\n",
       "RACEBLK        1907\n",
       "EDUCOGRAD      1907\n",
       "INC2535        1907\n",
       "AGEYR4554      1907\n",
       "AGEYR65PLUS    1906\n",
       "AGEYR5564      1906\n",
       "AGEYR2534      1906\n",
       "AGEYR1824      1906\n",
       "Name: StratificationID1, dtype: int64"
      ]
     },
     "execution_count": 21,
     "metadata": {},
     "output_type": "execute_result"
    }
   ],
   "source": [
    "df['StratificationID1'].value_counts()"
   ]
  },
  {
   "cell_type": "code",
   "execution_count": 22,
   "metadata": {},
   "outputs": [
    {
     "data": {
      "text/plain": [
       "Q037    8960\n",
       "Q036    8960\n",
       "Q047    8932\n",
       "Q019    4424\n",
       "Q043    4424\n",
       "Q045    4424\n",
       "Q044    4424\n",
       "Q046    4424\n",
       "Q018    4420\n",
       "Name: QuestionID, dtype: int64"
      ]
     },
     "execution_count": 22,
     "metadata": {},
     "output_type": "execute_result"
    }
   ],
   "source": [
    "df['QuestionID'].value_counts()"
   ]
  },
  {
   "cell_type": "code",
   "execution_count": 23,
   "metadata": {},
   "outputs": [
    {
     "data": {
      "text/plain": [
       "PA     26628\n",
       "OWS    17920\n",
       "FV      8844\n",
       "Name: ClassID, dtype: int64"
      ]
     },
     "execution_count": 23,
     "metadata": {},
     "output_type": "execute_result"
    }
   ],
   "source": [
    "df['ClassID'].value_counts()"
   ]
  },
  {
   "cell_type": "markdown",
   "metadata": {},
   "source": [
    "## Since the class for each column in Categorical columns are more than 2 performing label encoding"
   ]
  },
  {
   "cell_type": "code",
   "execution_count": 24,
   "metadata": {},
   "outputs": [
    {
     "data": {
      "text/plain": [
       "1    26628\n",
       "2    17920\n",
       "3     8844\n",
       "Name: ClassID, dtype: int64"
      ]
     },
     "execution_count": 24,
     "metadata": {},
     "output_type": "execute_result"
    }
   ],
   "source": [
    "df['ClassID']=df['ClassID'].map({'PA':1,'OWS':2,'FV':3})\n",
    "df['ClassID'].value_counts()"
   ]
  },
  {
   "cell_type": "code",
   "execution_count": 25,
   "metadata": {},
   "outputs": [
    {
     "data": {
      "text/plain": [
       "37    8960\n",
       "36    8960\n",
       "47    8932\n",
       "19    4424\n",
       "46    4424\n",
       "45    4424\n",
       "44    4424\n",
       "43    4424\n",
       "18    4420\n",
       "Name: QuestionID, dtype: int64"
      ]
     },
     "execution_count": 25,
     "metadata": {},
     "output_type": "execute_result"
    }
   ],
   "source": [
    "df['QuestionID']=df['QuestionID'].map({ 'Q037':37,'Q036':36, 'Q047':47,'Q044':44,'Q043':43,'Q045':45,'Q019':19,'Q046':46,'Q018':18})\n",
    "df['QuestionID'].value_counts()"
   ]
  },
  {
   "cell_type": "code",
   "execution_count": 26,
   "metadata": {},
   "outputs": [
    {
     "data": {
      "text/plain": [
       "1    15256\n",
       "2    13349\n",
       "3    11438\n",
       "4     7628\n",
       "5     3814\n",
       "6     1907\n",
       "Name: StratificationCategoryId1, dtype: int64"
      ]
     },
     "execution_count": 26,
     "metadata": {},
     "output_type": "execute_result"
    }
   ],
   "source": [
    "df['StratificationCategoryId1']=df['StratificationCategoryId1'].map({'RACE':1,'INC':2,'AGEYR':3,'EDU':4,'GEN':5,'OVR':6})\n",
    "df['StratificationCategoryId1'].value_counts()"
   ]
  },
  {
   "cell_type": "code",
   "execution_count": 27,
   "metadata": {},
   "outputs": [
    {
     "data": {
      "text/plain": [
       "27    1907\n",
       "14    1907\n",
       "2     1907\n",
       "3     1907\n",
       "6     1907\n",
       "7     1907\n",
       "8     1907\n",
       "9     1907\n",
       "10    1907\n",
       "11    1907\n",
       "12    1907\n",
       "26    1907\n",
       "13    1907\n",
       "15    1907\n",
       "16    1907\n",
       "17    1907\n",
       "18    1907\n",
       "19    1907\n",
       "20    1907\n",
       "21    1907\n",
       "22    1907\n",
       "23    1907\n",
       "24    1907\n",
       "25    1907\n",
       "5     1906\n",
       "4     1906\n",
       "1     1906\n",
       "0     1906\n",
       "Name: StratificationID1, dtype: int64"
      ]
     },
     "execution_count": 27,
     "metadata": {},
     "output_type": "execute_result"
    }
   ],
   "source": [
    "df['StratificationID1']=LabelEncoder().fit_transform(df['StratificationID1'])\n",
    "df['StratificationID1'].value_counts()"
   ]
  },
  {
   "cell_type": "markdown",
   "metadata": {},
   "source": [
    "## Applying Reciprocal transformation to all the numerical columns"
   ]
  },
  {
   "cell_type": "code",
   "execution_count": 28,
   "metadata": {},
   "outputs": [],
   "source": [
    "for columns in num_cols[1:]:\n",
    "    df[column]=1/(df[column]+1)\n"
   ]
  },
  {
   "cell_type": "markdown",
   "metadata": {},
   "source": [
    "# Final Output"
   ]
  },
  {
   "cell_type": "code",
   "execution_count": 31,
   "metadata": {
    "scrolled": true
   },
   "outputs": [
    {
     "name": "stdout",
     "output_type": "stream",
     "text": [
      "(53392, 10)\n"
     ]
    },
    {
     "data": {
      "text/html": [
       "<div>\n",
       "<style scoped>\n",
       "    .dataframe tbody tr th:only-of-type {\n",
       "        vertical-align: middle;\n",
       "    }\n",
       "\n",
       "    .dataframe tbody tr th {\n",
       "        vertical-align: top;\n",
       "    }\n",
       "\n",
       "    .dataframe thead th {\n",
       "        text-align: right;\n",
       "    }\n",
       "</style>\n",
       "<table border=\"1\" class=\"dataframe\">\n",
       "  <thead>\n",
       "    <tr style=\"text-align: right;\">\n",
       "      <th></th>\n",
       "      <th>YearStart</th>\n",
       "      <th>Data_Value</th>\n",
       "      <th>Low_Confidence_Limit</th>\n",
       "      <th>High_Confidence_Limit</th>\n",
       "      <th>Sample_Size</th>\n",
       "      <th>ClassID</th>\n",
       "      <th>QuestionID</th>\n",
       "      <th>LocationID</th>\n",
       "      <th>StratificationCategoryId1</th>\n",
       "      <th>StratificationID1</th>\n",
       "    </tr>\n",
       "  </thead>\n",
       "  <tbody>\n",
       "    <tr>\n",
       "      <th>0</th>\n",
       "      <td>2011</td>\n",
       "      <td>32.0</td>\n",
       "      <td>30.50</td>\n",
       "      <td>33.5</td>\n",
       "      <td>0.600014</td>\n",
       "      <td>2</td>\n",
       "      <td>36</td>\n",
       "      <td>1</td>\n",
       "      <td>6</td>\n",
       "      <td>19</td>\n",
       "    </tr>\n",
       "    <tr>\n",
       "      <th>1</th>\n",
       "      <td>2011</td>\n",
       "      <td>32.3</td>\n",
       "      <td>29.90</td>\n",
       "      <td>34.7</td>\n",
       "      <td>0.600015</td>\n",
       "      <td>2</td>\n",
       "      <td>36</td>\n",
       "      <td>1</td>\n",
       "      <td>5</td>\n",
       "      <td>18</td>\n",
       "    </tr>\n",
       "    <tr>\n",
       "      <th>2</th>\n",
       "      <td>2011</td>\n",
       "      <td>31.8</td>\n",
       "      <td>30.00</td>\n",
       "      <td>33.6</td>\n",
       "      <td>0.600008</td>\n",
       "      <td>2</td>\n",
       "      <td>36</td>\n",
       "      <td>1</td>\n",
       "      <td>5</td>\n",
       "      <td>10</td>\n",
       "    </tr>\n",
       "    <tr>\n",
       "      <th>3</th>\n",
       "      <td>2011</td>\n",
       "      <td>33.6</td>\n",
       "      <td>29.90</td>\n",
       "      <td>37.6</td>\n",
       "      <td>0.600035</td>\n",
       "      <td>2</td>\n",
       "      <td>36</td>\n",
       "      <td>1</td>\n",
       "      <td>4</td>\n",
       "      <td>8</td>\n",
       "    </tr>\n",
       "    <tr>\n",
       "      <th>4</th>\n",
       "      <td>2011</td>\n",
       "      <td>32.8</td>\n",
       "      <td>30.20</td>\n",
       "      <td>35.6</td>\n",
       "      <td>0.600017</td>\n",
       "      <td>2</td>\n",
       "      <td>36</td>\n",
       "      <td>1</td>\n",
       "      <td>4</td>\n",
       "      <td>9</td>\n",
       "    </tr>\n",
       "    <tr>\n",
       "      <th>...</th>\n",
       "      <td>...</td>\n",
       "      <td>...</td>\n",
       "      <td>...</td>\n",
       "      <td>...</td>\n",
       "      <td>...</td>\n",
       "      <td>...</td>\n",
       "      <td>...</td>\n",
       "      <td>...</td>\n",
       "      <td>...</td>\n",
       "      <td>...</td>\n",
       "    </tr>\n",
       "    <tr>\n",
       "      <th>53387</th>\n",
       "      <td>2016</td>\n",
       "      <td>30.7</td>\n",
       "      <td>26.45</td>\n",
       "      <td>35.6</td>\n",
       "      <td>0.600033</td>\n",
       "      <td>1</td>\n",
       "      <td>47</td>\n",
       "      <td>78</td>\n",
       "      <td>1</td>\n",
       "      <td>21</td>\n",
       "    </tr>\n",
       "    <tr>\n",
       "      <th>53388</th>\n",
       "      <td>2016</td>\n",
       "      <td>30.7</td>\n",
       "      <td>26.45</td>\n",
       "      <td>35.6</td>\n",
       "      <td>0.600033</td>\n",
       "      <td>1</td>\n",
       "      <td>47</td>\n",
       "      <td>78</td>\n",
       "      <td>1</td>\n",
       "      <td>24</td>\n",
       "    </tr>\n",
       "    <tr>\n",
       "      <th>53389</th>\n",
       "      <td>2016</td>\n",
       "      <td>30.7</td>\n",
       "      <td>26.45</td>\n",
       "      <td>35.6</td>\n",
       "      <td>0.600033</td>\n",
       "      <td>1</td>\n",
       "      <td>47</td>\n",
       "      <td>78</td>\n",
       "      <td>1</td>\n",
       "      <td>25</td>\n",
       "    </tr>\n",
       "    <tr>\n",
       "      <th>53390</th>\n",
       "      <td>2016</td>\n",
       "      <td>30.7</td>\n",
       "      <td>26.45</td>\n",
       "      <td>35.6</td>\n",
       "      <td>0.600033</td>\n",
       "      <td>1</td>\n",
       "      <td>47</td>\n",
       "      <td>78</td>\n",
       "      <td>1</td>\n",
       "      <td>20</td>\n",
       "    </tr>\n",
       "    <tr>\n",
       "      <th>53391</th>\n",
       "      <td>2016</td>\n",
       "      <td>30.7</td>\n",
       "      <td>26.45</td>\n",
       "      <td>35.6</td>\n",
       "      <td>0.600033</td>\n",
       "      <td>1</td>\n",
       "      <td>47</td>\n",
       "      <td>78</td>\n",
       "      <td>1</td>\n",
       "      <td>26</td>\n",
       "    </tr>\n",
       "  </tbody>\n",
       "</table>\n",
       "<p>53392 rows × 10 columns</p>\n",
       "</div>"
      ],
      "text/plain": [
       "       YearStart  Data_Value  Low_Confidence_Limit  High_Confidence_Limit   \\\n",
       "0           2011        32.0                 30.50                    33.5   \n",
       "1           2011        32.3                 29.90                    34.7   \n",
       "2           2011        31.8                 30.00                    33.6   \n",
       "3           2011        33.6                 29.90                    37.6   \n",
       "4           2011        32.8                 30.20                    35.6   \n",
       "...          ...         ...                   ...                     ...   \n",
       "53387       2016        30.7                 26.45                    35.6   \n",
       "53388       2016        30.7                 26.45                    35.6   \n",
       "53389       2016        30.7                 26.45                    35.6   \n",
       "53390       2016        30.7                 26.45                    35.6   \n",
       "53391       2016        30.7                 26.45                    35.6   \n",
       "\n",
       "       Sample_Size  ClassID  QuestionID  LocationID  \\\n",
       "0         0.600014        2          36           1   \n",
       "1         0.600015        2          36           1   \n",
       "2         0.600008        2          36           1   \n",
       "3         0.600035        2          36           1   \n",
       "4         0.600017        2          36           1   \n",
       "...            ...      ...         ...         ...   \n",
       "53387     0.600033        1          47          78   \n",
       "53388     0.600033        1          47          78   \n",
       "53389     0.600033        1          47          78   \n",
       "53390     0.600033        1          47          78   \n",
       "53391     0.600033        1          47          78   \n",
       "\n",
       "       StratificationCategoryId1  StratificationID1  \n",
       "0                              6                 19  \n",
       "1                              5                 18  \n",
       "2                              5                 10  \n",
       "3                              4                  8  \n",
       "4                              4                  9  \n",
       "...                          ...                ...  \n",
       "53387                          1                 21  \n",
       "53388                          1                 24  \n",
       "53389                          1                 25  \n",
       "53390                          1                 20  \n",
       "53391                          1                 26  \n",
       "\n",
       "[53392 rows x 10 columns]"
      ]
     },
     "execution_count": 31,
     "metadata": {},
     "output_type": "execute_result"
    }
   ],
   "source": [
    "print(df.shape)\n",
    "df"
   ]
  },
  {
   "cell_type": "code",
   "execution_count": null,
   "metadata": {},
   "outputs": [],
   "source": [
    "\n"
   ]
  },
  {
   "cell_type": "code",
   "execution_count": null,
   "metadata": {},
   "outputs": [],
   "source": []
  }
 ],
 "metadata": {
  "kernelspec": {
   "display_name": "Python 3",
   "language": "python",
   "name": "python3"
  },
  "language_info": {
   "codemirror_mode": {
    "name": "ipython",
    "version": 3
   },
   "file_extension": ".py",
   "mimetype": "text/x-python",
   "name": "python",
   "nbconvert_exporter": "python",
   "pygments_lexer": "ipython3",
   "version": "3.8.5"
  }
 },
 "nbformat": 4,
 "nbformat_minor": 4
}
