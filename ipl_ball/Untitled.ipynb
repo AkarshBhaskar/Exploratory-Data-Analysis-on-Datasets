{
 "cells": [
  {
   "cell_type": "markdown",
   "metadata": {},
   "source": [
    "Dataset: https://www.kaggle.com/datasets/vora1011/ipl-2008-to-2021-all-match-dataset"
   ]
  },
  {
   "cell_type": "code",
   "execution_count": 2,
   "metadata": {},
   "outputs": [],
   "source": [
    "import pandas as pd, numpy as np, matplotlib.pyplot as plt,seaborn as sns\n",
    "import warnings\n",
    "warnings.filterwarnings('ignore')"
   ]
  },
  {
   "cell_type": "code",
   "execution_count": 5,
   "metadata": {},
   "outputs": [],
   "source": [
    "df=pd.read_csv(r\"A:\\datasets\\IPL_Ball_by_Ball_2008_2021.csv\")"
   ]
  },
  {
   "cell_type": "code",
   "execution_count": 6,
   "metadata": {},
   "outputs": [
    {
     "data": {
      "text/html": [
       "<div>\n",
       "<style scoped>\n",
       "    .dataframe tbody tr th:only-of-type {\n",
       "        vertical-align: middle;\n",
       "    }\n",
       "\n",
       "    .dataframe tbody tr th {\n",
       "        vertical-align: top;\n",
       "    }\n",
       "\n",
       "    .dataframe thead th {\n",
       "        text-align: right;\n",
       "    }\n",
       "</style>\n",
       "<table border=\"1\" class=\"dataframe\">\n",
       "  <thead>\n",
       "    <tr style=\"text-align: right;\">\n",
       "      <th></th>\n",
       "      <th>ID</th>\n",
       "      <th>innings</th>\n",
       "      <th>overs</th>\n",
       "      <th>ballnumber</th>\n",
       "      <th>batter</th>\n",
       "      <th>bowler</th>\n",
       "      <th>non-striker</th>\n",
       "      <th>extra_type</th>\n",
       "      <th>batsman_run</th>\n",
       "      <th>extras_run</th>\n",
       "      <th>total_run</th>\n",
       "      <th>non_boundary</th>\n",
       "      <th>isWicketDelivery</th>\n",
       "      <th>player_out</th>\n",
       "      <th>kind</th>\n",
       "      <th>fielders_involved</th>\n",
       "      <th>BattingTeam</th>\n",
       "    </tr>\n",
       "  </thead>\n",
       "  <tbody>\n",
       "    <tr>\n",
       "      <th>0</th>\n",
       "      <td>1254117</td>\n",
       "      <td>1</td>\n",
       "      <td>0</td>\n",
       "      <td>1</td>\n",
       "      <td>RD Gaikwad</td>\n",
       "      <td>Shakib Al Hasan</td>\n",
       "      <td>F du Plessis</td>\n",
       "      <td>NaN</td>\n",
       "      <td>1</td>\n",
       "      <td>0</td>\n",
       "      <td>1</td>\n",
       "      <td>0</td>\n",
       "      <td>0</td>\n",
       "      <td>NaN</td>\n",
       "      <td>NaN</td>\n",
       "      <td>NaN</td>\n",
       "      <td>Chennai Super Kings</td>\n",
       "    </tr>\n",
       "    <tr>\n",
       "      <th>1</th>\n",
       "      <td>1254117</td>\n",
       "      <td>1</td>\n",
       "      <td>0</td>\n",
       "      <td>2</td>\n",
       "      <td>F du Plessis</td>\n",
       "      <td>Shakib Al Hasan</td>\n",
       "      <td>RD Gaikwad</td>\n",
       "      <td>NaN</td>\n",
       "      <td>0</td>\n",
       "      <td>0</td>\n",
       "      <td>0</td>\n",
       "      <td>0</td>\n",
       "      <td>0</td>\n",
       "      <td>NaN</td>\n",
       "      <td>NaN</td>\n",
       "      <td>NaN</td>\n",
       "      <td>Chennai Super Kings</td>\n",
       "    </tr>\n",
       "    <tr>\n",
       "      <th>2</th>\n",
       "      <td>1254117</td>\n",
       "      <td>1</td>\n",
       "      <td>0</td>\n",
       "      <td>3</td>\n",
       "      <td>F du Plessis</td>\n",
       "      <td>Shakib Al Hasan</td>\n",
       "      <td>RD Gaikwad</td>\n",
       "      <td>NaN</td>\n",
       "      <td>1</td>\n",
       "      <td>0</td>\n",
       "      <td>1</td>\n",
       "      <td>0</td>\n",
       "      <td>0</td>\n",
       "      <td>NaN</td>\n",
       "      <td>NaN</td>\n",
       "      <td>NaN</td>\n",
       "      <td>Chennai Super Kings</td>\n",
       "    </tr>\n",
       "    <tr>\n",
       "      <th>3</th>\n",
       "      <td>1254117</td>\n",
       "      <td>1</td>\n",
       "      <td>0</td>\n",
       "      <td>4</td>\n",
       "      <td>RD Gaikwad</td>\n",
       "      <td>Shakib Al Hasan</td>\n",
       "      <td>F du Plessis</td>\n",
       "      <td>NaN</td>\n",
       "      <td>4</td>\n",
       "      <td>0</td>\n",
       "      <td>4</td>\n",
       "      <td>0</td>\n",
       "      <td>0</td>\n",
       "      <td>NaN</td>\n",
       "      <td>NaN</td>\n",
       "      <td>NaN</td>\n",
       "      <td>Chennai Super Kings</td>\n",
       "    </tr>\n",
       "    <tr>\n",
       "      <th>4</th>\n",
       "      <td>1254117</td>\n",
       "      <td>1</td>\n",
       "      <td>0</td>\n",
       "      <td>5</td>\n",
       "      <td>RD Gaikwad</td>\n",
       "      <td>Shakib Al Hasan</td>\n",
       "      <td>F du Plessis</td>\n",
       "      <td>NaN</td>\n",
       "      <td>0</td>\n",
       "      <td>0</td>\n",
       "      <td>0</td>\n",
       "      <td>0</td>\n",
       "      <td>0</td>\n",
       "      <td>NaN</td>\n",
       "      <td>NaN</td>\n",
       "      <td>NaN</td>\n",
       "      <td>Chennai Super Kings</td>\n",
       "    </tr>\n",
       "  </tbody>\n",
       "</table>\n",
       "</div>"
      ],
      "text/plain": [
       "        ID  innings  overs  ballnumber        batter           bowler  \\\n",
       "0  1254117        1      0           1    RD Gaikwad  Shakib Al Hasan   \n",
       "1  1254117        1      0           2  F du Plessis  Shakib Al Hasan   \n",
       "2  1254117        1      0           3  F du Plessis  Shakib Al Hasan   \n",
       "3  1254117        1      0           4    RD Gaikwad  Shakib Al Hasan   \n",
       "4  1254117        1      0           5    RD Gaikwad  Shakib Al Hasan   \n",
       "\n",
       "    non-striker extra_type  batsman_run  extras_run  total_run  non_boundary  \\\n",
       "0  F du Plessis        NaN            1           0          1             0   \n",
       "1    RD Gaikwad        NaN            0           0          0             0   \n",
       "2    RD Gaikwad        NaN            1           0          1             0   \n",
       "3  F du Plessis        NaN            4           0          4             0   \n",
       "4  F du Plessis        NaN            0           0          0             0   \n",
       "\n",
       "   isWicketDelivery player_out kind fielders_involved          BattingTeam  \n",
       "0                 0        NaN  NaN               NaN  Chennai Super Kings  \n",
       "1                 0        NaN  NaN               NaN  Chennai Super Kings  \n",
       "2                 0        NaN  NaN               NaN  Chennai Super Kings  \n",
       "3                 0        NaN  NaN               NaN  Chennai Super Kings  \n",
       "4                 0        NaN  NaN               NaN  Chennai Super Kings  "
      ]
     },
     "execution_count": 6,
     "metadata": {},
     "output_type": "execute_result"
    }
   ],
   "source": [
    "df.head()"
   ]
  },
  {
   "cell_type": "code",
   "execution_count": 7,
   "metadata": {},
   "outputs": [
    {
     "data": {
      "text/plain": [
       "(208042, 17)"
      ]
     },
     "execution_count": 7,
     "metadata": {},
     "output_type": "execute_result"
    }
   ],
   "source": [
    "df.shape"
   ]
  },
  {
   "cell_type": "code",
   "execution_count": 8,
   "metadata": {},
   "outputs": [
    {
     "data": {
      "text/html": [
       "<div>\n",
       "<style scoped>\n",
       "    .dataframe tbody tr th:only-of-type {\n",
       "        vertical-align: middle;\n",
       "    }\n",
       "\n",
       "    .dataframe tbody tr th {\n",
       "        vertical-align: top;\n",
       "    }\n",
       "\n",
       "    .dataframe thead th {\n",
       "        text-align: right;\n",
       "    }\n",
       "</style>\n",
       "<table border=\"1\" class=\"dataframe\">\n",
       "  <thead>\n",
       "    <tr style=\"text-align: right;\">\n",
       "      <th></th>\n",
       "      <th>ID</th>\n",
       "      <th>innings</th>\n",
       "      <th>overs</th>\n",
       "      <th>ballnumber</th>\n",
       "      <th>batsman_run</th>\n",
       "      <th>extras_run</th>\n",
       "      <th>total_run</th>\n",
       "      <th>non_boundary</th>\n",
       "      <th>isWicketDelivery</th>\n",
       "    </tr>\n",
       "  </thead>\n",
       "  <tbody>\n",
       "    <tr>\n",
       "      <th>count</th>\n",
       "      <td>2.080420e+05</td>\n",
       "      <td>208042.000000</td>\n",
       "      <td>208042.000000</td>\n",
       "      <td>208042.000000</td>\n",
       "      <td>208042.000000</td>\n",
       "      <td>208042.000000</td>\n",
       "      <td>208042.000000</td>\n",
       "      <td>208042.000000</td>\n",
       "      <td>208042.000000</td>\n",
       "    </tr>\n",
       "    <tr>\n",
       "      <th>mean</th>\n",
       "      <td>7.913677e+05</td>\n",
       "      <td>1.483744</td>\n",
       "      <td>9.176690</td>\n",
       "      <td>3.616967</td>\n",
       "      <td>1.239783</td>\n",
       "      <td>0.066213</td>\n",
       "      <td>1.305996</td>\n",
       "      <td>0.000087</td>\n",
       "      <td>0.049216</td>\n",
       "    </tr>\n",
       "    <tr>\n",
       "      <th>std</th>\n",
       "      <td>3.212030e+05</td>\n",
       "      <td>0.503388</td>\n",
       "      <td>5.680935</td>\n",
       "      <td>1.808251</td>\n",
       "      <td>1.610708</td>\n",
       "      <td>0.338622</td>\n",
       "      <td>1.598635</td>\n",
       "      <td>0.009301</td>\n",
       "      <td>0.216319</td>\n",
       "    </tr>\n",
       "    <tr>\n",
       "      <th>min</th>\n",
       "      <td>3.359820e+05</td>\n",
       "      <td>1.000000</td>\n",
       "      <td>0.000000</td>\n",
       "      <td>1.000000</td>\n",
       "      <td>0.000000</td>\n",
       "      <td>0.000000</td>\n",
       "      <td>0.000000</td>\n",
       "      <td>0.000000</td>\n",
       "      <td>0.000000</td>\n",
       "    </tr>\n",
       "    <tr>\n",
       "      <th>25%</th>\n",
       "      <td>5.012420e+05</td>\n",
       "      <td>1.000000</td>\n",
       "      <td>4.000000</td>\n",
       "      <td>2.000000</td>\n",
       "      <td>0.000000</td>\n",
       "      <td>0.000000</td>\n",
       "      <td>0.000000</td>\n",
       "      <td>0.000000</td>\n",
       "      <td>0.000000</td>\n",
       "    </tr>\n",
       "    <tr>\n",
       "      <th>50%</th>\n",
       "      <td>7.340090e+05</td>\n",
       "      <td>1.000000</td>\n",
       "      <td>9.000000</td>\n",
       "      <td>4.000000</td>\n",
       "      <td>1.000000</td>\n",
       "      <td>0.000000</td>\n",
       "      <td>1.000000</td>\n",
       "      <td>0.000000</td>\n",
       "      <td>0.000000</td>\n",
       "    </tr>\n",
       "    <tr>\n",
       "      <th>75%</th>\n",
       "      <td>1.136584e+06</td>\n",
       "      <td>2.000000</td>\n",
       "      <td>14.000000</td>\n",
       "      <td>5.000000</td>\n",
       "      <td>1.000000</td>\n",
       "      <td>0.000000</td>\n",
       "      <td>1.000000</td>\n",
       "      <td>0.000000</td>\n",
       "      <td>0.000000</td>\n",
       "    </tr>\n",
       "    <tr>\n",
       "      <th>max</th>\n",
       "      <td>1.254117e+06</td>\n",
       "      <td>6.000000</td>\n",
       "      <td>19.000000</td>\n",
       "      <td>10.000000</td>\n",
       "      <td>6.000000</td>\n",
       "      <td>7.000000</td>\n",
       "      <td>7.000000</td>\n",
       "      <td>1.000000</td>\n",
       "      <td>1.000000</td>\n",
       "    </tr>\n",
       "  </tbody>\n",
       "</table>\n",
       "</div>"
      ],
      "text/plain": [
       "                 ID        innings          overs     ballnumber  \\\n",
       "count  2.080420e+05  208042.000000  208042.000000  208042.000000   \n",
       "mean   7.913677e+05       1.483744       9.176690       3.616967   \n",
       "std    3.212030e+05       0.503388       5.680935       1.808251   \n",
       "min    3.359820e+05       1.000000       0.000000       1.000000   \n",
       "25%    5.012420e+05       1.000000       4.000000       2.000000   \n",
       "50%    7.340090e+05       1.000000       9.000000       4.000000   \n",
       "75%    1.136584e+06       2.000000      14.000000       5.000000   \n",
       "max    1.254117e+06       6.000000      19.000000      10.000000   \n",
       "\n",
       "         batsman_run     extras_run      total_run   non_boundary  \\\n",
       "count  208042.000000  208042.000000  208042.000000  208042.000000   \n",
       "mean        1.239783       0.066213       1.305996       0.000087   \n",
       "std         1.610708       0.338622       1.598635       0.009301   \n",
       "min         0.000000       0.000000       0.000000       0.000000   \n",
       "25%         0.000000       0.000000       0.000000       0.000000   \n",
       "50%         1.000000       0.000000       1.000000       0.000000   \n",
       "75%         1.000000       0.000000       1.000000       0.000000   \n",
       "max         6.000000       7.000000       7.000000       1.000000   \n",
       "\n",
       "       isWicketDelivery  \n",
       "count     208042.000000  \n",
       "mean           0.049216  \n",
       "std            0.216319  \n",
       "min            0.000000  \n",
       "25%            0.000000  \n",
       "50%            0.000000  \n",
       "75%            0.000000  \n",
       "max            1.000000  "
      ]
     },
     "execution_count": 8,
     "metadata": {},
     "output_type": "execute_result"
    }
   ],
   "source": [
    "df.describe()"
   ]
  },
  {
   "cell_type": "code",
   "execution_count": 9,
   "metadata": {},
   "outputs": [
    {
     "name": "stdout",
     "output_type": "stream",
     "text": [
      "<class 'pandas.core.frame.DataFrame'>\n",
      "RangeIndex: 208042 entries, 0 to 208041\n",
      "Data columns (total 17 columns):\n",
      " #   Column             Non-Null Count   Dtype \n",
      "---  ------             --------------   ----- \n",
      " 0   ID                 208042 non-null  int64 \n",
      " 1   innings            208042 non-null  int64 \n",
      " 2   overs              208042 non-null  int64 \n",
      " 3   ballnumber         208042 non-null  int64 \n",
      " 4   batter             208042 non-null  object\n",
      " 5   bowler             208042 non-null  object\n",
      " 6   non-striker        208042 non-null  object\n",
      " 7   extra_type         10999 non-null   object\n",
      " 8   batsman_run        208042 non-null  int64 \n",
      " 9   extras_run         208042 non-null  int64 \n",
      " 10  total_run          208042 non-null  int64 \n",
      " 11  non_boundary       208042 non-null  int64 \n",
      " 12  isWicketDelivery   208042 non-null  int64 \n",
      " 13  player_out         10239 non-null   object\n",
      " 14  kind               10239 non-null   object\n",
      " 15  fielders_involved  7284 non-null    object\n",
      " 16  BattingTeam        208042 non-null  object\n",
      "dtypes: int64(9), object(8)\n",
      "memory usage: 27.0+ MB\n"
     ]
    }
   ],
   "source": [
    "df.info()"
   ]
  },
  {
   "cell_type": "code",
   "execution_count": 10,
   "metadata": {},
   "outputs": [
    {
     "data": {
      "text/plain": [
       "['ID',\n",
       " 'innings',\n",
       " 'overs',\n",
       " 'ballnumber',\n",
       " 'batsman_run',\n",
       " 'extras_run',\n",
       " 'total_run',\n",
       " 'non_boundary',\n",
       " 'isWicketDelivery']"
      ]
     },
     "execution_count": 10,
     "metadata": {},
     "output_type": "execute_result"
    }
   ],
   "source": [
    "num_cols=[i for i in df if df[i].dtype=='int64']\n",
    "num_cols"
   ]
  },
  {
   "cell_type": "code",
   "execution_count": 11,
   "metadata": {},
   "outputs": [
    {
     "data": {
      "text/plain": [
       "['batter',\n",
       " 'bowler',\n",
       " 'non-striker',\n",
       " 'extra_type',\n",
       " 'player_out',\n",
       " 'kind',\n",
       " 'fielders_involved',\n",
       " 'BattingTeam']"
      ]
     },
     "execution_count": 11,
     "metadata": {},
     "output_type": "execute_result"
    }
   ],
   "source": [
    "cat_cols=[i for i in df if df[i].dtype=='object']\n",
    "cat_cols"
   ]
  },
  {
   "cell_type": "code",
   "execution_count": 21,
   "metadata": {},
   "outputs": [
    {
     "name": "stdout",
     "output_type": "stream",
     "text": [
      "Column name: ID\n",
      "nunique: 876\n",
      "mean: 791367.6654954288\n",
      "valueCounts: 1216517    269\n",
      "392190     267\n",
      "1082625    263\n",
      "829737     262\n",
      "729315     262\n",
      "Name: ID, dtype: int64\n",
      "mode: 0    1216517\n",
      "dtype: int64\n",
      "std_dev 321203.01602490625\n"
     ]
    },
    {
     "data": {
      "image/png": "[encoded data removed]",
      "text/plain": [
       "<Figure size 432x288 with 1 Axes>"
      ]
     },
     "metadata": {
      "needs_background": "light"
     },
     "output_type": "display_data"
    },
    {
     "name": "stdout",
     "output_type": "stream",
     "text": [
      "-----------------------------------------------------\n",
      "Column name: innings\n",
      "nunique: 6\n",
      "mean: 1.4837436671441344\n",
      "valueCounts: 1    107664\n",
      "2    100217\n",
      "3        77\n",
      "4        72\n",
      "5         8\n",
      "Name: innings, dtype: int64\n",
      "mode: 0    1\n",
      "dtype: int64\n",
      "std_dev 0.5033881917717454\n"
     ]
    },
    {
     "data": {
      "image/png": "[encoded data removed]",
      "text/plain": [
       "<Figure size 432x288 with 1 Axes>"
      ]
     },
     "metadata": {
      "needs_background": "light"
     },
     "output_type": "display_data"
    },
    {
     "name": "stdout",
     "output_type": "stream",
     "text": [
      "-----------------------------------------------------\n",
      "Column name: overs\n",
      "nunique: 20\n",
      "mean: 9.176690283692716\n",
      "valueCounts: 0    11155\n",
      "1    11012\n",
      "2    10892\n",
      "3    10857\n",
      "4    10833\n",
      "Name: overs, dtype: int64\n",
      "mode: 0    0\n",
      "dtype: int64\n",
      "std_dev 5.680935073316257\n"
     ]
    },
    {
     "data": {
      "image/png": "[encoded data removed]",
      "text/plain": [
       "<Figure size 432x288 with 1 Axes>"
      ]
     },
     "metadata": {
      "needs_background": "light"
     },
     "output_type": "display_data"
    },
    {
     "name": "stdout",
     "output_type": "stream",
     "text": [
      "-----------------------------------------------------\n",
      "Column name: ballnumber\n",
      "nunique: 10\n",
      "mean: 3.6169667663260303\n",
      "valueCounts: 1    33722\n",
      "2    33639\n",
      "3    33550\n",
      "4    33468\n",
      "5    33354\n",
      "Name: ballnumber, dtype: int64\n",
      "mode: 0    1\n",
      "dtype: int64\n",
      "std_dev 1.8082505492136431\n"
     ]
    },
    {
     "data": {
      "image/png": "[encoded data removed]",
      "text/plain": [
       "<Figure size 432x288 with 1 Axes>"
      ]
     },
     "metadata": {
      "needs_background": "light"
     },
     "output_type": "display_data"
    },
    {
     "name": "stdout",
     "output_type": "stream",
     "text": [
      "-----------------------------------------------------\n",
      "Column name: batsman_run\n",
      "nunique: 7\n",
      "mean: 1.239783312984878\n",
      "valueCounts: 0    83411\n",
      "1    77544\n",
      "4    23480\n",
      "2    13292\n",
      "6     9604\n",
      "Name: batsman_run, dtype: int64\n",
      "mode: 0    0\n",
      "dtype: int64\n",
      "std_dev 1.6107079186765696\n"
     ]
    },
    {
     "data": {
      "image/png": "[encoded data removed]",
      "text/plain": [
       "<Figure size 432x288 with 1 Axes>"
      ]
     },
     "metadata": {
      "needs_background": "light"
     },
     "output_type": "display_data"
    },
    {
     "name": "stdout",
     "output_type": "stream",
     "text": [
      "-----------------------------------------------------\n",
      "Column name: extras_run\n",
      "nunique: 7\n",
      "mean: 0.0662125916882168\n",
      "valueCounts: 0    197043\n",
      "1      9818\n",
      "2       466\n",
      "4       398\n",
      "5       239\n",
      "Name: extras_run, dtype: int64\n",
      "mode: 0    0\n",
      "dtype: int64\n",
      "std_dev 0.33862150063640273\n"
     ]
    },
    {
     "data": {
      "image/png": "[encoded data removed]",
      "text/plain": [
       "<Figure size 432x288 with 1 Axes>"
      ]
     },
     "metadata": {
      "needs_background": "light"
     },
     "output_type": "display_data"
    },
    {
     "name": "stdout",
     "output_type": "stream",
     "text": [
      "-----------------------------------------------------\n",
      "Column name: total_run\n",
      "nunique: 8\n",
      "mean: 1.305995904673095\n",
      "valueCounts: 1    86594\n",
      "0    72898\n",
      "4    23779\n",
      "2    13993\n",
      "6     9546\n",
      "Name: total_run, dtype: int64\n",
      "mode: 0    1\n",
      "dtype: int64\n",
      "std_dev 1.598634513157626\n"
     ]
    },
    {
     "data": {
      "image/png": "[encoded data removed]",
      "text/plain": [
       "<Figure size 432x288 with 1 Axes>"
      ]
     },
     "metadata": {
      "needs_background": "light"
     },
     "output_type": "display_data"
    },
    {
     "name": "stdout",
     "output_type": "stream",
     "text": [
      "-----------------------------------------------------\n",
      "Column name: non_boundary\n",
      "nunique: 2\n",
      "mean: 8.652099095374973e-05\n",
      "valueCounts: 0    208024\n",
      "1        18\n",
      "Name: non_boundary, dtype: int64\n",
      "mode: 0    0\n",
      "dtype: int64\n",
      "std_dev 0.009301285982066003\n"
     ]
    },
    {
     "data": {
      "image/png": "[encoded data removed]",
      "text/plain": [
       "<Figure size 432x288 with 1 Axes>"
      ]
     },
     "metadata": {
      "needs_background": "light"
     },
     "output_type": "display_data"
    },
    {
     "name": "stdout",
     "output_type": "stream",
     "text": [
      "-----------------------------------------------------\n",
      "Column name: isWicketDelivery\n",
      "nunique: 2\n",
      "mean: 0.04921602368752463\n",
      "valueCounts: 0    197803\n",
      "1     10239\n",
      "Name: isWicketDelivery, dtype: int64\n",
      "mode: 0    0\n",
      "dtype: int64\n",
      "std_dev 0.21631928167811582\n"
     ]
    },
    {
     "data": {
      "image/png": "[encoded data removed]",
      "text/plain": [
       "<Figure size 432x288 with 1 Axes>"
      ]
     },
     "metadata": {
      "needs_background": "light"
     },
     "output_type": "display_data"
    },
    {
     "name": "stdout",
     "output_type": "stream",
     "text": [
      "-----------------------------------------------------\n"
     ]
    }
   ],
   "source": [
    "for i in num_cols:\n",
    "    print('Column name:',i)\n",
    "    print('nunique:',df[i].nunique())\n",
    "    print('mean:',df[i].mean())\n",
    "    print('valueCounts:',df[i].value_counts()[:5])\n",
    "    print('mode:',df[i].mode())\n",
    "    print('std_dev',df[i].std())\n",
    "    plt.hist(df[i])\n",
    "    plt.show()\n",
    "    print('-----------------------------------------------------')"
   ]
  },
  {
   "cell_type": "code",
   "execution_count": null,
   "metadata": {},
   "outputs": [],
   "source": []
  }
 ],
 "metadata": {
  "kernelspec": {
   "display_name": "Python 3",
   "language": "python",
   "name": "python3"
  },
  "language_info": {
   "codemirror_mode": {
    "name": "ipython",
    "version": 3
   },
   "file_extension": ".py",
   "mimetype": "text/x-python",
   "name": "python",
   "nbconvert_exporter": "python",
   "pygments_lexer": "ipython3",
   "version": "3.8.5"
  }
 },
 "nbformat": 4,
 "nbformat_minor": 4
}
