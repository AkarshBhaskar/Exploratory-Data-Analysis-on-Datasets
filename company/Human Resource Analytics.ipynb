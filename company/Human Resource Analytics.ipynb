{
 "cells": [
  {
   "cell_type": "markdown",
   "metadata": {},
   "source": [
    "Dataset downloaded from: https://www.kaggle.com/datasets/shikhnu/hr-analytics-analytics-vidya"
   ]
  },
  {
   "cell_type": "code",
   "execution_count": 1,
   "metadata": {},
   "outputs": [],
   "source": [
    "import pandas as pd, numpy as np, matplotlib.pyplot as plt, seaborn as sns\n",
    "import warnings\n",
    "warnings.filterwarnings('ignore')"
   ]
  },
  {
   "cell_type": "markdown",
   "metadata": {},
   "source": [
    "#### Step1: data acquasition(public or private)\n",
    "\n",
    "#### Step2: prelimnary(ex:shape,describe,info)\n",
    "\n",
    "#### Step3:   Data cleaning\n",
    "        -Numerical imputation(missing:-mean,median,mode)\n",
    "        -Drop columns (1 unique, 98% missing, mixed data(str,bool,int))\n",
    "        -Object type(str, mix), mode is the best 3 types(ordinal:(ex:weekdays,month),nominal:(ex: colours, names), bivarient(wrt to 2 columns)).\n",
    "\n",
    "#### Step 4: Univarient(deals with one coloumn), Plot a graph to understand the data(skewed or unskewed)\n",
    "#####         numerical \n",
    "         -wont provide much info std,mean,median in continuous values, just gives numbers so use plots(ex:distribution,box plot,histogram,exponential) instead.\n",
    "         -Under continous we have central tendency:mean,median,mode.     Variability:iqr,variance.\n",
    "         -for Discrete data(biased) use value counts, unique values by grouping and pivot tables. for ploting this type of data use bar chart, pie chart,\n",
    "         \n",
    "        "
   ]
  },
  {
   "cell_type": "code",
   "execution_count": 2,
   "metadata": {},
   "outputs": [],
   "source": [
    "df=pd.read_csv(r\"A:\\datasets\\test.csv\")"
   ]
  },
  {
   "cell_type": "code",
   "execution_count": 3,
   "metadata": {},
   "outputs": [
    {
     "data": {
      "text/html": [
       "<div>\n",
       "<style scoped>\n",
       "    .dataframe tbody tr th:only-of-type {\n",
       "        vertical-align: middle;\n",
       "    }\n",
       "\n",
       "    .dataframe tbody tr th {\n",
       "        vertical-align: top;\n",
       "    }\n",
       "\n",
       "    .dataframe thead th {\n",
       "        text-align: right;\n",
       "    }\n",
       "</style>\n",
       "<table border=\"1\" class=\"dataframe\">\n",
       "  <thead>\n",
       "    <tr style=\"text-align: right;\">\n",
       "      <th></th>\n",
       "      <th>employee_id</th>\n",
       "      <th>department</th>\n",
       "      <th>region</th>\n",
       "      <th>education</th>\n",
       "      <th>gender</th>\n",
       "      <th>recruitment_channel</th>\n",
       "      <th>no_of_trainings</th>\n",
       "      <th>age</th>\n",
       "      <th>previous_year_rating</th>\n",
       "      <th>length_of_service</th>\n",
       "      <th>KPIs_met &gt;80%</th>\n",
       "      <th>awards_won?</th>\n",
       "      <th>avg_training_score</th>\n",
       "    </tr>\n",
       "  </thead>\n",
       "  <tbody>\n",
       "    <tr>\n",
       "      <th>0</th>\n",
       "      <td>8724</td>\n",
       "      <td>Technology</td>\n",
       "      <td>region_26</td>\n",
       "      <td>Bachelor's</td>\n",
       "      <td>m</td>\n",
       "      <td>sourcing</td>\n",
       "      <td>1</td>\n",
       "      <td>24</td>\n",
       "      <td>NaN</td>\n",
       "      <td>1</td>\n",
       "      <td>1</td>\n",
       "      <td>0</td>\n",
       "      <td>77</td>\n",
       "    </tr>\n",
       "    <tr>\n",
       "      <th>1</th>\n",
       "      <td>74430</td>\n",
       "      <td>HR</td>\n",
       "      <td>region_4</td>\n",
       "      <td>Bachelor's</td>\n",
       "      <td>f</td>\n",
       "      <td>other</td>\n",
       "      <td>1</td>\n",
       "      <td>31</td>\n",
       "      <td>3.0</td>\n",
       "      <td>5</td>\n",
       "      <td>0</td>\n",
       "      <td>0</td>\n",
       "      <td>51</td>\n",
       "    </tr>\n",
       "    <tr>\n",
       "      <th>2</th>\n",
       "      <td>72255</td>\n",
       "      <td>Sales &amp; Marketing</td>\n",
       "      <td>region_13</td>\n",
       "      <td>Bachelor's</td>\n",
       "      <td>m</td>\n",
       "      <td>other</td>\n",
       "      <td>1</td>\n",
       "      <td>31</td>\n",
       "      <td>1.0</td>\n",
       "      <td>4</td>\n",
       "      <td>0</td>\n",
       "      <td>0</td>\n",
       "      <td>47</td>\n",
       "    </tr>\n",
       "    <tr>\n",
       "      <th>3</th>\n",
       "      <td>38562</td>\n",
       "      <td>Procurement</td>\n",
       "      <td>region_2</td>\n",
       "      <td>Bachelor's</td>\n",
       "      <td>f</td>\n",
       "      <td>other</td>\n",
       "      <td>3</td>\n",
       "      <td>31</td>\n",
       "      <td>2.0</td>\n",
       "      <td>9</td>\n",
       "      <td>0</td>\n",
       "      <td>0</td>\n",
       "      <td>65</td>\n",
       "    </tr>\n",
       "    <tr>\n",
       "      <th>4</th>\n",
       "      <td>64486</td>\n",
       "      <td>Finance</td>\n",
       "      <td>region_29</td>\n",
       "      <td>Bachelor's</td>\n",
       "      <td>m</td>\n",
       "      <td>sourcing</td>\n",
       "      <td>1</td>\n",
       "      <td>30</td>\n",
       "      <td>4.0</td>\n",
       "      <td>7</td>\n",
       "      <td>0</td>\n",
       "      <td>0</td>\n",
       "      <td>61</td>\n",
       "    </tr>\n",
       "  </tbody>\n",
       "</table>\n",
       "</div>"
      ],
      "text/plain": [
       "   employee_id         department     region   education gender  \\\n",
       "0         8724         Technology  region_26  Bachelor's      m   \n",
       "1        74430                 HR   region_4  Bachelor's      f   \n",
       "2        72255  Sales & Marketing  region_13  Bachelor's      m   \n",
       "3        38562        Procurement   region_2  Bachelor's      f   \n",
       "4        64486            Finance  region_29  Bachelor's      m   \n",
       "\n",
       "  recruitment_channel  no_of_trainings  age  previous_year_rating  \\\n",
       "0            sourcing                1   24                   NaN   \n",
       "1               other                1   31                   3.0   \n",
       "2               other                1   31                   1.0   \n",
       "3               other                3   31                   2.0   \n",
       "4            sourcing                1   30                   4.0   \n",
       "\n",
       "   length_of_service  KPIs_met >80%  awards_won?  avg_training_score  \n",
       "0                  1              1            0                  77  \n",
       "1                  5              0            0                  51  \n",
       "2                  4              0            0                  47  \n",
       "3                  9              0            0                  65  \n",
       "4                  7              0            0                  61  "
      ]
     },
     "execution_count": 3,
     "metadata": {},
     "output_type": "execute_result"
    }
   ],
   "source": [
    "df.head()"
   ]
  },
  {
   "cell_type": "code",
   "execution_count": 4,
   "metadata": {},
   "outputs": [
    {
     "name": "stdout",
     "output_type": "stream",
     "text": [
      "<class 'pandas.core.frame.DataFrame'>\n",
      "RangeIndex: 23490 entries, 0 to 23489\n",
      "Data columns (total 13 columns):\n",
      " #   Column                Non-Null Count  Dtype  \n",
      "---  ------                --------------  -----  \n",
      " 0   employee_id           23490 non-null  int64  \n",
      " 1   department            23490 non-null  object \n",
      " 2   region                23490 non-null  object \n",
      " 3   education             22456 non-null  object \n",
      " 4   gender                23490 non-null  object \n",
      " 5   recruitment_channel   23490 non-null  object \n",
      " 6   no_of_trainings       23490 non-null  int64  \n",
      " 7   age                   23490 non-null  int64  \n",
      " 8   previous_year_rating  21678 non-null  float64\n",
      " 9   length_of_service     23490 non-null  int64  \n",
      " 10  KPIs_met >80%         23490 non-null  int64  \n",
      " 11  awards_won?           23490 non-null  int64  \n",
      " 12  avg_training_score    23490 non-null  int64  \n",
      "dtypes: float64(1), int64(7), object(5)\n",
      "memory usage: 2.3+ MB\n"
     ]
    }
   ],
   "source": [
    "df.info()"
   ]
  },
  {
   "cell_type": "code",
   "execution_count": 5,
   "metadata": {},
   "outputs": [
    {
     "data": {
      "text/html": [
       "<div>\n",
       "<style scoped>\n",
       "    .dataframe tbody tr th:only-of-type {\n",
       "        vertical-align: middle;\n",
       "    }\n",
       "\n",
       "    .dataframe tbody tr th {\n",
       "        vertical-align: top;\n",
       "    }\n",
       "\n",
       "    .dataframe thead th {\n",
       "        text-align: right;\n",
       "    }\n",
       "</style>\n",
       "<table border=\"1\" class=\"dataframe\">\n",
       "  <thead>\n",
       "    <tr style=\"text-align: right;\">\n",
       "      <th></th>\n",
       "      <th>employee_id</th>\n",
       "      <th>no_of_trainings</th>\n",
       "      <th>age</th>\n",
       "      <th>previous_year_rating</th>\n",
       "      <th>length_of_service</th>\n",
       "      <th>KPIs_met &gt;80%</th>\n",
       "      <th>awards_won?</th>\n",
       "      <th>avg_training_score</th>\n",
       "    </tr>\n",
       "  </thead>\n",
       "  <tbody>\n",
       "    <tr>\n",
       "      <th>count</th>\n",
       "      <td>23490.000000</td>\n",
       "      <td>23490.000000</td>\n",
       "      <td>23490.000000</td>\n",
       "      <td>21678.000000</td>\n",
       "      <td>23490.000000</td>\n",
       "      <td>23490.000000</td>\n",
       "      <td>23490.000000</td>\n",
       "      <td>23490.000000</td>\n",
       "    </tr>\n",
       "    <tr>\n",
       "      <th>mean</th>\n",
       "      <td>39041.399149</td>\n",
       "      <td>1.254236</td>\n",
       "      <td>34.782929</td>\n",
       "      <td>3.339146</td>\n",
       "      <td>5.810387</td>\n",
       "      <td>0.358834</td>\n",
       "      <td>0.022776</td>\n",
       "      <td>63.263133</td>\n",
       "    </tr>\n",
       "    <tr>\n",
       "      <th>std</th>\n",
       "      <td>22640.809201</td>\n",
       "      <td>0.600910</td>\n",
       "      <td>7.679492</td>\n",
       "      <td>1.263294</td>\n",
       "      <td>4.207917</td>\n",
       "      <td>0.479668</td>\n",
       "      <td>0.149191</td>\n",
       "      <td>13.411750</td>\n",
       "    </tr>\n",
       "    <tr>\n",
       "      <th>min</th>\n",
       "      <td>3.000000</td>\n",
       "      <td>1.000000</td>\n",
       "      <td>20.000000</td>\n",
       "      <td>1.000000</td>\n",
       "      <td>1.000000</td>\n",
       "      <td>0.000000</td>\n",
       "      <td>0.000000</td>\n",
       "      <td>39.000000</td>\n",
       "    </tr>\n",
       "    <tr>\n",
       "      <th>25%</th>\n",
       "      <td>19370.250000</td>\n",
       "      <td>1.000000</td>\n",
       "      <td>29.000000</td>\n",
       "      <td>3.000000</td>\n",
       "      <td>3.000000</td>\n",
       "      <td>0.000000</td>\n",
       "      <td>0.000000</td>\n",
       "      <td>51.000000</td>\n",
       "    </tr>\n",
       "    <tr>\n",
       "      <th>50%</th>\n",
       "      <td>38963.500000</td>\n",
       "      <td>1.000000</td>\n",
       "      <td>33.000000</td>\n",
       "      <td>3.000000</td>\n",
       "      <td>5.000000</td>\n",
       "      <td>0.000000</td>\n",
       "      <td>0.000000</td>\n",
       "      <td>60.000000</td>\n",
       "    </tr>\n",
       "    <tr>\n",
       "      <th>75%</th>\n",
       "      <td>58690.000000</td>\n",
       "      <td>1.000000</td>\n",
       "      <td>39.000000</td>\n",
       "      <td>4.000000</td>\n",
       "      <td>7.000000</td>\n",
       "      <td>1.000000</td>\n",
       "      <td>0.000000</td>\n",
       "      <td>76.000000</td>\n",
       "    </tr>\n",
       "    <tr>\n",
       "      <th>max</th>\n",
       "      <td>78295.000000</td>\n",
       "      <td>9.000000</td>\n",
       "      <td>60.000000</td>\n",
       "      <td>5.000000</td>\n",
       "      <td>34.000000</td>\n",
       "      <td>1.000000</td>\n",
       "      <td>1.000000</td>\n",
       "      <td>99.000000</td>\n",
       "    </tr>\n",
       "  </tbody>\n",
       "</table>\n",
       "</div>"
      ],
      "text/plain": [
       "        employee_id  no_of_trainings           age  previous_year_rating  \\\n",
       "count  23490.000000     23490.000000  23490.000000          21678.000000   \n",
       "mean   39041.399149         1.254236     34.782929              3.339146   \n",
       "std    22640.809201         0.600910      7.679492              1.263294   \n",
       "min        3.000000         1.000000     20.000000              1.000000   \n",
       "25%    19370.250000         1.000000     29.000000              3.000000   \n",
       "50%    38963.500000         1.000000     33.000000              3.000000   \n",
       "75%    58690.000000         1.000000     39.000000              4.000000   \n",
       "max    78295.000000         9.000000     60.000000              5.000000   \n",
       "\n",
       "       length_of_service  KPIs_met >80%   awards_won?  avg_training_score  \n",
       "count       23490.000000   23490.000000  23490.000000        23490.000000  \n",
       "mean            5.810387       0.358834      0.022776           63.263133  \n",
       "std             4.207917       0.479668      0.149191           13.411750  \n",
       "min             1.000000       0.000000      0.000000           39.000000  \n",
       "25%             3.000000       0.000000      0.000000           51.000000  \n",
       "50%             5.000000       0.000000      0.000000           60.000000  \n",
       "75%             7.000000       1.000000      0.000000           76.000000  \n",
       "max            34.000000       1.000000      1.000000           99.000000  "
      ]
     },
     "execution_count": 5,
     "metadata": {},
     "output_type": "execute_result"
    }
   ],
   "source": [
    "df.describe()"
   ]
  },
  {
   "cell_type": "code",
   "execution_count": 6,
   "metadata": {},
   "outputs": [
    {
     "data": {
      "text/plain": [
       "(23490, 13)"
      ]
     },
     "execution_count": 6,
     "metadata": {},
     "output_type": "execute_result"
    }
   ],
   "source": [
    "df.shape"
   ]
  },
  {
   "cell_type": "code",
   "execution_count": 7,
   "metadata": {},
   "outputs": [
    {
     "data": {
      "text/plain": [
       "39041.39914857386"
      ]
     },
     "execution_count": 7,
     "metadata": {},
     "output_type": "execute_result"
    }
   ],
   "source": [
    "df['employee_id'].mean()"
   ]
  },
  {
   "cell_type": "code",
   "execution_count": 8,
   "metadata": {},
   "outputs": [
    {
     "name": "stdout",
     "output_type": "stream",
     "text": [
      "39041.39914857386\n",
      "38963.5\n",
      "0            3\n",
      "1            6\n",
      "2           11\n",
      "3           13\n",
      "4           16\n",
      "         ...  \n",
      "23485    78280\n",
      "23486    78283\n",
      "23487    78284\n",
      "23488    78293\n",
      "23489    78295\n",
      "Length: 23490, dtype: int64\n",
      "3\n",
      "78295\n",
      "22640.809201215736\n"
     ]
    }
   ],
   "source": [
    "print(df['employee_id'].mean())\n",
    "print(df['employee_id'].median())\n",
    "print(df['employee_id'].mode())\n",
    "print(df['employee_id'].min())\n",
    "print(df['employee_id'].max())\n",
    "print(df['employee_id'].std())"
   ]
  },
  {
   "cell_type": "code",
   "execution_count": 9,
   "metadata": {},
   "outputs": [
    {
     "data": {
      "image/png": "[encoded data removed]",
      "text/plain": [
       "<Figure size 432x288 with 1 Axes>"
      ]
     },
     "metadata": {
      "needs_background": "light"
     },
     "output_type": "display_data"
    }
   ],
   "source": [
    "plt.title(\"employee_id\")\n",
    "sns.distplot(df['employee_id'])\n",
    "plt.show()"
   ]
  },
  {
   "cell_type": "code",
   "execution_count": 10,
   "metadata": {},
   "outputs": [
    {
     "data": {
      "text/plain": [
       "1    18928\n",
       "2     3544\n",
       "3      755\n",
       "4      190\n",
       "5       36\n",
       "6       24\n",
       "7        9\n",
       "9        2\n",
       "8        2\n",
       "Name: no_of_trainings, dtype: int64"
      ]
     },
     "execution_count": 10,
     "metadata": {},
     "output_type": "execute_result"
    }
   ],
   "source": [
    "df['no_of_trainings'].value_counts()"
   ]
  },
  {
   "cell_type": "code",
   "execution_count": 11,
   "metadata": {},
   "outputs": [
    {
     "data": {
      "image/png": "[encoded data removed]",
      "text/plain": [
       "<Figure size 432x288 with 1 Axes>"
      ]
     },
     "metadata": {
      "needs_background": "light"
     },
     "output_type": "display_data"
    }
   ],
   "source": [
    "plt.title(\"no_of_trainings\")\n",
    "df['no_of_trainings'].value_counts().plot(kind='bar')\n",
    "plt.show()"
   ]
  },
  {
   "cell_type": "code",
   "execution_count": 12,
   "metadata": {},
   "outputs": [
    {
     "data": {
      "text/plain": [
       "Sales & Marketing    7315\n",
       "Operations           4764\n",
       "Procurement          3020\n",
       "Technology           3011\n",
       "Analytics            2319\n",
       "Finance              1091\n",
       "HR                   1085\n",
       "Legal                 445\n",
       "R&D                   440\n",
       "Name: department, dtype: int64"
      ]
     },
     "execution_count": 12,
     "metadata": {},
     "output_type": "execute_result"
    }
   ],
   "source": [
    "df['department'].value_counts()"
   ]
  },
  {
   "cell_type": "code",
   "execution_count": 13,
   "metadata": {},
   "outputs": [
    {
     "data": {
      "text/plain": [
       "array(['Technology', 'HR', 'Sales & Marketing', 'Procurement', 'Finance',\n",
       "       'Analytics', 'Operations', 'Legal', 'R&D'], dtype=object)"
      ]
     },
     "execution_count": 13,
     "metadata": {},
     "output_type": "execute_result"
    }
   ],
   "source": [
    "df['department'].unique()"
   ]
  },
  {
   "cell_type": "code",
   "execution_count": 14,
   "metadata": {},
   "outputs": [
    {
     "data": {
      "image/png": "[encoded data removed]",
      "text/plain": [
       "<Figure size 432x288 with 1 Axes>"
      ]
     },
     "metadata": {
      "needs_background": "light"
     },
     "output_type": "display_data"
    }
   ],
   "source": [
    "plt.title(\"department\")\n",
    "df['department'].value_counts().plot(kind='bar')\n",
    "plt.show()"
   ]
  },
  {
   "cell_type": "code",
   "execution_count": 15,
   "metadata": {},
   "outputs": [
    {
     "data": {
      "text/html": [
       "<div>\n",
       "<style scoped>\n",
       "    .dataframe tbody tr th:only-of-type {\n",
       "        vertical-align: middle;\n",
       "    }\n",
       "\n",
       "    .dataframe tbody tr th {\n",
       "        vertical-align: top;\n",
       "    }\n",
       "\n",
       "    .dataframe thead th {\n",
       "        text-align: right;\n",
       "    }\n",
       "</style>\n",
       "<table border=\"1\" class=\"dataframe\">\n",
       "  <thead>\n",
       "    <tr style=\"text-align: right;\">\n",
       "      <th></th>\n",
       "      <th>employee_id</th>\n",
       "      <th>department</th>\n",
       "      <th>region</th>\n",
       "      <th>education</th>\n",
       "      <th>gender</th>\n",
       "      <th>recruitment_channel</th>\n",
       "      <th>no_of_trainings</th>\n",
       "      <th>age</th>\n",
       "      <th>previous_year_rating</th>\n",
       "      <th>length_of_service</th>\n",
       "      <th>KPIs_met &gt;80%</th>\n",
       "      <th>awards_won?</th>\n",
       "      <th>avg_training_score</th>\n",
       "    </tr>\n",
       "  </thead>\n",
       "  <tbody>\n",
       "    <tr>\n",
       "      <th>0</th>\n",
       "      <td>8724</td>\n",
       "      <td>Technology</td>\n",
       "      <td>region_26</td>\n",
       "      <td>Bachelor's</td>\n",
       "      <td>m</td>\n",
       "      <td>sourcing</td>\n",
       "      <td>1</td>\n",
       "      <td>24</td>\n",
       "      <td>NaN</td>\n",
       "      <td>1</td>\n",
       "      <td>1</td>\n",
       "      <td>0</td>\n",
       "      <td>77</td>\n",
       "    </tr>\n",
       "    <tr>\n",
       "      <th>1</th>\n",
       "      <td>74430</td>\n",
       "      <td>HR</td>\n",
       "      <td>region_4</td>\n",
       "      <td>Bachelor's</td>\n",
       "      <td>f</td>\n",
       "      <td>other</td>\n",
       "      <td>1</td>\n",
       "      <td>31</td>\n",
       "      <td>3.0</td>\n",
       "      <td>5</td>\n",
       "      <td>0</td>\n",
       "      <td>0</td>\n",
       "      <td>51</td>\n",
       "    </tr>\n",
       "    <tr>\n",
       "      <th>2</th>\n",
       "      <td>72255</td>\n",
       "      <td>Sales &amp; Marketing</td>\n",
       "      <td>region_13</td>\n",
       "      <td>Bachelor's</td>\n",
       "      <td>m</td>\n",
       "      <td>other</td>\n",
       "      <td>1</td>\n",
       "      <td>31</td>\n",
       "      <td>1.0</td>\n",
       "      <td>4</td>\n",
       "      <td>0</td>\n",
       "      <td>0</td>\n",
       "      <td>47</td>\n",
       "    </tr>\n",
       "    <tr>\n",
       "      <th>3</th>\n",
       "      <td>38562</td>\n",
       "      <td>Procurement</td>\n",
       "      <td>region_2</td>\n",
       "      <td>Bachelor's</td>\n",
       "      <td>f</td>\n",
       "      <td>other</td>\n",
       "      <td>3</td>\n",
       "      <td>31</td>\n",
       "      <td>2.0</td>\n",
       "      <td>9</td>\n",
       "      <td>0</td>\n",
       "      <td>0</td>\n",
       "      <td>65</td>\n",
       "    </tr>\n",
       "    <tr>\n",
       "      <th>4</th>\n",
       "      <td>64486</td>\n",
       "      <td>Finance</td>\n",
       "      <td>region_29</td>\n",
       "      <td>Bachelor's</td>\n",
       "      <td>m</td>\n",
       "      <td>sourcing</td>\n",
       "      <td>1</td>\n",
       "      <td>30</td>\n",
       "      <td>4.0</td>\n",
       "      <td>7</td>\n",
       "      <td>0</td>\n",
       "      <td>0</td>\n",
       "      <td>61</td>\n",
       "    </tr>\n",
       "  </tbody>\n",
       "</table>\n",
       "</div>"
      ],
      "text/plain": [
       "   employee_id         department     region   education gender  \\\n",
       "0         8724         Technology  region_26  Bachelor's      m   \n",
       "1        74430                 HR   region_4  Bachelor's      f   \n",
       "2        72255  Sales & Marketing  region_13  Bachelor's      m   \n",
       "3        38562        Procurement   region_2  Bachelor's      f   \n",
       "4        64486            Finance  region_29  Bachelor's      m   \n",
       "\n",
       "  recruitment_channel  no_of_trainings  age  previous_year_rating  \\\n",
       "0            sourcing                1   24                   NaN   \n",
       "1               other                1   31                   3.0   \n",
       "2               other                1   31                   1.0   \n",
       "3               other                3   31                   2.0   \n",
       "4            sourcing                1   30                   4.0   \n",
       "\n",
       "   length_of_service  KPIs_met >80%  awards_won?  avg_training_score  \n",
       "0                  1              1            0                  77  \n",
       "1                  5              0            0                  51  \n",
       "2                  4              0            0                  47  \n",
       "3                  9              0            0                  65  \n",
       "4                  7              0            0                  61  "
      ]
     },
     "execution_count": 15,
     "metadata": {},
     "output_type": "execute_result"
    }
   ],
   "source": [
    "df.head()"
   ]
  },
  {
   "cell_type": "code",
   "execution_count": 16,
   "metadata": {},
   "outputs": [
    {
     "name": "stdout",
     "output_type": "stream",
     "text": [
      "20\n",
      "60\n",
      "7.6794915472916365\n",
      "34.78292890591741\n",
      "33.0\n"
     ]
    }
   ],
   "source": [
    "print(df['age'].min())\n",
    "print(df['age'].max())\n",
    "print(df['age'].std())\n",
    "print(df['age'].mean())\n",
    "print(df['age'].median())"
   ]
  },
  {
   "cell_type": "code",
   "execution_count": 17,
   "metadata": {},
   "outputs": [
    {
     "data": {
      "text/plain": [
       "<AxesSubplot:xlabel='age'>"
      ]
     },
     "execution_count": 17,
     "metadata": {},
     "output_type": "execute_result"
    },
    {
     "data": {
      "image/png": "[encoded data removed]",
      "text/plain": [
       "<Figure size 432x288 with 1 Axes>"
      ]
     },
     "metadata": {
      "needs_background": "light"
     },
     "output_type": "display_data"
    }
   ],
   "source": [
    "sns.boxplot(df['age'])"
   ]
  },
  {
   "cell_type": "code",
   "execution_count": 18,
   "metadata": {},
   "outputs": [
    {
     "data": {
      "text/plain": [
       "array([24, 31, 30, 36, 33, 51, 29, 40, 34, 37, 26, 49, 27, 25, 41, 52, 43,\n",
       "       35, 42, 57, 46, 21, 32, 28, 38, 23, 58, 54, 44, 48, 45, 39, 59, 53,\n",
       "       56, 47, 22, 20, 50, 55, 60], dtype=int64)"
      ]
     },
     "execution_count": 18,
     "metadata": {},
     "output_type": "execute_result"
    }
   ],
   "source": [
    "df['age'].unique()"
   ]
  },
  {
   "cell_type": "code",
   "execution_count": 19,
   "metadata": {},
   "outputs": [
    {
     "data": {
      "text/plain": [
       "3.0    7921\n",
       "5.0    5097\n",
       "4.0    4249\n",
       "1.0    2680\n",
       "2.0    1731\n",
       "Name: previous_year_rating, dtype: int64"
      ]
     },
     "execution_count": 19,
     "metadata": {},
     "output_type": "execute_result"
    }
   ],
   "source": [
    "df['previous_year_rating'].value_counts()"
   ]
  },
  {
   "cell_type": "code",
   "execution_count": 20,
   "metadata": {},
   "outputs": [
    {
     "data": {
      "text/plain": [
       "<AxesSubplot:>"
      ]
     },
     "execution_count": 20,
     "metadata": {},
     "output_type": "execute_result"
    },
    {
     "data": {
      "image/png": "[encoded data removed]",
      "text/plain": [
       "<Figure size 432x288 with 1 Axes>"
      ]
     },
     "metadata": {
      "needs_background": "light"
     },
     "output_type": "display_data"
    }
   ],
   "source": [
    "df['previous_year_rating'].value_counts().plot(kind='bar')"
   ]
  },
  {
   "cell_type": "code",
   "execution_count": 21,
   "metadata": {},
   "outputs": [
    {
     "data": {
      "text/plain": [
       "3.339145677645539"
      ]
     },
     "execution_count": 21,
     "metadata": {},
     "output_type": "execute_result"
    }
   ],
   "source": [
    "df['previous_year_rating'].mean()"
   ]
  },
  {
   "cell_type": "code",
   "execution_count": 22,
   "metadata": {},
   "outputs": [
    {
     "data": {
      "text/plain": [
       "3.0"
      ]
     },
     "execution_count": 22,
     "metadata": {},
     "output_type": "execute_result"
    }
   ],
   "source": [
    "df['previous_year_rating'].median()"
   ]
  },
  {
   "cell_type": "code",
   "execution_count": 23,
   "metadata": {},
   "outputs": [
    {
     "data": {
      "text/plain": [
       "1.2632944089420493"
      ]
     },
     "execution_count": 23,
     "metadata": {},
     "output_type": "execute_result"
    }
   ],
   "source": [
    "df['previous_year_rating'].std()"
   ]
  },
  {
   "cell_type": "code",
   "execution_count": 24,
   "metadata": {},
   "outputs": [],
   "source": [
    "cat_cols=[i for i in df if df[i].dtype=='object']\n",
    "num_cols=[i for i in df if df[i].dtype=='int64']"
   ]
  },
  {
   "cell_type": "code",
   "execution_count": 25,
   "metadata": {},
   "outputs": [
    {
     "data": {
      "text/plain": [
       "(23490, 13)"
      ]
     },
     "execution_count": 25,
     "metadata": {},
     "output_type": "execute_result"
    }
   ],
   "source": [
    "df.shape"
   ]
  },
  {
   "cell_type": "code",
   "execution_count": 26,
   "metadata": {},
   "outputs": [
    {
     "name": "stdout",
     "output_type": "stream",
     "text": [
      "Column name: employee_id\n",
      "nunique: 23490\n",
      "mean: 39041.39914857386\n",
      "valueCounts: 34815    1\n",
      "39622    1\n",
      "60104    1\n",
      "25289    1\n",
      "23902    1\n",
      "Name: employee_id, dtype: int64\n",
      "mode: 0            3\n",
      "1            6\n",
      "2           11\n",
      "3           13\n",
      "4           16\n",
      "         ...  \n",
      "23485    78280\n",
      "23486    78283\n",
      "23487    78284\n",
      "23488    78293\n",
      "23489    78295\n",
      "Length: 23490, dtype: int64\n",
      "std_dev 22640.809201215736\n"
     ]
    },
    {
     "data": {
      "image/png": "[encoded data removed]",
      "text/plain": [
       "<Figure size 432x288 with 1 Axes>"
      ]
     },
     "metadata": {
      "needs_background": "light"
     },
     "output_type": "display_data"
    },
    {
     "name": "stdout",
     "output_type": "stream",
     "text": [
      "-----------------------------------------------------\n",
      "Column name: no_of_trainings\n",
      "nunique: 9\n",
      "mean: 1.2542358450404427\n",
      "valueCounts: 1    18928\n",
      "2     3544\n",
      "3      755\n",
      "4      190\n",
      "5       36\n",
      "Name: no_of_trainings, dtype: int64\n",
      "mode: 0    1\n",
      "dtype: int64\n",
      "std_dev 0.6009097907929271\n"
     ]
    },
    {
     "data": {
      "image/png": "[encoded data removed]",
      "text/plain": [
       "<Figure size 432x288 with 1 Axes>"
      ]
     },
     "metadata": {
      "needs_background": "light"
     },
     "output_type": "display_data"
    },
    {
     "name": "stdout",
     "output_type": "stream",
     "text": [
      "-----------------------------------------------------\n",
      "Column name: age\n",
      "nunique: 41\n",
      "mean: 34.78292890591741\n",
      "valueCounts: 30    1595\n",
      "31    1526\n",
      "32    1481\n",
      "29    1456\n",
      "33    1387\n",
      "Name: age, dtype: int64\n",
      "mode: 0    30\n",
      "dtype: int64\n",
      "std_dev 7.6794915472916365\n"
     ]
    },
    {
     "data": {
      "image/png": "[encoded data removed]",
      "text/plain": [
       "<Figure size 432x288 with 1 Axes>"
      ]
     },
     "metadata": {
      "needs_background": "light"
     },
     "output_type": "display_data"
    },
    {
     "name": "stdout",
     "output_type": "stream",
     "text": [
      "-----------------------------------------------------\n",
      "Column name: length_of_service\n",
      "nunique: 34\n",
      "mean: 5.810387398893146\n",
      "valueCounts: 3    3033\n",
      "4    2911\n",
      "2    2870\n",
      "5    2592\n",
      "7    2344\n",
      "Name: length_of_service, dtype: int64\n",
      "mode: 0    3\n",
      "dtype: int64\n",
      "std_dev 4.207916741708489\n"
     ]
    },
    {
     "data": {
      "image/png": "[encoded data removed]",
      "text/plain": [
       "<Figure size 432x288 with 1 Axes>"
      ]
     },
     "metadata": {
      "needs_background": "light"
     },
     "output_type": "display_data"
    },
    {
     "name": "stdout",
     "output_type": "stream",
     "text": [
      "-----------------------------------------------------\n",
      "Column name: KPIs_met >80%\n",
      "nunique: 2\n",
      "mean: 0.358833546189868\n",
      "valueCounts: 0    15061\n",
      "1     8429\n",
      "Name: KPIs_met >80%, dtype: int64\n",
      "mode: 0    0\n",
      "dtype: int64\n",
      "std_dev 0.47966845550101\n"
     ]
    },
    {
     "data": {
      "image/png": "[encoded data removed]",
      "text/plain": [
       "<Figure size 432x288 with 1 Axes>"
      ]
     },
     "metadata": {
      "needs_background": "light"
     },
     "output_type": "display_data"
    },
    {
     "name": "stdout",
     "output_type": "stream",
     "text": [
      "-----------------------------------------------------\n",
      "Column name: awards_won?\n",
      "nunique: 2\n",
      "mean: 0.02277564921243082\n",
      "valueCounts: 0    22955\n",
      "1      535\n",
      "Name: awards_won?, dtype: int64\n",
      "mode: 0    0\n",
      "dtype: int64\n",
      "std_dev 0.14919070534670184\n"
     ]
    },
    {
     "data": {
      "image/png": "[encoded data removed]",
      "text/plain": [
       "<Figure size 432x288 with 1 Axes>"
      ]
     },
     "metadata": {
      "needs_background": "light"
     },
     "output_type": "display_data"
    },
    {
     "name": "stdout",
     "output_type": "stream",
     "text": [
      "-----------------------------------------------------\n",
      "Column name: avg_training_score\n",
      "nunique: 61\n",
      "mean: 63.26313324819072\n",
      "valueCounts: 50    1227\n",
      "49    1144\n",
      "48    1084\n",
      "51    1023\n",
      "60     889\n",
      "Name: avg_training_score, dtype: int64\n",
      "mode: 0    50\n",
      "dtype: int64\n",
      "std_dev 13.411749689461443\n"
     ]
    },
    {
     "data": {
      "image/png": "[encoded data removed]",
      "text/plain": [
       "<Figure size 432x288 with 1 Axes>"
      ]
     },
     "metadata": {
      "needs_background": "light"
     },
     "output_type": "display_data"
    },
    {
     "name": "stdout",
     "output_type": "stream",
     "text": [
      "-----------------------------------------------------\n"
     ]
    }
   ],
   "source": [
    "for i in num_cols:\n",
    "    print('Column name:',i)\n",
    "    print('nunique:',df[i].nunique())\n",
    "    print('mean:',df[i].mean())\n",
    "    print('valueCounts:',df[i].value_counts()[:5])\n",
    "    print('mode:',df[i].mode())\n",
    "    print('std_dev',df[i].std())\n",
    "    if df[i].value_counts().count()>=5:        \n",
    "        plt.hist(df[i])\n",
    "    else:\n",
    "        df[i].value_counts().plot(kind='bar')\n",
    "        \n",
    "    plt.show()\n",
    "    print('-----------------------------------------------------')"
   ]
  },
  {
   "cell_type": "markdown",
   "metadata": {},
   "source": [
    "## Bivarient Analysis"
   ]
  },
  {
   "cell_type": "markdown",
   "metadata": {},
   "source": [
    "### Data-Numerical and Categorical\n",
    "\n",
    "#### Numerical-Continuous and Discrete\n",
    "\n",
    "Continous-Continous\n",
    "\n",
    "    -we can calculate co-relation\n",
    "    -scatterplot(we can understand cohention,outliers,relativity) because it will take 2 columns.\n",
    "    -pearson-r\n",
    "    \n",
    "Continous-Discrete\n",
    "    \n",
    "    -Frequency Table\n",
    "    -Bar graph\n",
    "#### Categorical- Ordered and Non-Ordered\n",
    "\n",
    "    -Frequency Table\n",
    "    -Contengency Table\n",
    "    "
   ]
  },
  {
   "cell_type": "code",
   "execution_count": 27,
   "metadata": {},
   "outputs": [
    {
     "data": {
      "text/html": [
       "<div>\n",
       "<style scoped>\n",
       "    .dataframe tbody tr th:only-of-type {\n",
       "        vertical-align: middle;\n",
       "    }\n",
       "\n",
       "    .dataframe tbody tr th {\n",
       "        vertical-align: top;\n",
       "    }\n",
       "\n",
       "    .dataframe thead th {\n",
       "        text-align: right;\n",
       "    }\n",
       "</style>\n",
       "<table border=\"1\" class=\"dataframe\">\n",
       "  <thead>\n",
       "    <tr style=\"text-align: right;\">\n",
       "      <th></th>\n",
       "      <th>employee_id</th>\n",
       "      <th>department</th>\n",
       "      <th>region</th>\n",
       "      <th>education</th>\n",
       "      <th>gender</th>\n",
       "      <th>recruitment_channel</th>\n",
       "      <th>no_of_trainings</th>\n",
       "      <th>age</th>\n",
       "      <th>previous_year_rating</th>\n",
       "      <th>length_of_service</th>\n",
       "      <th>KPIs_met &gt;80%</th>\n",
       "      <th>awards_won?</th>\n",
       "      <th>avg_training_score</th>\n",
       "    </tr>\n",
       "  </thead>\n",
       "  <tbody>\n",
       "    <tr>\n",
       "      <th>0</th>\n",
       "      <td>8724</td>\n",
       "      <td>Technology</td>\n",
       "      <td>region_26</td>\n",
       "      <td>Bachelor's</td>\n",
       "      <td>m</td>\n",
       "      <td>sourcing</td>\n",
       "      <td>1</td>\n",
       "      <td>24</td>\n",
       "      <td>NaN</td>\n",
       "      <td>1</td>\n",
       "      <td>1</td>\n",
       "      <td>0</td>\n",
       "      <td>77</td>\n",
       "    </tr>\n",
       "    <tr>\n",
       "      <th>1</th>\n",
       "      <td>74430</td>\n",
       "      <td>HR</td>\n",
       "      <td>region_4</td>\n",
       "      <td>Bachelor's</td>\n",
       "      <td>f</td>\n",
       "      <td>other</td>\n",
       "      <td>1</td>\n",
       "      <td>31</td>\n",
       "      <td>3.0</td>\n",
       "      <td>5</td>\n",
       "      <td>0</td>\n",
       "      <td>0</td>\n",
       "      <td>51</td>\n",
       "    </tr>\n",
       "    <tr>\n",
       "      <th>2</th>\n",
       "      <td>72255</td>\n",
       "      <td>Sales &amp; Marketing</td>\n",
       "      <td>region_13</td>\n",
       "      <td>Bachelor's</td>\n",
       "      <td>m</td>\n",
       "      <td>other</td>\n",
       "      <td>1</td>\n",
       "      <td>31</td>\n",
       "      <td>1.0</td>\n",
       "      <td>4</td>\n",
       "      <td>0</td>\n",
       "      <td>0</td>\n",
       "      <td>47</td>\n",
       "    </tr>\n",
       "    <tr>\n",
       "      <th>3</th>\n",
       "      <td>38562</td>\n",
       "      <td>Procurement</td>\n",
       "      <td>region_2</td>\n",
       "      <td>Bachelor's</td>\n",
       "      <td>f</td>\n",
       "      <td>other</td>\n",
       "      <td>3</td>\n",
       "      <td>31</td>\n",
       "      <td>2.0</td>\n",
       "      <td>9</td>\n",
       "      <td>0</td>\n",
       "      <td>0</td>\n",
       "      <td>65</td>\n",
       "    </tr>\n",
       "    <tr>\n",
       "      <th>4</th>\n",
       "      <td>64486</td>\n",
       "      <td>Finance</td>\n",
       "      <td>region_29</td>\n",
       "      <td>Bachelor's</td>\n",
       "      <td>m</td>\n",
       "      <td>sourcing</td>\n",
       "      <td>1</td>\n",
       "      <td>30</td>\n",
       "      <td>4.0</td>\n",
       "      <td>7</td>\n",
       "      <td>0</td>\n",
       "      <td>0</td>\n",
       "      <td>61</td>\n",
       "    </tr>\n",
       "    <tr>\n",
       "      <th>5</th>\n",
       "      <td>46232</td>\n",
       "      <td>Procurement</td>\n",
       "      <td>region_7</td>\n",
       "      <td>Bachelor's</td>\n",
       "      <td>m</td>\n",
       "      <td>sourcing</td>\n",
       "      <td>1</td>\n",
       "      <td>36</td>\n",
       "      <td>3.0</td>\n",
       "      <td>2</td>\n",
       "      <td>0</td>\n",
       "      <td>0</td>\n",
       "      <td>68</td>\n",
       "    </tr>\n",
       "    <tr>\n",
       "      <th>6</th>\n",
       "      <td>54542</td>\n",
       "      <td>Finance</td>\n",
       "      <td>region_2</td>\n",
       "      <td>Bachelor's</td>\n",
       "      <td>m</td>\n",
       "      <td>other</td>\n",
       "      <td>1</td>\n",
       "      <td>33</td>\n",
       "      <td>5.0</td>\n",
       "      <td>3</td>\n",
       "      <td>1</td>\n",
       "      <td>0</td>\n",
       "      <td>57</td>\n",
       "    </tr>\n",
       "    <tr>\n",
       "      <th>7</th>\n",
       "      <td>67269</td>\n",
       "      <td>Analytics</td>\n",
       "      <td>region_22</td>\n",
       "      <td>Bachelor's</td>\n",
       "      <td>m</td>\n",
       "      <td>sourcing</td>\n",
       "      <td>2</td>\n",
       "      <td>36</td>\n",
       "      <td>3.0</td>\n",
       "      <td>3</td>\n",
       "      <td>0</td>\n",
       "      <td>0</td>\n",
       "      <td>85</td>\n",
       "    </tr>\n",
       "    <tr>\n",
       "      <th>8</th>\n",
       "      <td>66174</td>\n",
       "      <td>Technology</td>\n",
       "      <td>region_7</td>\n",
       "      <td>Master's &amp; above</td>\n",
       "      <td>m</td>\n",
       "      <td>other</td>\n",
       "      <td>1</td>\n",
       "      <td>51</td>\n",
       "      <td>4.0</td>\n",
       "      <td>11</td>\n",
       "      <td>0</td>\n",
       "      <td>0</td>\n",
       "      <td>75</td>\n",
       "    </tr>\n",
       "    <tr>\n",
       "      <th>9</th>\n",
       "      <td>76303</td>\n",
       "      <td>Technology</td>\n",
       "      <td>region_22</td>\n",
       "      <td>Bachelor's</td>\n",
       "      <td>m</td>\n",
       "      <td>sourcing</td>\n",
       "      <td>1</td>\n",
       "      <td>29</td>\n",
       "      <td>5.0</td>\n",
       "      <td>2</td>\n",
       "      <td>1</td>\n",
       "      <td>0</td>\n",
       "      <td>76</td>\n",
       "    </tr>\n",
       "    <tr>\n",
       "      <th>10</th>\n",
       "      <td>60245</td>\n",
       "      <td>Sales &amp; Marketing</td>\n",
       "      <td>region_16</td>\n",
       "      <td>Bachelor's</td>\n",
       "      <td>m</td>\n",
       "      <td>sourcing</td>\n",
       "      <td>2</td>\n",
       "      <td>40</td>\n",
       "      <td>5.0</td>\n",
       "      <td>12</td>\n",
       "      <td>1</td>\n",
       "      <td>0</td>\n",
       "      <td>50</td>\n",
       "    </tr>\n",
       "    <tr>\n",
       "      <th>11</th>\n",
       "      <td>42639</td>\n",
       "      <td>Sales &amp; Marketing</td>\n",
       "      <td>region_17</td>\n",
       "      <td>Master's &amp; above</td>\n",
       "      <td>m</td>\n",
       "      <td>sourcing</td>\n",
       "      <td>1</td>\n",
       "      <td>40</td>\n",
       "      <td>3.0</td>\n",
       "      <td>10</td>\n",
       "      <td>0</td>\n",
       "      <td>0</td>\n",
       "      <td>46</td>\n",
       "    </tr>\n",
       "    <tr>\n",
       "      <th>12</th>\n",
       "      <td>30963</td>\n",
       "      <td>Sales &amp; Marketing</td>\n",
       "      <td>region_4</td>\n",
       "      <td>Master's &amp; above</td>\n",
       "      <td>f</td>\n",
       "      <td>other</td>\n",
       "      <td>1</td>\n",
       "      <td>34</td>\n",
       "      <td>3.0</td>\n",
       "      <td>4</td>\n",
       "      <td>0</td>\n",
       "      <td>0</td>\n",
       "      <td>52</td>\n",
       "    </tr>\n",
       "    <tr>\n",
       "      <th>13</th>\n",
       "      <td>54055</td>\n",
       "      <td>Analytics</td>\n",
       "      <td>region_24</td>\n",
       "      <td>Bachelor's</td>\n",
       "      <td>m</td>\n",
       "      <td>other</td>\n",
       "      <td>1</td>\n",
       "      <td>37</td>\n",
       "      <td>3.0</td>\n",
       "      <td>10</td>\n",
       "      <td>0</td>\n",
       "      <td>0</td>\n",
       "      <td>82</td>\n",
       "    </tr>\n",
       "    <tr>\n",
       "      <th>14</th>\n",
       "      <td>42996</td>\n",
       "      <td>Operations</td>\n",
       "      <td>region_11</td>\n",
       "      <td>Bachelor's</td>\n",
       "      <td>m</td>\n",
       "      <td>sourcing</td>\n",
       "      <td>1</td>\n",
       "      <td>30</td>\n",
       "      <td>5.0</td>\n",
       "      <td>6</td>\n",
       "      <td>1</td>\n",
       "      <td>0</td>\n",
       "      <td>58</td>\n",
       "    </tr>\n",
       "    <tr>\n",
       "      <th>15</th>\n",
       "      <td>12737</td>\n",
       "      <td>Sales &amp; Marketing</td>\n",
       "      <td>region_7</td>\n",
       "      <td>Bachelor's</td>\n",
       "      <td>m</td>\n",
       "      <td>sourcing</td>\n",
       "      <td>1</td>\n",
       "      <td>31</td>\n",
       "      <td>4.0</td>\n",
       "      <td>4</td>\n",
       "      <td>1</td>\n",
       "      <td>0</td>\n",
       "      <td>47</td>\n",
       "    </tr>\n",
       "    <tr>\n",
       "      <th>16</th>\n",
       "      <td>27561</td>\n",
       "      <td>Operations</td>\n",
       "      <td>region_27</td>\n",
       "      <td>Bachelor's</td>\n",
       "      <td>f</td>\n",
       "      <td>sourcing</td>\n",
       "      <td>1</td>\n",
       "      <td>26</td>\n",
       "      <td>5.0</td>\n",
       "      <td>3</td>\n",
       "      <td>0</td>\n",
       "      <td>0</td>\n",
       "      <td>56</td>\n",
       "    </tr>\n",
       "    <tr>\n",
       "      <th>17</th>\n",
       "      <td>26622</td>\n",
       "      <td>Sales &amp; Marketing</td>\n",
       "      <td>region_17</td>\n",
       "      <td>Bachelor's</td>\n",
       "      <td>m</td>\n",
       "      <td>sourcing</td>\n",
       "      <td>1</td>\n",
       "      <td>40</td>\n",
       "      <td>5.0</td>\n",
       "      <td>6</td>\n",
       "      <td>1</td>\n",
       "      <td>0</td>\n",
       "      <td>50</td>\n",
       "    </tr>\n",
       "    <tr>\n",
       "      <th>18</th>\n",
       "      <td>31582</td>\n",
       "      <td>Procurement</td>\n",
       "      <td>region_7</td>\n",
       "      <td>Bachelor's</td>\n",
       "      <td>f</td>\n",
       "      <td>other</td>\n",
       "      <td>1</td>\n",
       "      <td>49</td>\n",
       "      <td>3.0</td>\n",
       "      <td>7</td>\n",
       "      <td>1</td>\n",
       "      <td>0</td>\n",
       "      <td>64</td>\n",
       "    </tr>\n",
       "    <tr>\n",
       "      <th>19</th>\n",
       "      <td>29793</td>\n",
       "      <td>Procurement</td>\n",
       "      <td>region_27</td>\n",
       "      <td>Bachelor's</td>\n",
       "      <td>m</td>\n",
       "      <td>other</td>\n",
       "      <td>1</td>\n",
       "      <td>27</td>\n",
       "      <td>2.0</td>\n",
       "      <td>5</td>\n",
       "      <td>0</td>\n",
       "      <td>0</td>\n",
       "      <td>65</td>\n",
       "    </tr>\n",
       "  </tbody>\n",
       "</table>\n",
       "</div>"
      ],
      "text/plain": [
       "    employee_id         department     region         education gender  \\\n",
       "0          8724         Technology  region_26        Bachelor's      m   \n",
       "1         74430                 HR   region_4        Bachelor's      f   \n",
       "2         72255  Sales & Marketing  region_13        Bachelor's      m   \n",
       "3         38562        Procurement   region_2        Bachelor's      f   \n",
       "4         64486            Finance  region_29        Bachelor's      m   \n",
       "5         46232        Procurement   region_7        Bachelor's      m   \n",
       "6         54542            Finance   region_2        Bachelor's      m   \n",
       "7         67269          Analytics  region_22        Bachelor's      m   \n",
       "8         66174         Technology   region_7  Master's & above      m   \n",
       "9         76303         Technology  region_22        Bachelor's      m   \n",
       "10        60245  Sales & Marketing  region_16        Bachelor's      m   \n",
       "11        42639  Sales & Marketing  region_17  Master's & above      m   \n",
       "12        30963  Sales & Marketing   region_4  Master's & above      f   \n",
       "13        54055          Analytics  region_24        Bachelor's      m   \n",
       "14        42996         Operations  region_11        Bachelor's      m   \n",
       "15        12737  Sales & Marketing   region_7        Bachelor's      m   \n",
       "16        27561         Operations  region_27        Bachelor's      f   \n",
       "17        26622  Sales & Marketing  region_17        Bachelor's      m   \n",
       "18        31582        Procurement   region_7        Bachelor's      f   \n",
       "19        29793        Procurement  region_27        Bachelor's      m   \n",
       "\n",
       "   recruitment_channel  no_of_trainings  age  previous_year_rating  \\\n",
       "0             sourcing                1   24                   NaN   \n",
       "1                other                1   31                   3.0   \n",
       "2                other                1   31                   1.0   \n",
       "3                other                3   31                   2.0   \n",
       "4             sourcing                1   30                   4.0   \n",
       "5             sourcing                1   36                   3.0   \n",
       "6                other                1   33                   5.0   \n",
       "7             sourcing                2   36                   3.0   \n",
       "8                other                1   51                   4.0   \n",
       "9             sourcing                1   29                   5.0   \n",
       "10            sourcing                2   40                   5.0   \n",
       "11            sourcing                1   40                   3.0   \n",
       "12               other                1   34                   3.0   \n",
       "13               other                1   37                   3.0   \n",
       "14            sourcing                1   30                   5.0   \n",
       "15            sourcing                1   31                   4.0   \n",
       "16            sourcing                1   26                   5.0   \n",
       "17            sourcing                1   40                   5.0   \n",
       "18               other                1   49                   3.0   \n",
       "19               other                1   27                   2.0   \n",
       "\n",
       "    length_of_service  KPIs_met >80%  awards_won?  avg_training_score  \n",
       "0                   1              1            0                  77  \n",
       "1                   5              0            0                  51  \n",
       "2                   4              0            0                  47  \n",
       "3                   9              0            0                  65  \n",
       "4                   7              0            0                  61  \n",
       "5                   2              0            0                  68  \n",
       "6                   3              1            0                  57  \n",
       "7                   3              0            0                  85  \n",
       "8                  11              0            0                  75  \n",
       "9                   2              1            0                  76  \n",
       "10                 12              1            0                  50  \n",
       "11                 10              0            0                  46  \n",
       "12                  4              0            0                  52  \n",
       "13                 10              0            0                  82  \n",
       "14                  6              1            0                  58  \n",
       "15                  4              1            0                  47  \n",
       "16                  3              0            0                  56  \n",
       "17                  6              1            0                  50  \n",
       "18                  7              1            0                  64  \n",
       "19                  5              0            0                  65  "
      ]
     },
     "execution_count": 27,
     "metadata": {},
     "output_type": "execute_result"
    }
   ],
   "source": [
    "df.head(20)"
   ]
  },
  {
   "cell_type": "markdown",
   "metadata": {},
   "source": [
    "### Heatmap"
   ]
  },
  {
   "cell_type": "code",
   "execution_count": 30,
   "metadata": {},
   "outputs": [
    {
     "data": {
      "image/png": "[encoded data removed]",
      "text/plain": [
       "<Figure size 432x288 with 2 Axes>"
      ]
     },
     "metadata": {
      "needs_background": "light"
     },
     "output_type": "display_data"
    }
   ],
   "source": [
    "sns.heatmap(df.corr(method='pearson')) #gives the pearson-r for data frame \n",
    "plt.show()"
   ]
  },
  {
   "cell_type": "markdown",
   "metadata": {},
   "source": [
    "### Frequency Table"
   ]
  },
  {
   "cell_type": "code",
   "execution_count": 33,
   "metadata": {},
   "outputs": [
    {
     "data": {
      "text/html": [
       "<div>\n",
       "<style scoped>\n",
       "    .dataframe tbody tr th:only-of-type {\n",
       "        vertical-align: middle;\n",
       "    }\n",
       "\n",
       "    .dataframe tbody tr th {\n",
       "        vertical-align: top;\n",
       "    }\n",
       "\n",
       "    .dataframe thead th {\n",
       "        text-align: right;\n",
       "    }\n",
       "</style>\n",
       "<table border=\"1\" class=\"dataframe\">\n",
       "  <thead>\n",
       "    <tr style=\"text-align: right;\">\n",
       "      <th></th>\n",
       "      <th>employee_id</th>\n",
       "      <th>age</th>\n",
       "      <th>previous_year_rating</th>\n",
       "      <th>length_of_service</th>\n",
       "      <th>KPIs_met &gt;80%</th>\n",
       "      <th>awards_won?</th>\n",
       "      <th>avg_training_score</th>\n",
       "    </tr>\n",
       "    <tr>\n",
       "      <th>no_of_trainings</th>\n",
       "      <th></th>\n",
       "      <th></th>\n",
       "      <th></th>\n",
       "      <th></th>\n",
       "      <th></th>\n",
       "      <th></th>\n",
       "      <th></th>\n",
       "    </tr>\n",
       "  </thead>\n",
       "  <tbody>\n",
       "    <tr>\n",
       "      <th>1</th>\n",
       "      <td>39008.948172</td>\n",
       "      <td>35.091822</td>\n",
       "      <td>3.364528</td>\n",
       "      <td>5.928888</td>\n",
       "      <td>0.366970</td>\n",
       "      <td>0.022401</td>\n",
       "      <td>62.828931</td>\n",
       "    </tr>\n",
       "    <tr>\n",
       "      <th>2</th>\n",
       "      <td>39424.312077</td>\n",
       "      <td>33.788939</td>\n",
       "      <td>3.269456</td>\n",
       "      <td>5.432280</td>\n",
       "      <td>0.334932</td>\n",
       "      <td>0.025959</td>\n",
       "      <td>65.353555</td>\n",
       "    </tr>\n",
       "    <tr>\n",
       "      <th>3</th>\n",
       "      <td>38807.150993</td>\n",
       "      <td>32.774834</td>\n",
       "      <td>3.133835</td>\n",
       "      <td>4.980132</td>\n",
       "      <td>0.313907</td>\n",
       "      <td>0.017219</td>\n",
       "      <td>64.398675</td>\n",
       "    </tr>\n",
       "    <tr>\n",
       "      <th>4</th>\n",
       "      <td>39119.542105</td>\n",
       "      <td>31.557895</td>\n",
       "      <td>2.907407</td>\n",
       "      <td>4.900000</td>\n",
       "      <td>0.215789</td>\n",
       "      <td>0.015789</td>\n",
       "      <td>62.768421</td>\n",
       "    </tr>\n",
       "    <tr>\n",
       "      <th>5</th>\n",
       "      <td>31592.638889</td>\n",
       "      <td>31.166667</td>\n",
       "      <td>3.272727</td>\n",
       "      <td>4.444444</td>\n",
       "      <td>0.277778</td>\n",
       "      <td>0.055556</td>\n",
       "      <td>64.444444</td>\n",
       "    </tr>\n",
       "    <tr>\n",
       "      <th>6</th>\n",
       "      <td>30403.208333</td>\n",
       "      <td>32.916667</td>\n",
       "      <td>2.950000</td>\n",
       "      <td>4.875000</td>\n",
       "      <td>0.125000</td>\n",
       "      <td>0.041667</td>\n",
       "      <td>62.000000</td>\n",
       "    </tr>\n",
       "    <tr>\n",
       "      <th>7</th>\n",
       "      <td>32384.555556</td>\n",
       "      <td>33.111111</td>\n",
       "      <td>2.750000</td>\n",
       "      <td>3.666667</td>\n",
       "      <td>0.333333</td>\n",
       "      <td>0.000000</td>\n",
       "      <td>63.888889</td>\n",
       "    </tr>\n",
       "    <tr>\n",
       "      <th>8</th>\n",
       "      <td>15004.000000</td>\n",
       "      <td>34.500000</td>\n",
       "      <td>4.500000</td>\n",
       "      <td>2.500000</td>\n",
       "      <td>0.500000</td>\n",
       "      <td>0.000000</td>\n",
       "      <td>71.000000</td>\n",
       "    </tr>\n",
       "    <tr>\n",
       "      <th>9</th>\n",
       "      <td>40370.000000</td>\n",
       "      <td>32.500000</td>\n",
       "      <td>3.500000</td>\n",
       "      <td>3.000000</td>\n",
       "      <td>0.500000</td>\n",
       "      <td>0.000000</td>\n",
       "      <td>70.000000</td>\n",
       "    </tr>\n",
       "  </tbody>\n",
       "</table>\n",
       "</div>"
      ],
      "text/plain": [
       "                  employee_id        age  previous_year_rating  \\\n",
       "no_of_trainings                                                  \n",
       "1                39008.948172  35.091822              3.364528   \n",
       "2                39424.312077  33.788939              3.269456   \n",
       "3                38807.150993  32.774834              3.133835   \n",
       "4                39119.542105  31.557895              2.907407   \n",
       "5                31592.638889  31.166667              3.272727   \n",
       "6                30403.208333  32.916667              2.950000   \n",
       "7                32384.555556  33.111111              2.750000   \n",
       "8                15004.000000  34.500000              4.500000   \n",
       "9                40370.000000  32.500000              3.500000   \n",
       "\n",
       "                 length_of_service  KPIs_met >80%  awards_won?  \\\n",
       "no_of_trainings                                                  \n",
       "1                         5.928888       0.366970     0.022401   \n",
       "2                         5.432280       0.334932     0.025959   \n",
       "3                         4.980132       0.313907     0.017219   \n",
       "4                         4.900000       0.215789     0.015789   \n",
       "5                         4.444444       0.277778     0.055556   \n",
       "6                         4.875000       0.125000     0.041667   \n",
       "7                         3.666667       0.333333     0.000000   \n",
       "8                         2.500000       0.500000     0.000000   \n",
       "9                         3.000000       0.500000     0.000000   \n",
       "\n",
       "                 avg_training_score  \n",
       "no_of_trainings                      \n",
       "1                         62.828931  \n",
       "2                         65.353555  \n",
       "3                         64.398675  \n",
       "4                         62.768421  \n",
       "5                         64.444444  \n",
       "6                         62.000000  \n",
       "7                         63.888889  \n",
       "8                         71.000000  \n",
       "9                         70.000000  "
      ]
     },
     "execution_count": 33,
     "metadata": {},
     "output_type": "execute_result"
    }
   ],
   "source": [
    "\n",
    "df[['age','no_of_trainings']].groupby('no_of_trainings').mean()\n",
    "#people at avg 35 no. of trainings taken is 1, and 2 for 33yrs, etc.,"
   ]
  },
  {
   "cell_type": "code",
   "execution_count": 34,
   "metadata": {},
   "outputs": [
    {
     "data": {
      "text/html": [
       "<div>\n",
       "<style scoped>\n",
       "    .dataframe tbody tr th:only-of-type {\n",
       "        vertical-align: middle;\n",
       "    }\n",
       "\n",
       "    .dataframe tbody tr th {\n",
       "        vertical-align: top;\n",
       "    }\n",
       "\n",
       "    .dataframe thead th {\n",
       "        text-align: right;\n",
       "    }\n",
       "</style>\n",
       "<table border=\"1\" class=\"dataframe\">\n",
       "  <thead>\n",
       "    <tr style=\"text-align: right;\">\n",
       "      <th></th>\n",
       "      <th>employee_id</th>\n",
       "      <th>age</th>\n",
       "      <th>previous_year_rating</th>\n",
       "      <th>length_of_service</th>\n",
       "      <th>KPIs_met &gt;80%</th>\n",
       "      <th>awards_won?</th>\n",
       "      <th>avg_training_score</th>\n",
       "    </tr>\n",
       "    <tr>\n",
       "      <th>no_of_trainings</th>\n",
       "      <th></th>\n",
       "      <th></th>\n",
       "      <th></th>\n",
       "      <th></th>\n",
       "      <th></th>\n",
       "      <th></th>\n",
       "      <th></th>\n",
       "    </tr>\n",
       "  </thead>\n",
       "  <tbody>\n",
       "    <tr>\n",
       "      <th>1</th>\n",
       "      <td>39008.948172</td>\n",
       "      <td>35.091822</td>\n",
       "      <td>3.364528</td>\n",
       "      <td>5.928888</td>\n",
       "      <td>0.366970</td>\n",
       "      <td>0.022401</td>\n",
       "      <td>62.828931</td>\n",
       "    </tr>\n",
       "    <tr>\n",
       "      <th>2</th>\n",
       "      <td>39424.312077</td>\n",
       "      <td>33.788939</td>\n",
       "      <td>3.269456</td>\n",
       "      <td>5.432280</td>\n",
       "      <td>0.334932</td>\n",
       "      <td>0.025959</td>\n",
       "      <td>65.353555</td>\n",
       "    </tr>\n",
       "    <tr>\n",
       "      <th>3</th>\n",
       "      <td>38807.150993</td>\n",
       "      <td>32.774834</td>\n",
       "      <td>3.133835</td>\n",
       "      <td>4.980132</td>\n",
       "      <td>0.313907</td>\n",
       "      <td>0.017219</td>\n",
       "      <td>64.398675</td>\n",
       "    </tr>\n",
       "    <tr>\n",
       "      <th>4</th>\n",
       "      <td>39119.542105</td>\n",
       "      <td>31.557895</td>\n",
       "      <td>2.907407</td>\n",
       "      <td>4.900000</td>\n",
       "      <td>0.215789</td>\n",
       "      <td>0.015789</td>\n",
       "      <td>62.768421</td>\n",
       "    </tr>\n",
       "    <tr>\n",
       "      <th>5</th>\n",
       "      <td>31592.638889</td>\n",
       "      <td>31.166667</td>\n",
       "      <td>3.272727</td>\n",
       "      <td>4.444444</td>\n",
       "      <td>0.277778</td>\n",
       "      <td>0.055556</td>\n",
       "      <td>64.444444</td>\n",
       "    </tr>\n",
       "    <tr>\n",
       "      <th>6</th>\n",
       "      <td>30403.208333</td>\n",
       "      <td>32.916667</td>\n",
       "      <td>2.950000</td>\n",
       "      <td>4.875000</td>\n",
       "      <td>0.125000</td>\n",
       "      <td>0.041667</td>\n",
       "      <td>62.000000</td>\n",
       "    </tr>\n",
       "    <tr>\n",
       "      <th>7</th>\n",
       "      <td>32384.555556</td>\n",
       "      <td>33.111111</td>\n",
       "      <td>2.750000</td>\n",
       "      <td>3.666667</td>\n",
       "      <td>0.333333</td>\n",
       "      <td>0.000000</td>\n",
       "      <td>63.888889</td>\n",
       "    </tr>\n",
       "    <tr>\n",
       "      <th>8</th>\n",
       "      <td>15004.000000</td>\n",
       "      <td>34.500000</td>\n",
       "      <td>4.500000</td>\n",
       "      <td>2.500000</td>\n",
       "      <td>0.500000</td>\n",
       "      <td>0.000000</td>\n",
       "      <td>71.000000</td>\n",
       "    </tr>\n",
       "    <tr>\n",
       "      <th>9</th>\n",
       "      <td>40370.000000</td>\n",
       "      <td>32.500000</td>\n",
       "      <td>3.500000</td>\n",
       "      <td>3.000000</td>\n",
       "      <td>0.500000</td>\n",
       "      <td>0.000000</td>\n",
       "      <td>70.000000</td>\n",
       "    </tr>\n",
       "  </tbody>\n",
       "</table>\n",
       "</div>"
      ],
      "text/plain": [
       "                  employee_id        age  previous_year_rating  \\\n",
       "no_of_trainings                                                  \n",
       "1                39008.948172  35.091822              3.364528   \n",
       "2                39424.312077  33.788939              3.269456   \n",
       "3                38807.150993  32.774834              3.133835   \n",
       "4                39119.542105  31.557895              2.907407   \n",
       "5                31592.638889  31.166667              3.272727   \n",
       "6                30403.208333  32.916667              2.950000   \n",
       "7                32384.555556  33.111111              2.750000   \n",
       "8                15004.000000  34.500000              4.500000   \n",
       "9                40370.000000  32.500000              3.500000   \n",
       "\n",
       "                 length_of_service  KPIs_met >80%  awards_won?  \\\n",
       "no_of_trainings                                                  \n",
       "1                         5.928888       0.366970     0.022401   \n",
       "2                         5.432280       0.334932     0.025959   \n",
       "3                         4.980132       0.313907     0.017219   \n",
       "4                         4.900000       0.215789     0.015789   \n",
       "5                         4.444444       0.277778     0.055556   \n",
       "6                         4.875000       0.125000     0.041667   \n",
       "7                         3.666667       0.333333     0.000000   \n",
       "8                         2.500000       0.500000     0.000000   \n",
       "9                         3.000000       0.500000     0.000000   \n",
       "\n",
       "                 avg_training_score  \n",
       "no_of_trainings                      \n",
       "1                         62.828931  \n",
       "2                         65.353555  \n",
       "3                         64.398675  \n",
       "4                         62.768421  \n",
       "5                         64.444444  \n",
       "6                         62.000000  \n",
       "7                         63.888889  \n",
       "8                         71.000000  \n",
       "9                         70.000000  "
      ]
     },
     "execution_count": 34,
     "metadata": {},
     "output_type": "execute_result"
    }
   ],
   "source": [
    "df.groupby('no_of_trainings').mean()\n",
    "#this gives the overall comparision wrt to no.of trainings column"
   ]
  },
  {
   "cell_type": "code",
   "execution_count": 37,
   "metadata": {},
   "outputs": [
    {
     "data": {
      "image/png": "[encoded data removed]",
      "text/plain": [
       "<Figure size 432x288 with 1 Axes>"
      ]
     },
     "metadata": {
      "needs_background": "light"
     },
     "output_type": "display_data"
    }
   ],
   "source": [
    "#this process should be excecuted with cont vs cont\n",
    "df[['age','no_of_trainings']].groupby('no_of_trainings').mean().plot(kind='bar')\n",
    "plt.title('no_of_traings vs age')\n",
    "plt.show()"
   ]
  },
  {
   "cell_type": "code",
   "execution_count": null,
   "metadata": {},
   "outputs": [],
   "source": []
  }
 ],
 "metadata": {
  "kernelspec": {
   "display_name": "Python 3",
   "language": "python",
   "name": "python3"
  },
  "language_info": {
   "codemirror_mode": {
    "name": "ipython",
    "version": 3
   },
   "file_extension": ".py",
   "mimetype": "text/x-python",
   "name": "python",
   "nbconvert_exporter": "python",
   "pygments_lexer": "ipython3",
   "version": "3.8.5"
  }
 },
 "nbformat": 4,
 "nbformat_minor": 4
}
