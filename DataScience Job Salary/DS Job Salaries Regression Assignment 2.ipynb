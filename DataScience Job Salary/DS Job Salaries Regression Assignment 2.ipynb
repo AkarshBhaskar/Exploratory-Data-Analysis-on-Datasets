{
 "cells": [
  {
   "cell_type": "markdown",
   "metadata": {},
   "source": [
    "#### https://www.kaggle.com/datasets/ruchi798/data-science-job-salaries\n",
    "\n",
    "Download dataset from above link, you will predict salaries for Data Science Roles\n"
   ]
  },
  {
   "cell_type": "markdown",
   "metadata": {},
   "source": [
    "# Regression Assignment "
   ]
  },
  {
   "cell_type": "code",
   "execution_count": 480,
   "metadata": {},
   "outputs": [],
   "source": [
    "import pandas as pd, numpy as np, matplotlib.pyplot as plt, seaborn as sns, warnings\n",
    "pd.options.display.max_rows=100\n",
    "pd.options.display.max_columns=100\n",
    "warnings.filterwarnings('ignore')"
   ]
  },
  {
   "cell_type": "code",
   "execution_count": 481,
   "metadata": {
    "scrolled": false
   },
   "outputs": [
    {
     "data": {
      "text/html": [
       "<div>\n",
       "<style scoped>\n",
       "    .dataframe tbody tr th:only-of-type {\n",
       "        vertical-align: middle;\n",
       "    }\n",
       "\n",
       "    .dataframe tbody tr th {\n",
       "        vertical-align: top;\n",
       "    }\n",
       "\n",
       "    .dataframe thead th {\n",
       "        text-align: right;\n",
       "    }\n",
       "</style>\n",
       "<table border=\"1\" class=\"dataframe\">\n",
       "  <thead>\n",
       "    <tr style=\"text-align: right;\">\n",
       "      <th></th>\n",
       "      <th>Unnamed: 0</th>\n",
       "      <th>work_year</th>\n",
       "      <th>experience_level</th>\n",
       "      <th>employment_type</th>\n",
       "      <th>job_title</th>\n",
       "      <th>salary</th>\n",
       "      <th>salary_currency</th>\n",
       "      <th>salary_in_usd</th>\n",
       "      <th>employee_residence</th>\n",
       "      <th>remote_ratio</th>\n",
       "      <th>company_location</th>\n",
       "      <th>company_size</th>\n",
       "    </tr>\n",
       "  </thead>\n",
       "  <tbody>\n",
       "    <tr>\n",
       "      <th>0</th>\n",
       "      <td>0</td>\n",
       "      <td>2020</td>\n",
       "      <td>MI</td>\n",
       "      <td>FT</td>\n",
       "      <td>Data Scientist</td>\n",
       "      <td>70000</td>\n",
       "      <td>EUR</td>\n",
       "      <td>79833</td>\n",
       "      <td>DE</td>\n",
       "      <td>0</td>\n",
       "      <td>DE</td>\n",
       "      <td>L</td>\n",
       "    </tr>\n",
       "    <tr>\n",
       "      <th>1</th>\n",
       "      <td>1</td>\n",
       "      <td>2020</td>\n",
       "      <td>SE</td>\n",
       "      <td>FT</td>\n",
       "      <td>Machine Learning Scientist</td>\n",
       "      <td>260000</td>\n",
       "      <td>USD</td>\n",
       "      <td>260000</td>\n",
       "      <td>JP</td>\n",
       "      <td>0</td>\n",
       "      <td>JP</td>\n",
       "      <td>S</td>\n",
       "    </tr>\n",
       "    <tr>\n",
       "      <th>2</th>\n",
       "      <td>2</td>\n",
       "      <td>2020</td>\n",
       "      <td>SE</td>\n",
       "      <td>FT</td>\n",
       "      <td>Big Data Engineer</td>\n",
       "      <td>85000</td>\n",
       "      <td>GBP</td>\n",
       "      <td>109024</td>\n",
       "      <td>GB</td>\n",
       "      <td>50</td>\n",
       "      <td>GB</td>\n",
       "      <td>M</td>\n",
       "    </tr>\n",
       "    <tr>\n",
       "      <th>3</th>\n",
       "      <td>3</td>\n",
       "      <td>2020</td>\n",
       "      <td>MI</td>\n",
       "      <td>FT</td>\n",
       "      <td>Product Data Analyst</td>\n",
       "      <td>20000</td>\n",
       "      <td>USD</td>\n",
       "      <td>20000</td>\n",
       "      <td>HN</td>\n",
       "      <td>0</td>\n",
       "      <td>HN</td>\n",
       "      <td>S</td>\n",
       "    </tr>\n",
       "    <tr>\n",
       "      <th>4</th>\n",
       "      <td>4</td>\n",
       "      <td>2020</td>\n",
       "      <td>SE</td>\n",
       "      <td>FT</td>\n",
       "      <td>Machine Learning Engineer</td>\n",
       "      <td>150000</td>\n",
       "      <td>USD</td>\n",
       "      <td>150000</td>\n",
       "      <td>US</td>\n",
       "      <td>50</td>\n",
       "      <td>US</td>\n",
       "      <td>L</td>\n",
       "    </tr>\n",
       "  </tbody>\n",
       "</table>\n",
       "</div>"
      ],
      "text/plain": [
       "   Unnamed: 0  work_year experience_level employment_type  \\\n",
       "0           0       2020               MI              FT   \n",
       "1           1       2020               SE              FT   \n",
       "2           2       2020               SE              FT   \n",
       "3           3       2020               MI              FT   \n",
       "4           4       2020               SE              FT   \n",
       "\n",
       "                    job_title  salary salary_currency  salary_in_usd  \\\n",
       "0              Data Scientist   70000             EUR          79833   \n",
       "1  Machine Learning Scientist  260000             USD         260000   \n",
       "2           Big Data Engineer   85000             GBP         109024   \n",
       "3        Product Data Analyst   20000             USD          20000   \n",
       "4   Machine Learning Engineer  150000             USD         150000   \n",
       "\n",
       "  employee_residence  remote_ratio company_location company_size  \n",
       "0                 DE             0               DE            L  \n",
       "1                 JP             0               JP            S  \n",
       "2                 GB            50               GB            M  \n",
       "3                 HN             0               HN            S  \n",
       "4                 US            50               US            L  "
      ]
     },
     "execution_count": 481,
     "metadata": {},
     "output_type": "execute_result"
    }
   ],
   "source": [
    "df = pd.read_csv(r\"A:\\datasets\\ds_salaries.csv\")\n",
    "df.head()"
   ]
  },
  {
   "cell_type": "code",
   "execution_count": 482,
   "metadata": {},
   "outputs": [
    {
     "data": {
      "text/plain": [
       "(607, 12)"
      ]
     },
     "execution_count": 482,
     "metadata": {},
     "output_type": "execute_result"
    }
   ],
   "source": [
    "df.shape"
   ]
  },
  {
   "cell_type": "code",
   "execution_count": 483,
   "metadata": {
    "scrolled": true
   },
   "outputs": [
    {
     "name": "stdout",
     "output_type": "stream",
     "text": [
      "<class 'pandas.core.frame.DataFrame'>\n",
      "RangeIndex: 607 entries, 0 to 606\n",
      "Data columns (total 12 columns):\n",
      " #   Column              Non-Null Count  Dtype \n",
      "---  ------              --------------  ----- \n",
      " 0   Unnamed: 0          607 non-null    int64 \n",
      " 1   work_year           607 non-null    int64 \n",
      " 2   experience_level    607 non-null    object\n",
      " 3   employment_type     607 non-null    object\n",
      " 4   job_title           607 non-null    object\n",
      " 5   salary              607 non-null    int64 \n",
      " 6   salary_currency     607 non-null    object\n",
      " 7   salary_in_usd       607 non-null    int64 \n",
      " 8   employee_residence  607 non-null    object\n",
      " 9   remote_ratio        607 non-null    int64 \n",
      " 10  company_location    607 non-null    object\n",
      " 11  company_size        607 non-null    object\n",
      "dtypes: int64(5), object(7)\n",
      "memory usage: 57.0+ KB\n"
     ]
    }
   ],
   "source": [
    "df.info()"
   ]
  },
  {
   "cell_type": "code",
   "execution_count": 484,
   "metadata": {},
   "outputs": [
    {
     "data": {
      "text/html": [
       "<div>\n",
       "<style scoped>\n",
       "    .dataframe tbody tr th:only-of-type {\n",
       "        vertical-align: middle;\n",
       "    }\n",
       "\n",
       "    .dataframe tbody tr th {\n",
       "        vertical-align: top;\n",
       "    }\n",
       "\n",
       "    .dataframe thead th {\n",
       "        text-align: right;\n",
       "    }\n",
       "</style>\n",
       "<table border=\"1\" class=\"dataframe\">\n",
       "  <thead>\n",
       "    <tr style=\"text-align: right;\">\n",
       "      <th></th>\n",
       "      <th>Unnamed: 0</th>\n",
       "      <th>work_year</th>\n",
       "      <th>salary</th>\n",
       "      <th>salary_in_usd</th>\n",
       "      <th>remote_ratio</th>\n",
       "    </tr>\n",
       "  </thead>\n",
       "  <tbody>\n",
       "    <tr>\n",
       "      <th>count</th>\n",
       "      <td>607.000000</td>\n",
       "      <td>607.000000</td>\n",
       "      <td>6.070000e+02</td>\n",
       "      <td>607.000000</td>\n",
       "      <td>607.00000</td>\n",
       "    </tr>\n",
       "    <tr>\n",
       "      <th>mean</th>\n",
       "      <td>303.000000</td>\n",
       "      <td>2021.405272</td>\n",
       "      <td>3.240001e+05</td>\n",
       "      <td>112297.869852</td>\n",
       "      <td>70.92257</td>\n",
       "    </tr>\n",
       "    <tr>\n",
       "      <th>std</th>\n",
       "      <td>175.370085</td>\n",
       "      <td>0.692133</td>\n",
       "      <td>1.544357e+06</td>\n",
       "      <td>70957.259411</td>\n",
       "      <td>40.70913</td>\n",
       "    </tr>\n",
       "    <tr>\n",
       "      <th>min</th>\n",
       "      <td>0.000000</td>\n",
       "      <td>2020.000000</td>\n",
       "      <td>4.000000e+03</td>\n",
       "      <td>2859.000000</td>\n",
       "      <td>0.00000</td>\n",
       "    </tr>\n",
       "    <tr>\n",
       "      <th>25%</th>\n",
       "      <td>151.500000</td>\n",
       "      <td>2021.000000</td>\n",
       "      <td>7.000000e+04</td>\n",
       "      <td>62726.000000</td>\n",
       "      <td>50.00000</td>\n",
       "    </tr>\n",
       "    <tr>\n",
       "      <th>50%</th>\n",
       "      <td>303.000000</td>\n",
       "      <td>2022.000000</td>\n",
       "      <td>1.150000e+05</td>\n",
       "      <td>101570.000000</td>\n",
       "      <td>100.00000</td>\n",
       "    </tr>\n",
       "    <tr>\n",
       "      <th>75%</th>\n",
       "      <td>454.500000</td>\n",
       "      <td>2022.000000</td>\n",
       "      <td>1.650000e+05</td>\n",
       "      <td>150000.000000</td>\n",
       "      <td>100.00000</td>\n",
       "    </tr>\n",
       "    <tr>\n",
       "      <th>max</th>\n",
       "      <td>606.000000</td>\n",
       "      <td>2022.000000</td>\n",
       "      <td>3.040000e+07</td>\n",
       "      <td>600000.000000</td>\n",
       "      <td>100.00000</td>\n",
       "    </tr>\n",
       "  </tbody>\n",
       "</table>\n",
       "</div>"
      ],
      "text/plain": [
       "       Unnamed: 0    work_year        salary  salary_in_usd  remote_ratio\n",
       "count  607.000000   607.000000  6.070000e+02     607.000000     607.00000\n",
       "mean   303.000000  2021.405272  3.240001e+05  112297.869852      70.92257\n",
       "std    175.370085     0.692133  1.544357e+06   70957.259411      40.70913\n",
       "min      0.000000  2020.000000  4.000000e+03    2859.000000       0.00000\n",
       "25%    151.500000  2021.000000  7.000000e+04   62726.000000      50.00000\n",
       "50%    303.000000  2022.000000  1.150000e+05  101570.000000     100.00000\n",
       "75%    454.500000  2022.000000  1.650000e+05  150000.000000     100.00000\n",
       "max    606.000000  2022.000000  3.040000e+07  600000.000000     100.00000"
      ]
     },
     "execution_count": 484,
     "metadata": {},
     "output_type": "execute_result"
    }
   ],
   "source": [
    "df.describe()"
   ]
  },
  {
   "cell_type": "code",
   "execution_count": 485,
   "metadata": {},
   "outputs": [
    {
     "name": "stdout",
     "output_type": "stream",
     "text": [
      "(607, 12)\n",
      "(607, 8)\n"
     ]
    }
   ],
   "source": [
    "print(df.shape)\n",
    "df.drop(['Unnamed: 0','salary','salary_currency','employment_type'],axis=1,inplace=True)\n",
    "print(df.shape)"
   ]
  },
  {
   "cell_type": "code",
   "execution_count": 486,
   "metadata": {},
   "outputs": [
    {
     "name": "stdout",
     "output_type": "stream",
     "text": [
      "work_year\n",
      "2022    318\n",
      "2021    217\n",
      "2020     72\n",
      "Name: work_year, dtype: int64\n",
      "\n",
      "experience_level\n",
      "SE    280\n",
      "MI    213\n",
      "EN     88\n",
      "EX     26\n",
      "Name: experience_level, dtype: int64\n",
      "\n",
      "job_title\n",
      "Data Scientist                              143\n",
      "Data Engineer                               132\n",
      "Data Analyst                                 97\n",
      "Machine Learning Engineer                    41\n",
      "Research Scientist                           16\n",
      "Data Science Manager                         12\n",
      "Data Architect                               11\n",
      "Big Data Engineer                             8\n",
      "Machine Learning Scientist                    8\n",
      "Director of Data Science                      7\n",
      "Data Analytics Manager                        7\n",
      "AI Scientist                                  7\n",
      "Principal Data Scientist                      7\n",
      "Data Science Consultant                       7\n",
      "ML Engineer                                   6\n",
      "Computer Vision Engineer                      6\n",
      "BI Data Analyst                               6\n",
      "Lead Data Engineer                            6\n",
      "Applied Data Scientist                        5\n",
      "Data Engineering Manager                      5\n",
      "Head of Data                                  5\n",
      "Business Data Analyst                         5\n",
      "Analytics Engineer                            4\n",
      "Applied Machine Learning Scientist            4\n",
      "Head of Data Science                          4\n",
      "Data Analytics Engineer                       4\n",
      "Principal Data Engineer                       3\n",
      "Machine Learning Developer                    3\n",
      "Lead Data Scientist                           3\n",
      "Lead Data Analyst                             3\n",
      "Computer Vision Software Engineer             3\n",
      "Machine Learning Infrastructure Engineer      3\n",
      "Data Science Engineer                         3\n",
      "Principal Data Analyst                        2\n",
      "Director of Data Engineering                  2\n",
      "Product Data Analyst                          2\n",
      "Financial Data Analyst                        2\n",
      "Cloud Data Engineer                           2\n",
      "ETL Developer                                 2\n",
      "Staff Data Scientist                          1\n",
      "Big Data Architect                            1\n",
      "Marketing Data Analyst                        1\n",
      "Finance Data Analyst                          1\n",
      "Lead Machine Learning Engineer                1\n",
      "Data Analytics Lead                           1\n",
      "NLP Engineer                                  1\n",
      "3D Computer Vision Researcher                 1\n",
      "Head of Machine Learning                      1\n",
      "Machine Learning Manager                      1\n",
      "Data Specialist                               1\n",
      "Name: job_title, dtype: int64\n",
      "\n",
      "salary_in_usd\n",
      "100000    15\n",
      "150000    12\n",
      "120000    12\n",
      "200000    10\n",
      "135000     9\n",
      "          ..\n",
      "103000     1\n",
      "15966      1\n",
      "188000     1\n",
      "12901      1\n",
      "256000     1\n",
      "Name: salary_in_usd, Length: 369, dtype: int64\n",
      "\n",
      "employee_residence\n",
      "US    332\n",
      "GB     44\n",
      "IN     30\n",
      "CA     29\n",
      "DE     25\n",
      "FR     18\n",
      "ES     15\n",
      "GR     13\n",
      "JP      7\n",
      "PT      6\n",
      "BR      6\n",
      "PK      6\n",
      "NL      5\n",
      "IT      4\n",
      "PL      4\n",
      "RU      4\n",
      "AU      3\n",
      "VN      3\n",
      "AE      3\n",
      "TR      3\n",
      "AT      3\n",
      "RO      2\n",
      "HU      2\n",
      "NG      2\n",
      "SI      2\n",
      "SG      2\n",
      "MX      2\n",
      "DK      2\n",
      "BE      2\n",
      "KE      1\n",
      "RS      1\n",
      "PH      1\n",
      "HK      1\n",
      "IR      1\n",
      "CH      1\n",
      "CN      1\n",
      "CL      1\n",
      "UA      1\n",
      "CZ      1\n",
      "HN      1\n",
      "BO      1\n",
      "NZ      1\n",
      "TN      1\n",
      "MD      1\n",
      "IQ      1\n",
      "LU      1\n",
      "CO      1\n",
      "HR      1\n",
      "PR      1\n",
      "IE      1\n",
      "MY      1\n",
      "JE      1\n",
      "DZ      1\n",
      "BG      1\n",
      "AR      1\n",
      "MT      1\n",
      "EE      1\n",
      "Name: employee_residence, dtype: int64\n",
      "\n",
      "remote_ratio\n",
      "100    381\n",
      "0      127\n",
      "50      99\n",
      "Name: remote_ratio, dtype: int64\n",
      "\n",
      "company_location\n",
      "US    355\n",
      "GB     47\n",
      "CA     30\n",
      "DE     28\n",
      "IN     24\n",
      "FR     15\n",
      "ES     14\n",
      "GR     11\n",
      "JP      6\n",
      "PT      4\n",
      "PL      4\n",
      "AT      4\n",
      "NL      4\n",
      "MX      3\n",
      "BR      3\n",
      "TR      3\n",
      "LU      3\n",
      "DK      3\n",
      "PK      3\n",
      "AU      3\n",
      "AE      3\n",
      "IT      2\n",
      "BE      2\n",
      "NG      2\n",
      "CN      2\n",
      "RU      2\n",
      "CZ      2\n",
      "SI      2\n",
      "CH      2\n",
      "EE      1\n",
      "MD      1\n",
      "KE      1\n",
      "UA      1\n",
      "IQ      1\n",
      "CO      1\n",
      "HU      1\n",
      "IR      1\n",
      "IL      1\n",
      "DZ      1\n",
      "RO      1\n",
      "HR      1\n",
      "VN      1\n",
      "CL      1\n",
      "SG      1\n",
      "IE      1\n",
      "HN      1\n",
      "AS      1\n",
      "MT      1\n",
      "NZ      1\n",
      "MY      1\n",
      "Name: company_location, dtype: int64\n",
      "\n",
      "company_size\n",
      "M    326\n",
      "L    198\n",
      "S     83\n",
      "Name: company_size, dtype: int64\n",
      "\n"
     ]
    }
   ],
   "source": [
    "for i in df.columns:\n",
    "    print(i)\n",
    "    print(df[i].value_counts())\n",
    "    print()"
   ]
  },
  {
   "cell_type": "code",
   "execution_count": 487,
   "metadata": {},
   "outputs": [
    {
     "data": {
      "image/png": "[encoded data removed]",
      "text/plain": [
       "<Figure size 432x288 with 1 Axes>"
      ]
     },
     "metadata": {
      "needs_background": "light"
     },
     "output_type": "display_data"
    }
   ],
   "source": [
    "sns.boxplot(y=df['salary_in_usd'])\n",
    "plt.title('Box plot for salary_in_usd')\n",
    "plt.show()"
   ]
  },
  {
   "cell_type": "markdown",
   "metadata": {},
   "source": [
    "#### Inference: This column as outliers so we need to perform outlier imputation"
   ]
  },
  {
   "cell_type": "code",
   "execution_count": 488,
   "metadata": {},
   "outputs": [],
   "source": [
    "iqr = df['salary_in_usd'].quantile(0.75) - df['salary_in_usd'].quantile(0.25)\n",
    "lower_range = df['salary_in_usd'].quantile(0.25) - (1.5 * iqr)\n",
    "higher_range  = df['salary_in_usd'].quantile(0.75) + (1.5 * iqr)\n",
    "replace_lower_range = df['salary_in_usd'].quantile(0.25)\n",
    "replace_higher_range = df['salary_in_usd'].quantile(0.75)\n",
    "df['salary_in_usd'] = pd.DataFrame(np.where(df['salary_in_usd']<lower_range, replace_lower_range, df['salary_in_usd']))\n",
    "df['salary_in_usd'] = pd.DataFrame(np.where(df['salary_in_usd']>higher_range, replace_higher_range, df['salary_in_usd']))\n"
   ]
  },
  {
   "cell_type": "code",
   "execution_count": 489,
   "metadata": {
    "scrolled": true
   },
   "outputs": [
    {
     "data": {
      "image/png": "[encoded data removed]",
      "text/plain": [
       "<Figure size 432x288 with 1 Axes>"
      ]
     },
     "metadata": {
      "needs_background": "light"
     },
     "output_type": "display_data"
    }
   ],
   "source": [
    "sns.boxplot(y=df['salary_in_usd'])\n",
    "plt.title('Box plot for salary_in_usd')\n",
    "plt.show()"
   ]
  },
  {
   "cell_type": "markdown",
   "metadata": {},
   "source": [
    "#### Inference: Outliers have been imputed successfully"
   ]
  },
  {
   "cell_type": "code",
   "execution_count": 490,
   "metadata": {},
   "outputs": [
    {
     "data": {
      "text/plain": [
       "Index(['experience_level', 'job_title', 'employee_residence',\n",
       "       'company_location', 'company_size'],\n",
       "      dtype='object')"
      ]
     },
     "execution_count": 490,
     "metadata": {},
     "output_type": "execute_result"
    }
   ],
   "source": [
    "cat_cols = df.select_dtypes(include=['object']).columns\n",
    "cat_cols"
   ]
  },
  {
   "cell_type": "code",
   "execution_count": 491,
   "metadata": {},
   "outputs": [
    {
     "name": "stdout",
     "output_type": "stream",
     "text": [
      "experience_level\n",
      "SE    280\n",
      "MI    213\n",
      "EN     88\n",
      "EX     26\n",
      "Name: experience_level, dtype: int64\n",
      "job_title\n",
      "Data Scientist                              143\n",
      "Data Engineer                               132\n",
      "Data Analyst                                 97\n",
      "Machine Learning Engineer                    41\n",
      "Research Scientist                           16\n",
      "Data Science Manager                         12\n",
      "Data Architect                               11\n",
      "Big Data Engineer                             8\n",
      "Machine Learning Scientist                    8\n",
      "Director of Data Science                      7\n",
      "Data Analytics Manager                        7\n",
      "AI Scientist                                  7\n",
      "Principal Data Scientist                      7\n",
      "Data Science Consultant                       7\n",
      "ML Engineer                                   6\n",
      "Computer Vision Engineer                      6\n",
      "BI Data Analyst                               6\n",
      "Lead Data Engineer                            6\n",
      "Applied Data Scientist                        5\n",
      "Data Engineering Manager                      5\n",
      "Head of Data                                  5\n",
      "Business Data Analyst                         5\n",
      "Analytics Engineer                            4\n",
      "Applied Machine Learning Scientist            4\n",
      "Head of Data Science                          4\n",
      "Data Analytics Engineer                       4\n",
      "Principal Data Engineer                       3\n",
      "Machine Learning Developer                    3\n",
      "Lead Data Scientist                           3\n",
      "Lead Data Analyst                             3\n",
      "Computer Vision Software Engineer             3\n",
      "Machine Learning Infrastructure Engineer      3\n",
      "Data Science Engineer                         3\n",
      "Principal Data Analyst                        2\n",
      "Director of Data Engineering                  2\n",
      "Product Data Analyst                          2\n",
      "Financial Data Analyst                        2\n",
      "Cloud Data Engineer                           2\n",
      "ETL Developer                                 2\n",
      "Staff Data Scientist                          1\n",
      "Big Data Architect                            1\n",
      "Marketing Data Analyst                        1\n",
      "Finance Data Analyst                          1\n",
      "Lead Machine Learning Engineer                1\n",
      "Data Analytics Lead                           1\n",
      "NLP Engineer                                  1\n",
      "3D Computer Vision Researcher                 1\n",
      "Head of Machine Learning                      1\n",
      "Machine Learning Manager                      1\n",
      "Data Specialist                               1\n",
      "Name: job_title, dtype: int64\n",
      "employee_residence\n",
      "US    332\n",
      "GB     44\n",
      "IN     30\n",
      "CA     29\n",
      "DE     25\n",
      "FR     18\n",
      "ES     15\n",
      "GR     13\n",
      "JP      7\n",
      "PT      6\n",
      "BR      6\n",
      "PK      6\n",
      "NL      5\n",
      "IT      4\n",
      "PL      4\n",
      "RU      4\n",
      "AU      3\n",
      "VN      3\n",
      "AE      3\n",
      "TR      3\n",
      "AT      3\n",
      "RO      2\n",
      "HU      2\n",
      "NG      2\n",
      "SI      2\n",
      "SG      2\n",
      "MX      2\n",
      "DK      2\n",
      "BE      2\n",
      "KE      1\n",
      "RS      1\n",
      "PH      1\n",
      "HK      1\n",
      "IR      1\n",
      "CH      1\n",
      "CN      1\n",
      "CL      1\n",
      "UA      1\n",
      "CZ      1\n",
      "HN      1\n",
      "BO      1\n",
      "NZ      1\n",
      "TN      1\n",
      "MD      1\n",
      "IQ      1\n",
      "LU      1\n",
      "CO      1\n",
      "HR      1\n",
      "PR      1\n",
      "IE      1\n",
      "MY      1\n",
      "JE      1\n",
      "DZ      1\n",
      "BG      1\n",
      "AR      1\n",
      "MT      1\n",
      "EE      1\n",
      "Name: employee_residence, dtype: int64\n",
      "company_location\n",
      "US    355\n",
      "GB     47\n",
      "CA     30\n",
      "DE     28\n",
      "IN     24\n",
      "FR     15\n",
      "ES     14\n",
      "GR     11\n",
      "JP      6\n",
      "PT      4\n",
      "PL      4\n",
      "AT      4\n",
      "NL      4\n",
      "MX      3\n",
      "BR      3\n",
      "TR      3\n",
      "LU      3\n",
      "DK      3\n",
      "PK      3\n",
      "AU      3\n",
      "AE      3\n",
      "IT      2\n",
      "BE      2\n",
      "NG      2\n",
      "CN      2\n",
      "RU      2\n",
      "CZ      2\n",
      "SI      2\n",
      "CH      2\n",
      "EE      1\n",
      "MD      1\n",
      "KE      1\n",
      "UA      1\n",
      "IQ      1\n",
      "CO      1\n",
      "HU      1\n",
      "IR      1\n",
      "IL      1\n",
      "DZ      1\n",
      "RO      1\n",
      "HR      1\n",
      "VN      1\n",
      "CL      1\n",
      "SG      1\n",
      "IE      1\n",
      "HN      1\n",
      "AS      1\n",
      "MT      1\n",
      "NZ      1\n",
      "MY      1\n",
      "Name: company_location, dtype: int64\n",
      "company_size\n",
      "M    326\n",
      "L    198\n",
      "S     83\n",
      "Name: company_size, dtype: int64\n"
     ]
    }
   ],
   "source": [
    "for i in cat_cols:\n",
    "    print(i)\n",
    "    print(df[i].value_counts())"
   ]
  },
  {
   "cell_type": "code",
   "execution_count": 492,
   "metadata": {
    "scrolled": true
   },
   "outputs": [
    {
     "data": {
      "text/html": [
       "<div>\n",
       "<style scoped>\n",
       "    .dataframe tbody tr th:only-of-type {\n",
       "        vertical-align: middle;\n",
       "    }\n",
       "\n",
       "    .dataframe tbody tr th {\n",
       "        vertical-align: top;\n",
       "    }\n",
       "\n",
       "    .dataframe thead th {\n",
       "        text-align: right;\n",
       "    }\n",
       "</style>\n",
       "<table border=\"1\" class=\"dataframe\">\n",
       "  <thead>\n",
       "    <tr style=\"text-align: right;\">\n",
       "      <th></th>\n",
       "      <th>work_year</th>\n",
       "      <th>experience_level</th>\n",
       "      <th>job_title</th>\n",
       "      <th>salary_in_usd</th>\n",
       "      <th>employee_residence</th>\n",
       "      <th>remote_ratio</th>\n",
       "      <th>company_location</th>\n",
       "      <th>company_size</th>\n",
       "    </tr>\n",
       "  </thead>\n",
       "  <tbody>\n",
       "    <tr>\n",
       "      <th>0</th>\n",
       "      <td>2020</td>\n",
       "      <td>2</td>\n",
       "      <td>Data Scientist</td>\n",
       "      <td>79833.0</td>\n",
       "      <td>DE</td>\n",
       "      <td>0</td>\n",
       "      <td>DE</td>\n",
       "      <td>3</td>\n",
       "    </tr>\n",
       "    <tr>\n",
       "      <th>1</th>\n",
       "      <td>2020</td>\n",
       "      <td>3</td>\n",
       "      <td>Machine Learning Scientist</td>\n",
       "      <td>260000.0</td>\n",
       "      <td>JP</td>\n",
       "      <td>0</td>\n",
       "      <td>JP</td>\n",
       "      <td>1</td>\n",
       "    </tr>\n",
       "    <tr>\n",
       "      <th>2</th>\n",
       "      <td>2020</td>\n",
       "      <td>3</td>\n",
       "      <td>Big Data Engineer</td>\n",
       "      <td>109024.0</td>\n",
       "      <td>GB</td>\n",
       "      <td>50</td>\n",
       "      <td>GB</td>\n",
       "      <td>2</td>\n",
       "    </tr>\n",
       "    <tr>\n",
       "      <th>3</th>\n",
       "      <td>2020</td>\n",
       "      <td>2</td>\n",
       "      <td>Product Data Analyst</td>\n",
       "      <td>20000.0</td>\n",
       "      <td>HN</td>\n",
       "      <td>0</td>\n",
       "      <td>HN</td>\n",
       "      <td>1</td>\n",
       "    </tr>\n",
       "    <tr>\n",
       "      <th>4</th>\n",
       "      <td>2020</td>\n",
       "      <td>3</td>\n",
       "      <td>Machine Learning Engineer</td>\n",
       "      <td>150000.0</td>\n",
       "      <td>US</td>\n",
       "      <td>50</td>\n",
       "      <td>US</td>\n",
       "      <td>3</td>\n",
       "    </tr>\n",
       "  </tbody>\n",
       "</table>\n",
       "</div>"
      ],
      "text/plain": [
       "   work_year  experience_level                   job_title  salary_in_usd  \\\n",
       "0       2020                 2              Data Scientist        79833.0   \n",
       "1       2020                 3  Machine Learning Scientist       260000.0   \n",
       "2       2020                 3           Big Data Engineer       109024.0   \n",
       "3       2020                 2        Product Data Analyst        20000.0   \n",
       "4       2020                 3   Machine Learning Engineer       150000.0   \n",
       "\n",
       "  employee_residence  remote_ratio company_location  company_size  \n",
       "0                 DE             0               DE             3  \n",
       "1                 JP             0               JP             1  \n",
       "2                 GB            50               GB             2  \n",
       "3                 HN             0               HN             1  \n",
       "4                 US            50               US             3  "
      ]
     },
     "execution_count": 492,
     "metadata": {},
     "output_type": "execute_result"
    }
   ],
   "source": [
    "en_df = df.copy(deep=True)\n",
    "en_df['experience_level'] = en_df['experience_level'].map({'EN':1, 'MI':2, 'SE':3, 'EX':4})\n",
    "en_df['company_size'] = en_df['company_size'].map({'S':1, 'M':2, 'L':3})\n",
    "en_df.head()"
   ]
  },
  {
   "cell_type": "code",
   "execution_count": 493,
   "metadata": {},
   "outputs": [
    {
     "data": {
      "text/html": [
       "<div>\n",
       "<style scoped>\n",
       "    .dataframe tbody tr th:only-of-type {\n",
       "        vertical-align: middle;\n",
       "    }\n",
       "\n",
       "    .dataframe tbody tr th {\n",
       "        vertical-align: top;\n",
       "    }\n",
       "\n",
       "    .dataframe thead th {\n",
       "        text-align: right;\n",
       "    }\n",
       "</style>\n",
       "<table border=\"1\" class=\"dataframe\">\n",
       "  <thead>\n",
       "    <tr style=\"text-align: right;\">\n",
       "      <th></th>\n",
       "      <th>work_year</th>\n",
       "      <th>experience_level</th>\n",
       "      <th>job_title</th>\n",
       "      <th>salary_in_usd</th>\n",
       "      <th>employee_residence</th>\n",
       "      <th>remote_ratio</th>\n",
       "      <th>company_location</th>\n",
       "      <th>company_size</th>\n",
       "    </tr>\n",
       "  </thead>\n",
       "  <tbody>\n",
       "    <tr>\n",
       "      <th>0</th>\n",
       "      <td>2020</td>\n",
       "      <td>MI</td>\n",
       "      <td>Data Scientist</td>\n",
       "      <td>79833.0</td>\n",
       "      <td>DE</td>\n",
       "      <td>0</td>\n",
       "      <td>DE</td>\n",
       "      <td>L</td>\n",
       "    </tr>\n",
       "    <tr>\n",
       "      <th>1</th>\n",
       "      <td>2020</td>\n",
       "      <td>SE</td>\n",
       "      <td>Machine Learning Scientist</td>\n",
       "      <td>260000.0</td>\n",
       "      <td>JP</td>\n",
       "      <td>0</td>\n",
       "      <td>JP</td>\n",
       "      <td>S</td>\n",
       "    </tr>\n",
       "    <tr>\n",
       "      <th>2</th>\n",
       "      <td>2020</td>\n",
       "      <td>SE</td>\n",
       "      <td>Big Data Engineer</td>\n",
       "      <td>109024.0</td>\n",
       "      <td>GB</td>\n",
       "      <td>50</td>\n",
       "      <td>GB</td>\n",
       "      <td>M</td>\n",
       "    </tr>\n",
       "    <tr>\n",
       "      <th>3</th>\n",
       "      <td>2020</td>\n",
       "      <td>MI</td>\n",
       "      <td>Product Data Analyst</td>\n",
       "      <td>20000.0</td>\n",
       "      <td>HN</td>\n",
       "      <td>0</td>\n",
       "      <td>HN</td>\n",
       "      <td>S</td>\n",
       "    </tr>\n",
       "    <tr>\n",
       "      <th>4</th>\n",
       "      <td>2020</td>\n",
       "      <td>SE</td>\n",
       "      <td>Machine Learning Engineer</td>\n",
       "      <td>150000.0</td>\n",
       "      <td>US</td>\n",
       "      <td>50</td>\n",
       "      <td>US</td>\n",
       "      <td>L</td>\n",
       "    </tr>\n",
       "  </tbody>\n",
       "</table>\n",
       "</div>"
      ],
      "text/plain": [
       "   work_year experience_level                   job_title  salary_in_usd  \\\n",
       "0       2020               MI              Data Scientist        79833.0   \n",
       "1       2020               SE  Machine Learning Scientist       260000.0   \n",
       "2       2020               SE           Big Data Engineer       109024.0   \n",
       "3       2020               MI        Product Data Analyst        20000.0   \n",
       "4       2020               SE   Machine Learning Engineer       150000.0   \n",
       "\n",
       "  employee_residence  remote_ratio company_location company_size  \n",
       "0                 DE             0               DE            L  \n",
       "1                 JP             0               JP            S  \n",
       "2                 GB            50               GB            M  \n",
       "3                 HN             0               HN            S  \n",
       "4                 US            50               US            L  "
      ]
     },
     "execution_count": 493,
     "metadata": {},
     "output_type": "execute_result"
    }
   ],
   "source": [
    "df.head()"
   ]
  },
  {
   "cell_type": "markdown",
   "metadata": {},
   "source": [
    "# EDA "
   ]
  },
  {
   "cell_type": "code",
   "execution_count": 494,
   "metadata": {
    "scrolled": true
   },
   "outputs": [
    {
     "data": {
      "image/png": "[encoded data removed]",
      "text/plain": [
       "<Figure size 432x288 with 1 Axes>"
      ]
     },
     "metadata": {
      "needs_background": "light"
     },
     "output_type": "display_data"
    }
   ],
   "source": [
    "df['experience_level'].value_counts().plot(kind='bar')\n",
    "plt.title('experience_level Vs No. of employees')\n",
    "plt.show()"
   ]
  },
  {
   "cell_type": "markdown",
   "metadata": {},
   "source": [
    "#### Inference: Most of the employee are working as Senior Executives and Executive level employee have least employees due to experience and knowledge "
   ]
  },
  {
   "cell_type": "code",
   "execution_count": 495,
   "metadata": {
    "scrolled": true
   },
   "outputs": [
    {
     "data": {
      "image/png": "[encoded data removed]",
      "text/plain": [
       "<Figure size 432x288 with 1 Axes>"
      ]
     },
     "metadata": {},
     "output_type": "display_data"
    }
   ],
   "source": [
    "plt.pie(df['company_size'].value_counts(), autopct='%0.02f', labels=['M','L','S'], shadow=True)\n",
    "plt.title('company_size Vs No. of employees')\n",
    "plt.show()"
   ]
  },
  {
   "cell_type": "markdown",
   "metadata": {},
   "source": [
    "#### Inference: We can see that 53.7% employee work for medium size companies and small size companies recruit only 13.7% candidates"
   ]
  },
  {
   "cell_type": "code",
   "execution_count": 496,
   "metadata": {
    "scrolled": false
   },
   "outputs": [
    {
     "data": {
      "image/png": "[encoded data removed]",
      "text/plain": [
       "<Figure size 432x288 with 1 Axes>"
      ]
     },
     "metadata": {
      "needs_background": "light"
     },
     "output_type": "display_data"
    }
   ],
   "source": [
    "df['remote_ratio'].value_counts().plot(kind='bar')\n",
    "plt.show()"
   ]
  },
  {
   "cell_type": "markdown",
   "metadata": {},
   "source": [
    "#### Inference: Maximum employee work Completely remote(100) and partial, non-remote emplyee are very less incomparition "
   ]
  },
  {
   "cell_type": "code",
   "execution_count": 497,
   "metadata": {
    "scrolled": false
   },
   "outputs": [
    {
     "data": {
      "image/png": "[encoded data removed]",
      "text/plain": [
       "<Figure size 432x288 with 1 Axes>"
      ]
     },
     "metadata": {
      "needs_background": "light"
     },
     "output_type": "display_data"
    }
   ],
   "source": [
    "df['work_year'].value_counts().plot(kind='bar')\n",
    "plt.title(\"No of people getting salaries yearly\")\n",
    "plt.xlabel('Year')\n",
    "plt.ylabel('No. of employees recieved salary')\n",
    "plt.show()"
   ]
  },
  {
   "cell_type": "markdown",
   "metadata": {},
   "source": [
    "#### Inference: We can say that the employment in the data science field is increasing rapidly"
   ]
  },
  {
   "cell_type": "code",
   "execution_count": 498,
   "metadata": {
    "scrolled": false
   },
   "outputs": [
    {
     "data": {
      "image/png": "[encoded data removed]",
      "text/plain": [
       "<Figure size 720x288 with 1 Axes>"
      ]
     },
     "metadata": {
      "needs_background": "light"
     },
     "output_type": "display_data"
    }
   ],
   "source": [
    "plt.figure(figsize=(10,4))\n",
    "df['job_title'].value_counts().nlargest(10).plot(kind='bar')\n",
    "plt.title('No of employee in different job titles')\n",
    "plt.xlabel('Job title')\n",
    "plt.ylabel('No. of employees')\n",
    "plt.show()"
   ]
  },
  {
   "cell_type": "markdown",
   "metadata": {},
   "source": [
    "#### Inference: Data Scientist, Data Engineer, Data Analyst, Machine Learning Engineers employ most of the candidates"
   ]
  },
  {
   "cell_type": "code",
   "execution_count": 499,
   "metadata": {
    "scrolled": true
   },
   "outputs": [
    {
     "data": {
      "image/png": "[encoded data removed]",
      "text/plain": [
       "<Figure size 720x288 with 1 Axes>"
      ]
     },
     "metadata": {
      "needs_background": "light"
     },
     "output_type": "display_data"
    }
   ],
   "source": [
    "plt.figure(figsize=(10,4))\n",
    "df['company_location'].value_counts().nlargest(10).plot(kind='bar')\n",
    "plt.title('No of employee in different job titles')\n",
    "plt.xlabel('Company location')\n",
    "plt.ylabel('No. of employees')\n",
    "plt.show()"
   ]
  },
  {
   "cell_type": "markdown",
   "metadata": {},
   "source": [
    "#### Infernece: In the given data US provides the most employment."
   ]
  },
  {
   "cell_type": "code",
   "execution_count": 500,
   "metadata": {},
   "outputs": [
    {
     "data": {
      "image/png": "[encoded data removed]",
      "text/plain": [
       "<Figure size 432x288 with 1 Axes>"
      ]
     },
     "metadata": {
      "needs_background": "light"
     },
     "output_type": "display_data"
    }
   ],
   "source": [
    "sns.barplot(x='experience_level', y='salary_in_usd', data=df)\n",
    "plt.show()"
   ]
  },
  {
   "cell_type": "markdown",
   "metadata": {},
   "source": [
    "#### Inference: In the above graph we can look at the average salary of its respective experience level"
   ]
  },
  {
   "cell_type": "code",
   "execution_count": 501,
   "metadata": {},
   "outputs": [
    {
     "data": {
      "image/png": "[encoded data removed]",
      "text/plain": [
       "<Figure size 432x288 with 1 Axes>"
      ]
     },
     "metadata": {
      "needs_background": "light"
     },
     "output_type": "display_data"
    }
   ],
   "source": [
    "sns.barplot(x='company_size', y='salary_in_usd', data=df)\n",
    "plt.show()"
   ]
  },
  {
   "cell_type": "markdown",
   "metadata": {},
   "source": [
    "#### Inference: In the above graph we can look at the average salary of its respective company size"
   ]
  },
  {
   "cell_type": "code",
   "execution_count": 502,
   "metadata": {},
   "outputs": [
    {
     "data": {
      "image/png": "[encoded data removed]",
      "text/plain": [
       "<Figure size 864x432 with 1 Axes>"
      ]
     },
     "metadata": {
      "needs_background": "light"
     },
     "output_type": "display_data"
    }
   ],
   "source": [
    "plt.figure(figsize=(12,6))\n",
    "sns.barplot(x='company_size', y='salary_in_usd', hue='experience_level', data=df)\n",
    "plt.show()"
   ]
  },
  {
   "cell_type": "markdown",
   "metadata": {},
   "source": [
    "#### Inference: We can look at the average salaries offered by different size company to respective experience level candidates"
   ]
  },
  {
   "cell_type": "code",
   "execution_count": 503,
   "metadata": {},
   "outputs": [
    {
     "data": {
      "image/png": "[encoded data removed]",
      "text/plain": [
       "<Figure size 432x288 with 1 Axes>"
      ]
     },
     "metadata": {
      "needs_background": "light"
     },
     "output_type": "display_data"
    }
   ],
   "source": [
    "temp = df.groupby(['company_size']).experience_level.value_counts().unstack()\n",
    "temp.plot(kind='bar',rot=0)\n",
    "plt.ylabel('count')\n",
    "plt.show()"
   ]
  },
  {
   "cell_type": "markdown",
   "metadata": {},
   "source": [
    "#### Inference: Above graph shows No. of employees working in different size companies w.r.t their experience level"
   ]
  },
  {
   "cell_type": "code",
   "execution_count": 504,
   "metadata": {
    "scrolled": true
   },
   "outputs": [
    {
     "data": {
      "image/png": "[encoded data removed]",
      "text/plain": [
       "<Figure size 432x288 with 1 Axes>"
      ]
     },
     "metadata": {
      "needs_background": "light"
     },
     "output_type": "display_data"
    }
   ],
   "source": [
    "df.groupby(['work_year']).salary_in_usd.sum().plot(kind='bar')\n",
    "plt.title('Amount spent for salaries in their respective year')\n",
    "plt.ylabel('Total amount in dollars')\n",
    "plt.show()"
   ]
  },
  {
   "cell_type": "markdown",
   "metadata": {},
   "source": [
    "#### Inference: The amount spent for employees has increased from 6 million dollars to 39 million dollars from the year 2020 to 2022"
   ]
  },
  {
   "cell_type": "markdown",
   "metadata": {},
   "source": [
    "# Feature Engineering"
   ]
  },
  {
   "cell_type": "markdown",
   "metadata": {},
   "source": [
    "### adding small values and making a seperate type as others to reduce complications"
   ]
  },
  {
   "cell_type": "code",
   "execution_count": 505,
   "metadata": {
    "scrolled": false
   },
   "outputs": [
    {
     "name": "stdout",
     "output_type": "stream",
     "text": [
      "US        332\n",
      "others     88\n",
      "GB         44\n",
      "IN         30\n",
      "CA         29\n",
      "DE         25\n",
      "FR         18\n",
      "ES         15\n",
      "GR         13\n",
      "JP          7\n",
      "PK          6\n",
      "Name: employee_residence, dtype: int64\n",
      "----------------------------------------------------------\n",
      "US        355\n",
      "others     73\n",
      "GB         47\n",
      "CA         30\n",
      "DE         28\n",
      "IN         24\n",
      "FR         15\n",
      "ES         14\n",
      "GR         11\n",
      "JP          6\n",
      "NL          4\n",
      "Name: company_location, dtype: int64\n",
      "----------------------------------------------------------\n"
     ]
    },
    {
     "data": {
      "text/plain": [
       "Data Scientist                143\n",
       "others                        132\n",
       "Data Engineer                 132\n",
       "Data Analyst                   97\n",
       "Machine Learning Engineer      41\n",
       "Research Scientist             16\n",
       "Data Science Manager           12\n",
       "Data Architect                 11\n",
       "Big Data Engineer               8\n",
       "Machine Learning Scientist      8\n",
       "Data Science Consultant         7\n",
       "Name: job_title, dtype: int64"
      ]
     },
     "execution_count": 505,
     "metadata": {},
     "output_type": "execute_result"
    }
   ],
   "source": [
    "temp = df['employee_residence'].value_counts().nsmallest(47).keys().tolist()\n",
    "en_df['employee_residence']=pd.DataFrame(np.where(df['employee_residence'].isin(temp),'others',df['employee_residence']))\n",
    "print(en_df['employee_residence'].value_counts())\n",
    "print('----------------------------------------------------------')\n",
    "\n",
    "temp = df['company_location'].value_counts().nsmallest(40).keys().tolist()\n",
    "en_df['company_location']=pd.DataFrame(np.where(df['company_location'].isin(temp),'others',df['company_location']))\n",
    "print(en_df['company_location'].value_counts())\n",
    "print('----------------------------------------------------------')\n",
    "\n",
    "temp = df['job_title'].value_counts().nsmallest(40).keys().tolist()\n",
    "en_df['job_title']=pd.DataFrame(np.where(df['job_title'].isin(temp),'others',df['job_title']))\n",
    "en_df['job_title'].value_counts()"
   ]
  },
  {
   "cell_type": "code",
   "execution_count": 506,
   "metadata": {},
   "outputs": [],
   "source": [
    "en_cat_cols = en_df.select_dtypes(include = 'object').columns"
   ]
  },
  {
   "cell_type": "code",
   "execution_count": 507,
   "metadata": {},
   "outputs": [
    {
     "name": "stdout",
     "output_type": "stream",
     "text": [
      "job_title\n",
      "Data Scientist                143\n",
      "others                        132\n",
      "Data Engineer                 132\n",
      "Data Analyst                   97\n",
      "Machine Learning Engineer      41\n",
      "Research Scientist             16\n",
      "Data Science Manager           12\n",
      "Data Architect                 11\n",
      "Big Data Engineer               8\n",
      "Machine Learning Scientist      8\n",
      "Data Science Consultant         7\n",
      "Name: job_title, dtype: int64\n",
      "\n",
      "employee_residence\n",
      "US        332\n",
      "others     88\n",
      "GB         44\n",
      "IN         30\n",
      "CA         29\n",
      "DE         25\n",
      "FR         18\n",
      "ES         15\n",
      "GR         13\n",
      "JP          7\n",
      "PK          6\n",
      "Name: employee_residence, dtype: int64\n",
      "\n",
      "company_location\n",
      "US        355\n",
      "others     73\n",
      "GB         47\n",
      "CA         30\n",
      "DE         28\n",
      "IN         24\n",
      "FR         15\n",
      "ES         14\n",
      "GR         11\n",
      "JP          6\n",
      "NL          4\n",
      "Name: company_location, dtype: int64\n",
      "\n"
     ]
    }
   ],
   "source": [
    "for i in en_cat_cols:\n",
    "    print(i)\n",
    "    print(en_df[i].value_counts())\n",
    "    print()"
   ]
  },
  {
   "cell_type": "code",
   "execution_count": 508,
   "metadata": {},
   "outputs": [],
   "source": [
    "from sklearn.preprocessing import LabelEncoder\n",
    "for i in en_cat_cols:\n",
    "    label_encoding=LabelEncoder()\n",
    "    en_df[i]=label_encoding.fit_transform(en_df[i])"
   ]
  },
  {
   "cell_type": "code",
   "execution_count": 509,
   "metadata": {
    "scrolled": false
   },
   "outputs": [
    {
     "name": "stdout",
     "output_type": "stream",
     "text": [
      "job_title\n",
      "6     143\n",
      "10    132\n",
      "3     132\n",
      "1      97\n",
      "7      41\n",
      "9      16\n",
      "5      12\n",
      "2      11\n",
      "8       8\n",
      "0       8\n",
      "4       7\n",
      "Name: job_title, dtype: int64\n",
      "\n",
      "employee_residence\n",
      "9     332\n",
      "10     88\n",
      "4      44\n",
      "6      30\n",
      "0      29\n",
      "1      25\n",
      "3      18\n",
      "2      15\n",
      "5      13\n",
      "7       7\n",
      "8       6\n",
      "Name: employee_residence, dtype: int64\n",
      "\n",
      "company_location\n",
      "9     355\n",
      "10     73\n",
      "4      47\n",
      "0      30\n",
      "1      28\n",
      "6      24\n",
      "3      15\n",
      "2      14\n",
      "5      11\n",
      "7       6\n",
      "8       4\n",
      "Name: company_location, dtype: int64\n",
      "\n"
     ]
    }
   ],
   "source": [
    "for i in en_cat_cols:\n",
    "    print(i)\n",
    "    print(en_df[i].value_counts())\n",
    "    print()"
   ]
  },
  {
   "cell_type": "code",
   "execution_count": 510,
   "metadata": {},
   "outputs": [
    {
     "data": {
      "text/plain": [
       "((485, 7), (122, 7), (485,), (122,))"
      ]
     },
     "execution_count": 510,
     "metadata": {},
     "output_type": "execute_result"
    }
   ],
   "source": [
    "from sklearn.model_selection import train_test_split\n",
    "inputs=en_df.drop('salary_in_usd',axis=1)\n",
    "outputs=en_df['salary_in_usd']\n",
    "x_train,x_test,y_train,y_test = train_test_split(inputs,outputs, test_size =0.2, random_state=0)\n",
    "x_train.shape,x_test.shape,y_train.shape,y_test.shape"
   ]
  },
  {
   "cell_type": "code",
   "execution_count": 511,
   "metadata": {
    "scrolled": true
   },
   "outputs": [
    {
     "data": {
      "text/html": [
       "<div>\n",
       "<style scoped>\n",
       "    .dataframe tbody tr th:only-of-type {\n",
       "        vertical-align: middle;\n",
       "    }\n",
       "\n",
       "    .dataframe tbody tr th {\n",
       "        vertical-align: top;\n",
       "    }\n",
       "\n",
       "    .dataframe thead th {\n",
       "        text-align: right;\n",
       "    }\n",
       "</style>\n",
       "<table border=\"1\" class=\"dataframe\">\n",
       "  <thead>\n",
       "    <tr style=\"text-align: right;\">\n",
       "      <th></th>\n",
       "      <th>work_year</th>\n",
       "      <th>experience_level</th>\n",
       "      <th>job_title</th>\n",
       "      <th>employee_residence</th>\n",
       "      <th>remote_ratio</th>\n",
       "      <th>company_location</th>\n",
       "      <th>company_size</th>\n",
       "    </tr>\n",
       "  </thead>\n",
       "  <tbody>\n",
       "    <tr>\n",
       "      <th>work_year</th>\n",
       "      <td>1.000000</td>\n",
       "      <td>0.277064</td>\n",
       "      <td>-0.248598</td>\n",
       "      <td>0.067211</td>\n",
       "      <td>0.064098</td>\n",
       "      <td>0.062272</td>\n",
       "      <td>-0.114427</td>\n",
       "    </tr>\n",
       "    <tr>\n",
       "      <th>experience_level</th>\n",
       "      <td>0.277064</td>\n",
       "      <td>1.000000</td>\n",
       "      <td>0.035647</td>\n",
       "      <td>0.117921</td>\n",
       "      <td>0.049182</td>\n",
       "      <td>0.123207</td>\n",
       "      <td>0.065400</td>\n",
       "    </tr>\n",
       "    <tr>\n",
       "      <th>job_title</th>\n",
       "      <td>-0.248598</td>\n",
       "      <td>0.035647</td>\n",
       "      <td>1.000000</td>\n",
       "      <td>-0.034173</td>\n",
       "      <td>-0.067950</td>\n",
       "      <td>-0.028862</td>\n",
       "      <td>0.082351</td>\n",
       "    </tr>\n",
       "    <tr>\n",
       "      <th>employee_residence</th>\n",
       "      <td>0.067211</td>\n",
       "      <td>0.117921</td>\n",
       "      <td>-0.034173</td>\n",
       "      <td>1.000000</td>\n",
       "      <td>0.058731</td>\n",
       "      <td>0.878639</td>\n",
       "      <td>-0.013337</td>\n",
       "    </tr>\n",
       "    <tr>\n",
       "      <th>remote_ratio</th>\n",
       "      <td>0.064098</td>\n",
       "      <td>0.049182</td>\n",
       "      <td>-0.067950</td>\n",
       "      <td>0.058731</td>\n",
       "      <td>1.000000</td>\n",
       "      <td>0.046161</td>\n",
       "      <td>-0.058827</td>\n",
       "    </tr>\n",
       "    <tr>\n",
       "      <th>company_location</th>\n",
       "      <td>0.062272</td>\n",
       "      <td>0.123207</td>\n",
       "      <td>-0.028862</td>\n",
       "      <td>0.878639</td>\n",
       "      <td>0.046161</td>\n",
       "      <td>1.000000</td>\n",
       "      <td>-0.011968</td>\n",
       "    </tr>\n",
       "    <tr>\n",
       "      <th>company_size</th>\n",
       "      <td>-0.114427</td>\n",
       "      <td>0.065400</td>\n",
       "      <td>0.082351</td>\n",
       "      <td>-0.013337</td>\n",
       "      <td>-0.058827</td>\n",
       "      <td>-0.011968</td>\n",
       "      <td>1.000000</td>\n",
       "    </tr>\n",
       "  </tbody>\n",
       "</table>\n",
       "</div>"
      ],
      "text/plain": [
       "                    work_year  experience_level  job_title  \\\n",
       "work_year            1.000000          0.277064  -0.248598   \n",
       "experience_level     0.277064          1.000000   0.035647   \n",
       "job_title           -0.248598          0.035647   1.000000   \n",
       "employee_residence   0.067211          0.117921  -0.034173   \n",
       "remote_ratio         0.064098          0.049182  -0.067950   \n",
       "company_location     0.062272          0.123207  -0.028862   \n",
       "company_size        -0.114427          0.065400   0.082351   \n",
       "\n",
       "                    employee_residence  remote_ratio  company_location  \\\n",
       "work_year                     0.067211      0.064098          0.062272   \n",
       "experience_level              0.117921      0.049182          0.123207   \n",
       "job_title                    -0.034173     -0.067950         -0.028862   \n",
       "employee_residence            1.000000      0.058731          0.878639   \n",
       "remote_ratio                  0.058731      1.000000          0.046161   \n",
       "company_location              0.878639      0.046161          1.000000   \n",
       "company_size                 -0.013337     -0.058827         -0.011968   \n",
       "\n",
       "                    company_size  \n",
       "work_year              -0.114427  \n",
       "experience_level        0.065400  \n",
       "job_title               0.082351  \n",
       "employee_residence     -0.013337  \n",
       "remote_ratio           -0.058827  \n",
       "company_location       -0.011968  \n",
       "company_size            1.000000  "
      ]
     },
     "execution_count": 511,
     "metadata": {},
     "output_type": "execute_result"
    }
   ],
   "source": [
    "x_train.corr()"
   ]
  },
  {
   "cell_type": "code",
   "execution_count": 512,
   "metadata": {
    "scrolled": true
   },
   "outputs": [
    {
     "data": {
      "image/png": "[encoded data removed]",
      "text/plain": [
       "<Figure size 432x288 with 2 Axes>"
      ]
     },
     "metadata": {
      "needs_background": "light"
     },
     "output_type": "display_data"
    }
   ],
   "source": [
    "sns.heatmap(x_train.corr(), annot=True)\n",
    "plt.show()"
   ]
  },
  {
   "cell_type": "markdown",
   "metadata": {},
   "source": [
    "#### Inference: We can drop employee_residence column w.r.t to  threshold being 0.8."
   ]
  },
  {
   "cell_type": "code",
   "execution_count": 513,
   "metadata": {
    "scrolled": true
   },
   "outputs": [
    {
     "name": "stdout",
     "output_type": "stream",
     "text": [
      "(607, 8)\n"
     ]
    },
    {
     "data": {
      "text/plain": [
       "(607, 7)"
      ]
     },
     "execution_count": 513,
     "metadata": {},
     "output_type": "execute_result"
    }
   ],
   "source": [
    "print(en_df.shape)\n",
    "en_df.drop('employee_residence', axis=1, inplace=True)\n",
    "en_df.shape"
   ]
  },
  {
   "cell_type": "markdown",
   "metadata": {},
   "source": [
    "# Model building"
   ]
  },
  {
   "cell_type": "code",
   "execution_count": 514,
   "metadata": {},
   "outputs": [],
   "source": [
    "models=['Linear Regression','Lasso','Ridge']\n",
    "r2_scoree=[]\n",
    "MeanAbsoluteErrors=[]\n",
    "MeanSquareErrors=[]\n",
    "RootMeanSquareErrors=[]"
   ]
  },
  {
   "cell_type": "code",
   "execution_count": 515,
   "metadata": {},
   "outputs": [],
   "source": [
    "def MeanAbsoluteError(prediction,y_test):\n",
    "    new_df=pd.DataFrame({'prediction':prediction.tolist(), 'y_test':y_test.values.tolist()})\n",
    "    new_df['result']=abs(new_df['prediction'] - new_df['y_test'])\n",
    "    return new_df['result'].sum()/len(new_df['result'])"
   ]
  },
  {
   "cell_type": "code",
   "execution_count": 516,
   "metadata": {},
   "outputs": [],
   "source": [
    "def MeanSquareError(perdiction,y_test):\n",
    "    new_df=pd.DataFrame({'prediction':prediction.tolist(), 'y_test':y_test.values.tolist()})\n",
    "    new_df['result'] = (new_df['prediction'] - new_df['y_test'])**2\n",
    "    return new_df['result'].sum()/len(new_df['result'])"
   ]
  },
  {
   "cell_type": "code",
   "execution_count": 517,
   "metadata": {},
   "outputs": [],
   "source": [
    "def RootMeanSquareError(perdiction,y_test):\n",
    "    new_df=pd.DataFrame({'prediction':prediction.tolist(), 'y_test':y_test.values.tolist()})\n",
    "    new_df['result'] = (new_df['prediction'] - new_df['y_test'])**2\n",
    "    return (new_df['result'].sum()/len(new_df['result']))**0.5"
   ]
  },
  {
   "cell_type": "code",
   "execution_count": 524,
   "metadata": {},
   "outputs": [],
   "source": [
    "from sklearn.linear_model import LinearRegression\n",
    "from sklearn.metrics import r2_score\n",
    "lr = LinearRegression()\n",
    "lr.fit(x_train,y_train)\n",
    "prediction = lr.predict(x_test)"
   ]
  },
  {
   "cell_type": "code",
   "execution_count": 519,
   "metadata": {},
   "outputs": [],
   "source": [
    "r2_scoree.append(r2_score(y_test,prediction))\n",
    "MeanSquareErrors.append(MeanSquareError(prediction,y_test))\n",
    "MeanAbsoluteErrors.append(MeanAbsoluteError(prediction,y_test))\n",
    "RootMeanSquareErrors.append(RootMeanSquareError(prediction,y_test))"
   ]
  },
  {
   "cell_type": "code",
   "execution_count": 545,
   "metadata": {},
   "outputs": [],
   "source": [
    "from sklearn.linear_model import Lasso\n",
    "La = Lasso()\n",
    "La.fit(x_train,y_train)\n",
    "prediction = La.predict(x_test)"
   ]
  },
  {
   "cell_type": "code",
   "execution_count": 546,
   "metadata": {},
   "outputs": [],
   "source": [
    "r2_scoree.append(r2_score(y_test,prediction))\n",
    "MeanSquareErrors.append(MeanSquareError(prediction,y_test))\n",
    "MeanAbsoluteErrors.append(MeanAbsoluteError(prediction,y_test))\n",
    "RootMeanSquareErrors.append(RootMeanSquareError(prediction,y_test))"
   ]
  },
  {
   "cell_type": "code",
   "execution_count": 548,
   "metadata": {},
   "outputs": [],
   "source": [
    "from sklearn.linear_model import Ridge\n",
    "Rg = Ridge()\n",
    "Rg.fit(x_train,y_train)\n",
    "prediction = Rg.predict(x_test)"
   ]
  },
  {
   "cell_type": "code",
   "execution_count": 549,
   "metadata": {},
   "outputs": [],
   "source": [
    "r2_scoree.append(r2_score(y_test,prediction))\n",
    "MeanSquareErrors.append(MeanSquareError(prediction,y_test))\n",
    "MeanAbsoluteErrors.append(MeanAbsoluteError(prediction,y_test))\n",
    "RootMeanSquareErrors.append(RootMeanSquareError(prediction,y_test))"
   ]
  },
  {
   "cell_type": "code",
   "execution_count": 550,
   "metadata": {},
   "outputs": [
    {
     "data": {
      "text/plain": [
       "([0.3274327419876092, 0.327441988190056, 0.32756660528798875],\n",
       " [37301.116790117725, 37300.97707175989, 37302.75494668245],\n",
       " [2539974719.547373, 2539939800.9274325, 2539469179.9232106],\n",
       " [50398.16186675237, 50397.81543804684, 50393.146160199314])"
      ]
     },
     "execution_count": 550,
     "metadata": {},
     "output_type": "execute_result"
    }
   ],
   "source": [
    "r2_scoree, MeanAbsoluteErrors, MeanSquareErrors, RootMeanSquareErrors"
   ]
  },
  {
   "cell_type": "markdown",
   "metadata": {},
   "source": [
    "# Metrics"
   ]
  },
  {
   "cell_type": "code",
   "execution_count": 551,
   "metadata": {},
   "outputs": [
    {
     "data": {
      "text/html": [
       "<div>\n",
       "<style scoped>\n",
       "    .dataframe tbody tr th:only-of-type {\n",
       "        vertical-align: middle;\n",
       "    }\n",
       "\n",
       "    .dataframe tbody tr th {\n",
       "        vertical-align: top;\n",
       "    }\n",
       "\n",
       "    .dataframe thead th {\n",
       "        text-align: right;\n",
       "    }\n",
       "</style>\n",
       "<table border=\"1\" class=\"dataframe\">\n",
       "  <thead>\n",
       "    <tr style=\"text-align: right;\">\n",
       "      <th></th>\n",
       "      <th>models</th>\n",
       "      <th>r2_score</th>\n",
       "      <th>MeanAbsoluteError</th>\n",
       "      <th>MeanSquareError</th>\n",
       "      <th>RootMeanSquareErrors</th>\n",
       "    </tr>\n",
       "  </thead>\n",
       "  <tbody>\n",
       "    <tr>\n",
       "      <th>0</th>\n",
       "      <td>Linear Regression</td>\n",
       "      <td>0.327433</td>\n",
       "      <td>37301.116790</td>\n",
       "      <td>2.539975e+09</td>\n",
       "      <td>50398.161867</td>\n",
       "    </tr>\n",
       "    <tr>\n",
       "      <th>1</th>\n",
       "      <td>Lasso</td>\n",
       "      <td>0.327442</td>\n",
       "      <td>37300.977072</td>\n",
       "      <td>2.539940e+09</td>\n",
       "      <td>50397.815438</td>\n",
       "    </tr>\n",
       "    <tr>\n",
       "      <th>2</th>\n",
       "      <td>Ridge</td>\n",
       "      <td>0.327567</td>\n",
       "      <td>37302.754947</td>\n",
       "      <td>2.539469e+09</td>\n",
       "      <td>50393.146160</td>\n",
       "    </tr>\n",
       "  </tbody>\n",
       "</table>\n",
       "</div>"
      ],
      "text/plain": [
       "              models  r2_score  MeanAbsoluteError  MeanSquareError  \\\n",
       "0  Linear Regression  0.327433       37301.116790     2.539975e+09   \n",
       "1              Lasso  0.327442       37300.977072     2.539940e+09   \n",
       "2              Ridge  0.327567       37302.754947     2.539469e+09   \n",
       "\n",
       "   RootMeanSquareErrors  \n",
       "0          50398.161867  \n",
       "1          50397.815438  \n",
       "2          50393.146160  "
      ]
     },
     "execution_count": 551,
     "metadata": {},
     "output_type": "execute_result"
    }
   ],
   "source": [
    "metric_df = pd.DataFrame({'models':models, 'r2_score':r2_scoree, 'MeanAbsoluteError':MeanAbsoluteErrors, 'MeanSquareError':MeanSquareErrors, 'RootMeanSquareErrors':RootMeanSquareErrors})\n",
    "metric_df"
   ]
  },
  {
   "cell_type": "code",
   "execution_count": null,
   "metadata": {},
   "outputs": [],
   "source": [
    "# explain which model does it better "
   ]
  },
  {
   "cell_type": "markdown",
   "metadata": {},
   "source": [
    "# GridSearch CV"
   ]
  },
  {
   "cell_type": "code",
   "execution_count": null,
   "metadata": {},
   "outputs": [],
   "source": [
    "# implement grid search for the best model, recommend best hyperparameters"
   ]
  }
 ],
 "metadata": {
  "kernelspec": {
   "display_name": "Python 3",
   "language": "python",
   "name": "python3"
  },
  "language_info": {
   "codemirror_mode": {
    "name": "ipython",
    "version": 3
   },
   "file_extension": ".py",
   "mimetype": "text/x-python",
   "name": "python",
   "nbconvert_exporter": "python",
   "pygments_lexer": "ipython3",
   "version": "3.8.5"
  }
 },
 "nbformat": 4,
 "nbformat_minor": 5
}
